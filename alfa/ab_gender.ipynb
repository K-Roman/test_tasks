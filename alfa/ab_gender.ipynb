{
 "cells": [
  {
   "cell_type": "markdown",
   "id": "af100ce2",
   "metadata": {},
   "source": [
    "### Описание задачи\n",
    "Одним из самых ценных источников информации о клиенте являются данные о банковских транзакциях. В этом соревновании участникам предлагается ответить на вопрос: возможно ли предсказать пол клиента, используя сведения о поступлениях и тратах по банковской карте? И если возможно, то какая точность такого предсказания?\n",
    "\n",
    "### Формальная постановка задачи\n",
    "Необходимо предсказать вероятность пола \"1\" для каждого \"customerid\", который присутствует в файле gender_test_kaggle_sample_submission.csv.\n",
    "\n",
    "### Метрика качества\n",
    "В качестве метрики качества предсказания была выбрана ROC AUC (area under the receiver operating characteristic curve).\n",
    "\n",
    "\n",
    "### File descriptions\n",
    "transactions.csv - таблица содержит историю транзакций клиентов банка за один год и три месяца.\n",
    "\n",
    "gender_train.csv - таблица содержит информацию по полу для части клиентов, для которых он известен.\n",
    "\n",
    "tr_mcc_codes.csv - таблица содержит описание mcc-кодов транзакций.\n",
    "\n",
    "tr_types.csv - таблица содержит описание типов транзакций.\n",
    "\n",
    "gender_test_kaggle_sample_submission.csv - пример файла для загрузки решения.\n",
    "### Data fields\n",
    "#### transactions.csv\n",
    "customer_id - идентификатор клиента\n",
    "\n",
    "tr_datetime - день и время совершения транзакции (дни нумеруются с начала данных)\n",
    "\n",
    "mcc_code - mcc-код транзакции\n",
    "\n",
    "tr_type - тип транзакции\n",
    "\n",
    "amount - сумма транзакции в условных единицах; со знаком \"+\" — начисление средств клиенту (приходная транзакция), \"-\" — списание средств (расходная транзакция)\n",
    "\n",
    "term_id - идентификатор терминала\n",
    "#### gender_train.csv\n",
    "customer_id - идентификатор клиента\n",
    "\n",
    "gender - пол клиента\n",
    "#### tr_mcc_codes.csv\n",
    "mcc_code - mcc-код транзакции\n",
    "\n",
    "mcc_description - описание mcc-кода транзакции\n",
    "#### tr_types.csv\n",
    "tr_type - тип транзакции\n",
    "\n",
    "tr_description - описание типа транзакции\n",
    "\n",
    "#### gender_test_kaggle_sample_submission.csv\n",
    "\n",
    "customer_id - идентификатор клиента\n",
    "\n",
    "probability - вероятность принадлежности к полу \"1\""
   ]
  },
  {
   "cell_type": "code",
   "execution_count": 1,
   "id": "741a4de4",
   "metadata": {},
   "outputs": [],
   "source": [
    "import matplotlib.pyplot as plt\n",
    "import pandas as pd\n",
    "import numpy as np\n",
    "from sklearn.model_selection import train_test_split\n",
    "from catboost import CatBoostClassifier, cv, Pool\n",
    "from sklearn.metrics import roc_curve,accuracy_score, roc_auc_score, confusion_matrix, f1_score\n",
    "\n",
    "from tqdm.notebook import tqdm\n",
    "tqdm.pandas()\n",
    "\n",
    "import re\n",
    "\n",
    "from tqdm.notebook import tqdm_notebook\n",
    "\n",
    "import seaborn as sns\n",
    "import scipy"
   ]
  },
  {
   "cell_type": "markdown",
   "id": "2a0cc092",
   "metadata": {},
   "source": [
    "### Знакомство с данными"
   ]
  },
  {
   "cell_type": "code",
   "execution_count": 2,
   "id": "f3be7c1d",
   "metadata": {},
   "outputs": [],
   "source": [
    "# читаем данные\n",
    "gender_train = pd.read_csv('D:/Files/alfa/gender_train.csv')\n",
    "tr_mcc_codes = pd.read_csv('D:/Files/alfa/tr_mcc_codes.csv', sep=';')\n",
    "tr_types = pd.read_csv('D:/Files/alfa/tr_types.csv', sep=';')\n",
    "transactions = pd.read_csv('D:/Files/alfa/transactions.csv', sep=',')\n",
    "gender_test = pd.read_csv('D:/Files/alfa/gender_test_kaggle_sample_submission.csv')"
   ]
  },
  {
   "cell_type": "markdown",
   "id": "7e7bc9cc",
   "metadata": {},
   "source": [
    "### Сводные таблицы"
   ]
  },
  {
   "cell_type": "code",
   "execution_count": 3,
   "id": "ad62af02",
   "metadata": {},
   "outputs": [],
   "source": [
    "df_train = transactions.merge(gender_train, on='customer_id', how='left')\n",
    "df_test = df_train .query('customer_id in @gender_test.customer_id')\n",
    "df_test = df_test.drop('gender', axis=1)\n",
    "df_test = df_test.set_index('customer_id')\n",
    "gender_train = gender_train.set_index('customer_id')\n",
    "df_train = df_train.set_index('customer_id')"
   ]
  },
  {
   "cell_type": "code",
   "execution_count": 4,
   "id": "692e8af5",
   "metadata": {},
   "outputs": [
    {
     "data": {
      "text/html": [
       "<div>\n",
       "<style scoped>\n",
       "    .dataframe tbody tr th:only-of-type {\n",
       "        vertical-align: middle;\n",
       "    }\n",
       "\n",
       "    .dataframe tbody tr th {\n",
       "        vertical-align: top;\n",
       "    }\n",
       "\n",
       "    .dataframe thead th {\n",
       "        text-align: right;\n",
       "    }\n",
       "</style>\n",
       "<table border=\"1\" class=\"dataframe\">\n",
       "  <thead>\n",
       "    <tr style=\"text-align: right;\">\n",
       "      <th></th>\n",
       "      <th>tr_datetime</th>\n",
       "      <th>mcc_code</th>\n",
       "      <th>tr_type</th>\n",
       "      <th>amount</th>\n",
       "      <th>term_id</th>\n",
       "      <th>gender</th>\n",
       "    </tr>\n",
       "    <tr>\n",
       "      <th>customer_id</th>\n",
       "      <th></th>\n",
       "      <th></th>\n",
       "      <th></th>\n",
       "      <th></th>\n",
       "      <th></th>\n",
       "      <th></th>\n",
       "    </tr>\n",
       "  </thead>\n",
       "  <tbody>\n",
       "    <tr>\n",
       "      <th>39026145</th>\n",
       "      <td>0 10:23:26</td>\n",
       "      <td>4814</td>\n",
       "      <td>1030</td>\n",
       "      <td>-2245.92</td>\n",
       "      <td>NaN</td>\n",
       "      <td>1.0</td>\n",
       "    </tr>\n",
       "    <tr>\n",
       "      <th>39026145</th>\n",
       "      <td>1 10:19:29</td>\n",
       "      <td>6011</td>\n",
       "      <td>7010</td>\n",
       "      <td>56147.89</td>\n",
       "      <td>NaN</td>\n",
       "      <td>1.0</td>\n",
       "    </tr>\n",
       "    <tr>\n",
       "      <th>39026145</th>\n",
       "      <td>1 10:20:56</td>\n",
       "      <td>4829</td>\n",
       "      <td>2330</td>\n",
       "      <td>-56147.89</td>\n",
       "      <td>NaN</td>\n",
       "      <td>1.0</td>\n",
       "    </tr>\n",
       "    <tr>\n",
       "      <th>39026145</th>\n",
       "      <td>1 10:39:54</td>\n",
       "      <td>5499</td>\n",
       "      <td>1010</td>\n",
       "      <td>-1392.47</td>\n",
       "      <td>NaN</td>\n",
       "      <td>1.0</td>\n",
       "    </tr>\n",
       "    <tr>\n",
       "      <th>39026145</th>\n",
       "      <td>2 15:33:42</td>\n",
       "      <td>5499</td>\n",
       "      <td>1010</td>\n",
       "      <td>-920.83</td>\n",
       "      <td>NaN</td>\n",
       "      <td>1.0</td>\n",
       "    </tr>\n",
       "    <tr>\n",
       "      <th>...</th>\n",
       "      <td>...</td>\n",
       "      <td>...</td>\n",
       "      <td>...</td>\n",
       "      <td>...</td>\n",
       "      <td>...</td>\n",
       "      <td>...</td>\n",
       "    </tr>\n",
       "    <tr>\n",
       "      <th>61870738</th>\n",
       "      <td>453 16:03:02</td>\n",
       "      <td>5499</td>\n",
       "      <td>1010</td>\n",
       "      <td>-5176.84</td>\n",
       "      <td>10217113</td>\n",
       "      <td>0.0</td>\n",
       "    </tr>\n",
       "    <tr>\n",
       "      <th>61870738</th>\n",
       "      <td>454 10:54:60</td>\n",
       "      <td>5411</td>\n",
       "      <td>1010</td>\n",
       "      <td>-1652.77</td>\n",
       "      <td>022915</td>\n",
       "      <td>0.0</td>\n",
       "    </tr>\n",
       "    <tr>\n",
       "      <th>61870738</th>\n",
       "      <td>454 14:23:59</td>\n",
       "      <td>5499</td>\n",
       "      <td>1010</td>\n",
       "      <td>-4687.23</td>\n",
       "      <td>10217113</td>\n",
       "      <td>0.0</td>\n",
       "    </tr>\n",
       "    <tr>\n",
       "      <th>61870738</th>\n",
       "      <td>454 16:11:53</td>\n",
       "      <td>5541</td>\n",
       "      <td>1110</td>\n",
       "      <td>-4491.83</td>\n",
       "      <td>RU570124</td>\n",
       "      <td>0.0</td>\n",
       "    </tr>\n",
       "    <tr>\n",
       "      <th>61870738</th>\n",
       "      <td>454 18:06:30</td>\n",
       "      <td>6011</td>\n",
       "      <td>7010</td>\n",
       "      <td>408756.67</td>\n",
       "      <td>372701</td>\n",
       "      <td>0.0</td>\n",
       "    </tr>\n",
       "  </tbody>\n",
       "</table>\n",
       "<p>6849346 rows × 6 columns</p>\n",
       "</div>"
      ],
      "text/plain": [
       "              tr_datetime  mcc_code  tr_type     amount   term_id  gender\n",
       "customer_id                                                              \n",
       "39026145       0 10:23:26      4814     1030   -2245.92       NaN     1.0\n",
       "39026145       1 10:19:29      6011     7010   56147.89       NaN     1.0\n",
       "39026145       1 10:20:56      4829     2330  -56147.89       NaN     1.0\n",
       "39026145       1 10:39:54      5499     1010   -1392.47       NaN     1.0\n",
       "39026145       2 15:33:42      5499     1010    -920.83       NaN     1.0\n",
       "...                   ...       ...      ...        ...       ...     ...\n",
       "61870738     453 16:03:02      5499     1010   -5176.84  10217113     0.0\n",
       "61870738     454 10:54:60      5411     1010   -1652.77    022915     0.0\n",
       "61870738     454 14:23:59      5499     1010   -4687.23  10217113     0.0\n",
       "61870738     454 16:11:53      5541     1110   -4491.83  RU570124     0.0\n",
       "61870738     454 18:06:30      6011     7010  408756.67    372701     0.0\n",
       "\n",
       "[6849346 rows x 6 columns]"
      ]
     },
     "execution_count": 4,
     "metadata": {},
     "output_type": "execute_result"
    }
   ],
   "source": [
    "df_train"
   ]
  },
  {
   "cell_type": "code",
   "execution_count": 5,
   "id": "ef0d0cf3",
   "metadata": {},
   "outputs": [
    {
     "name": "stdout",
     "output_type": "stream",
     "text": [
      "<class 'pandas.core.frame.DataFrame'>\n",
      "Int64Index: 6849346 entries, 39026145 to 61870738\n",
      "Data columns (total 6 columns):\n",
      " #   Column       Dtype  \n",
      "---  ------       -----  \n",
      " 0   tr_datetime  object \n",
      " 1   mcc_code     int64  \n",
      " 2   tr_type      int64  \n",
      " 3   amount       float64\n",
      " 4   term_id      object \n",
      " 5   gender       float64\n",
      "dtypes: float64(2), int64(2), object(2)\n",
      "memory usage: 365.8+ MB\n"
     ]
    }
   ],
   "source": [
    "df_train.info()"
   ]
  },
  {
   "cell_type": "markdown",
   "id": "5fdb2714",
   "metadata": {},
   "source": [
    "### Графики"
   ]
  },
  {
   "cell_type": "code",
   "execution_count": 6,
   "id": "b5c35e83",
   "metadata": {},
   "outputs": [
    {
     "data": {
      "text/plain": [
       "Text(0.5, 0, 'Пол клиента')"
      ]
     },
     "execution_count": 6,
     "metadata": {},
     "output_type": "execute_result"
    },
    {
     "data": {
      "image/png": "[encoded data removed]",
      "text/plain": [
       "<Figure size 360x720 with 1 Axes>"
      ]
     },
     "metadata": {},
     "output_type": "display_data"
    }
   ],
   "source": [
    "#построим ящики с усами \n",
    "sns.set_theme(style=\"whitegrid\")\n",
    "plt.figure(figsize=(5,10))\n",
    "\n",
    "sns.boxplot(x='gender', y='amount',data=df_train, palette=\"Set2\", linewidth=2.5)\n",
    "plt.title('Распределение сумм транзакций в зависимости от пола')\n",
    "plt.ylabel('Сумма, млн.шт.')\n",
    "plt.xlabel('Пол клиента')\n"
   ]
  },
  {
   "cell_type": "code",
   "execution_count": 7,
   "id": "d7395c62",
   "metadata": {},
   "outputs": [
    {
     "data": {
      "text/plain": [
       "Text(0.5, 0, 'Пол клиента')"
      ]
     },
     "execution_count": 7,
     "metadata": {},
     "output_type": "execute_result"
    },
    {
     "data": {
      "image/png": "[encoded data removed]",
      "text/plain": [
       "<Figure size 360x720 with 1 Axes>"
      ]
     },
     "metadata": {},
     "output_type": "display_data"
    }
   ],
   "source": [
    "#построим ящики с усами предварительно обрезав выбросы\n",
    "sns.set_theme(style=\"whitegrid\")\n",
    "plt.figure(figsize=(5,10))\n",
    "\n",
    "sns.boxplot(x='gender', y='amount',data=df_train[(df_train['amount']>-50000) & (df_train['amount']<50000)], palette=\"Set2\", linewidth=2.5)\n",
    "plt.title('Распределение сумм транзакций в зависимости от пола')\n",
    "plt.ylabel('Сумма, млн.шт.')\n",
    "plt.xlabel('Пол клиента')"
   ]
  },
  {
   "cell_type": "code",
   "execution_count": 8,
   "id": "3c0c2889",
   "metadata": {},
   "outputs": [
    {
     "data": {
      "image/png": "[encoded data removed]",
      "text/plain": [
       "<Figure size 1080x432 with 1 Axes>"
      ]
     },
     "metadata": {},
     "output_type": "display_data"
    }
   ],
   "source": [
    "a = df_train[(df_train['gender']==1) & (df_train['amount']<0)].groupby('mcc_code')['mcc_code'].count().sort_values(ascending=False).head(25)\n",
    "b = df_train[(df_train['gender']==0) & (df_train['amount']<0)].groupby('mcc_code')['mcc_code'].count().sort_values(ascending=False).head(25)\n",
    "list_names = list(a.index)\n",
    "name_b = list(b.index)\n",
    "list_names.extend(name_b)\n",
    "list_names = list(set(list_names))\n",
    "a = df_train[(df_train['gender']==1) & (df_train['amount']<0)].groupby('mcc_code')['mcc_code'].count().sort_values(ascending=False)[list_names]\n",
    "b = df_train[(df_train['gender']==0) & (df_train['amount']<0)].groupby('mcc_code')['mcc_code'].count().sort_values(ascending=False)[list_names]\n",
    "\n",
    "ax = a.plot(kind='bar',grid=True, rot=45, figsize=(15,6), color='g', alpha=0.7)\n",
    "# plt.ylabel('Количество проданных копий, млн.шт.')\n",
    "# plt.xlabel('Платформа')\n",
    "# plt.show()\n",
    "\n",
    "b.plot(kind='bar',grid=True, title='Количество транзакций по 25-и самым популярным категориям', rot=45, figsize=(15,6), color='m', alpha=0.5, ax=ax)\n",
    "\n",
    "plt.ylabel('Количество')\n",
    "plt.xlabel('mcc-код транзакции')\n",
    "plt.legend(['Пол клиента 1','Пол клиента 0'])\n",
    "plt.show()"
   ]
  },
  {
   "cell_type": "code",
   "execution_count": 9,
   "id": "8a8dab68",
   "metadata": {},
   "outputs": [
    {
     "data": {
      "image/png": "[encoded data removed]",
      "text/plain": [
       "<Figure size 1080x432 with 1 Axes>"
      ]
     },
     "metadata": {},
     "output_type": "display_data"
    }
   ],
   "source": [
    "a = df_train[(df_train['gender']==1) & (df_train['amount']<0)].groupby('mcc_code')['amount'].mean().sort_values().head(25)\n",
    "b = df_train[(df_train['gender']==0) & (df_train['amount']<0)].groupby('mcc_code')['amount'].mean().sort_values().head(25)\n",
    "\n",
    "list_names = list(a.index)\n",
    "name_b = list(b.index)\n",
    "list_names.extend(name_b)\n",
    "list_names = list(set(list_names))\n",
    "a = -1*df_train[(df_train['gender']==1) & (df_train['amount']<0)].groupby('mcc_code')['amount'].mean()[list_names]\n",
    "b = -1*df_train[(df_train['gender']==0) & (df_train['amount']<0)].groupby('mcc_code')['amount'].mean()[list_names]\n",
    "\n",
    "ax = a.plot(kind='bar',grid=True, rot=45, figsize=(15,6), color='g', alpha=0.7)\n",
    "# plt.ylabel('Количество проданных копий, млн.шт.')\n",
    "# plt.xlabel('Платформа')\n",
    "# plt.show()\n",
    "\n",
    "b.plot(kind='bar',grid=True, title='Средняя сумма транзакции по 25-и самым популярным категориям', rot=45, figsize=(15,6), color='m', alpha=0.5, ax=ax)\n",
    "\n",
    "plt.ylabel('Сумма, руб.')\n",
    "plt.xlabel('mcc-код транзакции')\n",
    "plt.legend(['Пол клиента 1','Пол клиента 0'])\n",
    "plt.show()"
   ]
  },
  {
   "cell_type": "code",
   "execution_count": 10,
   "id": "5c35491e",
   "metadata": {},
   "outputs": [
    {
     "data": {
      "image/png": "[encoded data removed]",
      "text/plain": [
       "<Figure size 1080x432 with 1 Axes>"
      ]
     },
     "metadata": {},
     "output_type": "display_data"
    }
   ],
   "source": [
    "a = df_train[(df_train['gender']==1) & (df_train['amount']<0)].groupby('mcc_code')['amount'].sum().sort_values().head(25)\n",
    "b = df_train[(df_train['gender']==0) & (df_train['amount']<0)].groupby('mcc_code')['amount'].sum().sort_values().head(25)\n",
    "\n",
    "list_names = list(a.index)\n",
    "name_b = list(b.index)\n",
    "list_names.extend(name_b)\n",
    "list_names = list(set(list_names))\n",
    "a = -1*df_train[(df_train['gender']==1) & (df_train['amount']<0)].groupby('mcc_code')['amount'].sum()[list_names]\n",
    "b = -1*df_train[(df_train['gender']==0) & (df_train['amount']<0)].groupby('mcc_code')['amount'].sum()[list_names]\n",
    "\n",
    "ax = a.plot(kind='bar',grid=True, rot=45, figsize=(15,6), color='g', alpha=0.7)\n",
    "# plt.ylabel('Количество проданных копий, млн.шт.')\n",
    "# plt.xlabel('Платформа')\n",
    "# plt.show()\n",
    "\n",
    "b.plot(kind='bar',grid=True, title='Общая сумма транзакции по 25-и самым популярным категориям', rot=45, figsize=(15,6), color='m', alpha=0.5, ax=ax)\n",
    "\n",
    "plt.ylabel('Сумма, млн.руб.')\n",
    "plt.xlabel('mcc-код транзакции')\n",
    "plt.legend(['Пол клиента 1','Пол клиента 0'])\n",
    "plt.show()"
   ]
  },
  {
   "cell_type": "markdown",
   "id": "99fdc327",
   "metadata": {},
   "source": [
    "### Подготовка данных и генерация признаков"
   ]
  },
  {
   "cell_type": "code",
   "execution_count": 11,
   "id": "11ef3194",
   "metadata": {},
   "outputs": [],
   "source": [
    "df_train.dropna(subset=['gender'], inplace = True)"
   ]
  },
  {
   "cell_type": "code",
   "execution_count": 12,
   "id": "0aab14e9",
   "metadata": {},
   "outputs": [],
   "source": [
    "df_train = df_train.drop_duplicates()"
   ]
  },
  {
   "cell_type": "code",
   "execution_count": 13,
   "id": "d73b0f52",
   "metadata": {},
   "outputs": [
    {
     "name": "stderr",
     "output_type": "stream",
     "text": [
      "C:\\Users\\rk\\anaconda3\\envs\\Tens\\lib\\site-packages\\pandas\\core\\frame.py:3607: SettingWithCopyWarning: \n",
      "A value is trying to be set on a copy of a slice from a DataFrame.\n",
      "Try using .loc[row_indexer,col_indexer] = value instead\n",
      "\n",
      "See the caveats in the documentation: https://pandas.pydata.org/pandas-docs/stable/user_guide/indexing.html#returning-a-view-versus-a-copy\n",
      "  self._set_item(key, value)\n"
     ]
    },
    {
     "data": {
      "text/html": [
       "<div>\n",
       "<style scoped>\n",
       "    .dataframe tbody tr th:only-of-type {\n",
       "        vertical-align: middle;\n",
       "    }\n",
       "\n",
       "    .dataframe tbody tr th {\n",
       "        vertical-align: top;\n",
       "    }\n",
       "\n",
       "    .dataframe thead th {\n",
       "        text-align: right;\n",
       "    }\n",
       "</style>\n",
       "<table border=\"1\" class=\"dataframe\">\n",
       "  <thead>\n",
       "    <tr style=\"text-align: right;\">\n",
       "      <th></th>\n",
       "      <th>tr_datetime</th>\n",
       "      <th>mcc_code</th>\n",
       "      <th>tr_type</th>\n",
       "      <th>amount</th>\n",
       "      <th>term_id</th>\n",
       "      <th>gender</th>\n",
       "      <th>month</th>\n",
       "      <th>day</th>\n",
       "      <th>hour</th>\n",
       "      <th>night</th>\n",
       "    </tr>\n",
       "    <tr>\n",
       "      <th>customer_id</th>\n",
       "      <th></th>\n",
       "      <th></th>\n",
       "      <th></th>\n",
       "      <th></th>\n",
       "      <th></th>\n",
       "      <th></th>\n",
       "      <th></th>\n",
       "      <th></th>\n",
       "      <th></th>\n",
       "      <th></th>\n",
       "    </tr>\n",
       "  </thead>\n",
       "  <tbody>\n",
       "    <tr>\n",
       "      <th>39026145</th>\n",
       "      <td>0 10:23:26</td>\n",
       "      <td>4814</td>\n",
       "      <td>1030</td>\n",
       "      <td>-2245.92</td>\n",
       "      <td>NaN</td>\n",
       "      <td>1.0</td>\n",
       "      <td>0</td>\n",
       "      <td>0</td>\n",
       "      <td>10</td>\n",
       "      <td>-2</td>\n",
       "    </tr>\n",
       "    <tr>\n",
       "      <th>39026145</th>\n",
       "      <td>1 10:19:29</td>\n",
       "      <td>6011</td>\n",
       "      <td>7010</td>\n",
       "      <td>56147.89</td>\n",
       "      <td>NaN</td>\n",
       "      <td>1.0</td>\n",
       "      <td>0</td>\n",
       "      <td>1</td>\n",
       "      <td>10</td>\n",
       "      <td>-2</td>\n",
       "    </tr>\n",
       "    <tr>\n",
       "      <th>39026145</th>\n",
       "      <td>1 10:20:56</td>\n",
       "      <td>4829</td>\n",
       "      <td>2330</td>\n",
       "      <td>-56147.89</td>\n",
       "      <td>NaN</td>\n",
       "      <td>1.0</td>\n",
       "      <td>0</td>\n",
       "      <td>1</td>\n",
       "      <td>10</td>\n",
       "      <td>-2</td>\n",
       "    </tr>\n",
       "    <tr>\n",
       "      <th>39026145</th>\n",
       "      <td>1 10:39:54</td>\n",
       "      <td>5499</td>\n",
       "      <td>1010</td>\n",
       "      <td>-1392.47</td>\n",
       "      <td>NaN</td>\n",
       "      <td>1.0</td>\n",
       "      <td>0</td>\n",
       "      <td>1</td>\n",
       "      <td>10</td>\n",
       "      <td>-2</td>\n",
       "    </tr>\n",
       "    <tr>\n",
       "      <th>39026145</th>\n",
       "      <td>2 15:33:42</td>\n",
       "      <td>5499</td>\n",
       "      <td>1010</td>\n",
       "      <td>-920.83</td>\n",
       "      <td>NaN</td>\n",
       "      <td>1.0</td>\n",
       "      <td>0</td>\n",
       "      <td>2</td>\n",
       "      <td>15</td>\n",
       "      <td>-2</td>\n",
       "    </tr>\n",
       "  </tbody>\n",
       "</table>\n",
       "</div>"
      ],
      "text/plain": [
       "            tr_datetime  mcc_code  tr_type    amount term_id  gender  month  \\\n",
       "customer_id                                                                   \n",
       "39026145     0 10:23:26      4814     1030  -2245.92     NaN     1.0      0   \n",
       "39026145     1 10:19:29      6011     7010  56147.89     NaN     1.0      0   \n",
       "39026145     1 10:20:56      4829     2330 -56147.89     NaN     1.0      0   \n",
       "39026145     1 10:39:54      5499     1010  -1392.47     NaN     1.0      0   \n",
       "39026145     2 15:33:42      5499     1010   -920.83     NaN     1.0      0   \n",
       "\n",
       "             day  hour  night  \n",
       "customer_id                    \n",
       "39026145       0    10     -2  \n",
       "39026145       1    10     -2  \n",
       "39026145       1    10     -2  \n",
       "39026145       1    10     -2  \n",
       "39026145       2    15     -2  "
      ]
     },
     "execution_count": 13,
     "metadata": {},
     "output_type": "execute_result"
    }
   ],
   "source": [
    "for df in [df_train,df_test]:\n",
    "    df['month'] = df['tr_datetime'].str.split().apply(lambda x: int(x[0]) // 30)\n",
    "    df['day'] = df['tr_datetime'].str.split().apply(lambda x: int(x[0]) % 7)\n",
    "    df['hour'] = df['tr_datetime'].apply(lambda x: re.search(' \\d*', x).group(0)).astype(int)\n",
    "    df['night'] = ~df['hour'].between(6, 22).astype(int)\n",
    "\n",
    "df_train.head()"
   ]
  },
  {
   "cell_type": "code",
   "execution_count": 14,
   "id": "926ebe7d",
   "metadata": {},
   "outputs": [],
   "source": [
    "# добавим относительное кол-во транзакций час, день, месяц\n",
    "# также данные о распределении расходов и доходов\n",
    "# частоту появления кодов транзакцй\n",
    "\n",
    "tqdm_notebook.pandas(desc=\"Progress:\")\n",
    "\n",
    "def features_creation_advanced(x): \n",
    "    features = []\n",
    "    features.append(pd.Series(x['month'].value_counts(normalize=True).add_prefix('month_')))\n",
    "    features.append(pd.Series(x['day'].value_counts(normalize=True).add_prefix('day_')))\n",
    "    features.append(pd.Series(x['hour'].value_counts(normalize=True).add_prefix('hour_')))\n",
    "#     features.append(pd.Series(x['night'].value_counts(normalize=True).add_prefix('night_')))\n",
    "    \n",
    "    features.append(pd.Series(x[x['amount']>0]['amount'].agg(['min', 'max', 'mean', 'median', 'std', 'count', 'sum'])\\\n",
    "                                                        .add_prefix('positive_transactions_')))\n",
    "    \n",
    "  \n",
    "    \n",
    "    features.append(pd.Series(x[x['amount']<0]['amount'].agg(['min', 'max', 'mean', 'median', 'std', 'count', 'sum'])\\\n",
    "                                                        .add_prefix('negative_transactions_')))\n",
    "    \n",
    "    \n",
    "\n",
    "    features.append(pd.Series(x['mcc_code'].value_counts(normalize = True).add_prefix('mcc_count_')))\n",
    "    \n",
    "    return pd.concat(features)"
   ]
  },
  {
   "cell_type": "code",
   "execution_count": 15,
   "id": "9a4d9fb5",
   "metadata": {},
   "outputs": [
    {
     "data": {
      "application/vnd.jupyter.widget-view+json": {
       "model_id": "3f84fbb8e8da4bd2a5aebeba94353e5a",
       "version_major": 2,
       "version_minor": 0
      },
      "text/plain": [
       "Progress::   0%|          | 0/8400 [00:00<?, ?it/s]"
      ]
     },
     "metadata": {},
     "output_type": "display_data"
    },
    {
     "data": {
      "application/vnd.jupyter.widget-view+json": {
       "model_id": "b42e81e7a0b1435da6500f62214fdaf4",
       "version_major": 2,
       "version_minor": 0
      },
      "text/plain": [
       "Progress::   0%|          | 0/3600 [00:00<?, ?it/s]"
      ]
     },
     "metadata": {},
     "output_type": "display_data"
    }
   ],
   "source": [
    "data_train = df_train.groupby(df_train.index).progress_apply(features_creation_advanced).unstack(-1)\n",
    "data_test = df_test.groupby(df_test.index).progress_apply(features_creation_advanced).unstack(-1)\n",
    "\n",
    "target = data_train.join(gender_train, how='inner')['gender']"
   ]
  },
  {
   "cell_type": "code",
   "execution_count": 16,
   "id": "07b92ded",
   "metadata": {},
   "outputs": [],
   "source": [
    "# добавим разницу между суммой расходов и доходов\n",
    "data_train['delta_sum'] = data_train['positive_transactions_sum'] + data_train['negative_transactions_sum']\n",
    "data_test['delta_sum'] = data_test['positive_transactions_sum'] + data_test['negative_transactions_sum']\n",
    "\n",
    "# data_train['delta_count'] = data_train['positive_transactions_count'] + data_train['negative_transactions_count']\n",
    "# data_test['delta_count'] = data_test['positive_transactions_count'] + data_test['negative_transactions_count']\n"
   ]
  },
  {
   "cell_type": "code",
   "execution_count": 17,
   "id": "089d8d82",
   "metadata": {},
   "outputs": [],
   "source": [
    "# расходы и доходы по месяцам трайн\n",
    "\n",
    "df_month_pos = df_train[df_train['amount']>0].groupby([df_train[df_train['amount']>0].index,'month'])['amount'].sum().unstack().reset_index().set_index('customer_id')\n",
    "df_month_pos.rename(columns=lambda x: 'month_pos_'+str(x), inplace=True)\n",
    "\n",
    "df_month_neg = df_train[df_train['amount']<0].groupby([df_train[df_train['amount']<0].index,'month'])['amount'].sum().unstack().reset_index().set_index('customer_id')\n",
    "df_month_neg.rename(columns=lambda x: 'month_neg_'+str(x), inplace=True)\n",
    "\n",
    "data_train = data_train.merge(df_month_pos, on='customer_id', how='left')\n",
    "data_train = data_train.merge(df_month_neg, on='customer_id', how='left')"
   ]
  },
  {
   "cell_type": "code",
   "execution_count": 18,
   "id": "74ea2e98",
   "metadata": {},
   "outputs": [],
   "source": [
    "# расходы и доходы по месяцам тест\n",
    "\n",
    "df_month_pos = df_test[df_test['amount']>0].groupby([df_test[df_test['amount']>0].index,'month'])['amount'].sum().unstack().reset_index().set_index('customer_id')\n",
    "df_month_pos.rename(columns=lambda x: 'month_pos_'+str(x), inplace=True)\n",
    "\n",
    "df_month_neg = df_test[df_test['amount']<0].groupby([df_test[df_test['amount']<0].index,'month'])['amount'].sum().unstack().reset_index().set_index('customer_id')\n",
    "df_month_neg.rename(columns=lambda x: 'month_neg_'+str(x), inplace=True)\n",
    "\n",
    "data_test = data_test.merge(df_month_pos, on='customer_id', how='left')\n",
    "data_test = data_test.merge(df_month_neg, on='customer_id', how='left')"
   ]
  },
  {
   "cell_type": "code",
   "execution_count": 19,
   "id": "3caac325",
   "metadata": {},
   "outputs": [],
   "source": [
    "# tr_type\n",
    "\n",
    "df_sum_tr = df_train.groupby([df_train.index,'tr_type'])['amount'].count().unstack().reset_index().set_index('customer_id')\n",
    "df_sum_tr.rename(columns=lambda x: 'sum_tr_'+str(x), inplace=True)\n",
    "\n",
    "data_train = data_train.merge(df_sum_tr, on='customer_id', how='left')\n",
    "\n",
    "df_sum_tr_test = df_test.groupby([df_test.index,'tr_type'])['amount'].count().unstack().reset_index().set_index('customer_id')\n",
    "df_sum_tr_test.rename(columns=lambda x: 'sum_tr_'+str(x), inplace=True)\n",
    "\n",
    "data_test = data_test.merge(df_sum_tr_test, on='customer_id', how='left')"
   ]
  },
  {
   "cell_type": "code",
   "execution_count": 20,
   "id": "8b6cfd5a",
   "metadata": {},
   "outputs": [],
   "source": [
    "# расходы по категориям\n",
    "\n",
    "df_sum = df_train.groupby([df_train.index,'mcc_code'])['amount'].sum().unstack().reset_index().set_index('customer_id')\n",
    "df_sum.rename(columns=lambda x: 'sum_'+str(x), inplace=True)\n",
    "\n",
    "data_train = data_train.merge(df_sum, on='customer_id', how='left')\n",
    "\n",
    "df_sum_test = df_test.groupby([df_test.index,'mcc_code'])['amount'].sum().unstack().reset_index().set_index('customer_id')\n",
    "df_sum_test.rename(columns=lambda x: 'sum_'+str(x), inplace=True)\n",
    "\n",
    "data_test = data_test.merge(df_sum_test, on='customer_id', how='left')"
   ]
  },
  {
   "cell_type": "code",
   "execution_count": 21,
   "id": "8c6ca906",
   "metadata": {},
   "outputs": [],
   "source": [
    "# средние расходы по категориям\n",
    "\n",
    "df_sum = df_train.groupby([df_train.index,'mcc_code'])['amount'].mean().unstack().reset_index().set_index('customer_id')\n",
    "df_sum.rename(columns=lambda x: 'mean_'+str(x), inplace=True)\n",
    "\n",
    "data_train = data_train.merge(df_sum, on='customer_id', how='left')\n",
    "\n",
    "df_sum_test = df_test.groupby([df_test.index,'mcc_code'])['amount'].mean().unstack().reset_index().set_index('customer_id')\n",
    "df_sum_test.rename(columns=lambda x: 'mean_'+str(x), inplace=True)\n",
    "\n",
    "data_test = data_test.merge(df_sum_test, on='customer_id', how='left')"
   ]
  },
  {
   "cell_type": "code",
   "execution_count": 22,
   "id": "bcc25b81",
   "metadata": {},
   "outputs": [
    {
     "name": "stderr",
     "output_type": "stream",
     "text": [
      "C:\\Users\\rk\\anaconda3\\envs\\Tens\\lib\\site-packages\\ipykernel_launcher.py:4: PerformanceWarning: DataFrame is highly fragmented.  This is usually the result of calling `frame.insert` many times, which has poor performance.  Consider using pd.concat instead.  To get a de-fragmented frame, use `newframe = frame.copy()`\n",
      "  after removing the cwd from sys.path.\n",
      "C:\\Users\\rk\\anaconda3\\envs\\Tens\\lib\\site-packages\\ipykernel_launcher.py:7: PerformanceWarning: DataFrame is highly fragmented.  This is usually the result of calling `frame.insert` many times, which has poor performance.  Consider using pd.concat instead.  To get a de-fragmented frame, use `newframe = frame.copy()`\n",
      "  import sys\n"
     ]
    }
   ],
   "source": [
    "# отношение суммы расходов по категории к среднему значению доходов\n",
    "\n",
    "for i in df_train.mcc_code.unique():\n",
    "    data_train[f'{i}_pos'] = data_train[f'sum_{i}']/data_train['positive_transactions_mean']\n",
    "\n",
    "for i in df_train.mcc_code.unique():\n",
    "    data_test[f'{i}_pos'] = data_test[f'sum_{i}']/data_test['positive_transactions_mean']"
   ]
  },
  {
   "cell_type": "code",
   "execution_count": 23,
   "id": "ffce6174",
   "metadata": {},
   "outputs": [],
   "source": [
    "data_train.fillna(0, inplace=True)\n",
    "data_test.fillna(0, inplace=True)\n"
   ]
  },
  {
   "cell_type": "code",
   "execution_count": 24,
   "id": "41e78e25",
   "metadata": {},
   "outputs": [],
   "source": [
    "x_train, x_test, y_train, y_test = train_test_split(data_train, target, test_size=0.2, random_state=1)"
   ]
  },
  {
   "cell_type": "code",
   "execution_count": 25,
   "id": "f8bff2f2",
   "metadata": {},
   "outputs": [
    {
     "data": {
      "text/plain": [
       "0    0.559524\n",
       "1    0.440476\n",
       "Name: gender, dtype: float64"
      ]
     },
     "execution_count": 25,
     "metadata": {},
     "output_type": "execute_result"
    }
   ],
   "source": [
    "# соотношение классов\n",
    "y_train.value_counts()/y_train.shape[0]"
   ]
  },
  {
   "cell_type": "markdown",
   "id": "506edcc2",
   "metadata": {},
   "source": [
    "### Catboost"
   ]
  },
  {
   "cell_type": "code",
   "execution_count": 26,
   "id": "d8a391ff",
   "metadata": {},
   "outputs": [],
   "source": [
    "#функция для графиков roc\n",
    "def graph(fpr,tpr,auc_roc):\n",
    "    fig, ax = plt.subplots(figsize=(8,8))\n",
    "\n",
    "    ax.plot(fpr, tpr)\n",
    "    # ROC-кривая случайной модели (выглядит как прямая)\n",
    "    ax.plot([0, 1], [0, 1], linestyle='--')\n",
    "    ax.set_xlim([0.0,1.0])\n",
    "    ax.set_ylim([0.0,1.05])\n",
    "    ax.set_xlabel('False Positive Rate')\n",
    "    ax.set_ylabel('True Positive Rate')\n",
    "    ax.set_title('ROC-кривая')\n",
    "    ax.grid(True)\n",
    "    ax.set_facecolor('whitesmoke')\n",
    "    add_titlebox(ax=ax, text=f'AUC_ROC = {auc_roc.round(3)}',x=0.8,y=0.25)\n",
    "\n",
    "    plt.show()\n",
    "    \n",
    "#функция для подписей на графиках\n",
    "def add_titlebox(ax, text, x,y):\n",
    "    ax.text(x, y, text, horizontalalignment='center',\n",
    "        transform=ax.transAxes,\n",
    "        bbox=dict(facecolor='green', alpha=0.6),\n",
    "        fontsize=12.5)\n",
    "    return ax\n",
    "\n",
    "# функция обновления таблицы результатов\n",
    "def res_data(df, auc_roc, accuracy, target, predict, name):\n",
    "    tn, fp, fn, tp = confusion_matrix(target,predict).ravel()\n",
    "    df = df.append(pd.Series(data={'auc_roc':round(auc_roc,3), 'accuracy': round(accuracy,3), 'TP': tp, 'FP':fp}, name=name), ignore_index=False)\n",
    "    return df\n",
    "\n",
    "#функция для матрицы ошибок\n",
    "def conf_matrix(target,predict):\n",
    "    cm = pd.DataFrame(confusion_matrix(target,predict), index = ['actual 0', 'actual 1'], columns = ['predicted 0', 'predicted 1'])\n",
    "    display(cm)"
   ]
  },
  {
   "cell_type": "code",
   "execution_count": 27,
   "id": "9ce2788e",
   "metadata": {},
   "outputs": [
    {
     "name": "stdout",
     "output_type": "stream",
     "text": [
      "Learning rate set to 0.019661\n",
      "0:\tlearn: 0.6867112\ttotal: 143ms\tremaining: 2m 51s\n",
      "100:\tlearn: 0.4916746\ttotal: 7.56s\tremaining: 1m 22s\n",
      "200:\tlearn: 0.4428480\ttotal: 15s\tremaining: 1m 14s\n",
      "300:\tlearn: 0.4125521\ttotal: 22.3s\tremaining: 1m 6s\n",
      "400:\tlearn: 0.3888227\ttotal: 29.7s\tremaining: 59.1s\n",
      "500:\tlearn: 0.3633163\ttotal: 37.7s\tremaining: 52.6s\n",
      "600:\tlearn: 0.3386701\ttotal: 45.7s\tremaining: 45.5s\n",
      "700:\tlearn: 0.3174506\ttotal: 53.6s\tremaining: 38.2s\n",
      "800:\tlearn: 0.3002669\ttotal: 1m 1s\tremaining: 30.7s\n",
      "900:\tlearn: 0.2831137\ttotal: 1m 9s\tremaining: 23.1s\n",
      "1000:\tlearn: 0.2676111\ttotal: 1m 17s\tremaining: 15.4s\n",
      "1100:\tlearn: 0.2530270\ttotal: 1m 25s\tremaining: 7.69s\n",
      "1199:\tlearn: 0.2398173\ttotal: 1m 33s\tremaining: 0us\n",
      "Wall time: 1min 34s\n"
     ]
    }
   ],
   "source": [
    "%%time\n",
    "model_cat = CatBoostClassifier(loss_function='Logloss',iterations=1200, verbose=100)\n",
    "\n",
    "# предсказание вероятностей`\n",
    "model_cat.fit(x_train,y_train)\n",
    "probabilities_test = model_cat.predict_proba(x_test)"
   ]
  },
  {
   "cell_type": "code",
   "execution_count": 28,
   "id": "eb8273a9",
   "metadata": {},
   "outputs": [
    {
     "data": {
      "image/png": "[encoded data removed]",
      "text/plain": [
       "<Figure size 576x576 with 1 Axes>"
      ]
     },
     "metadata": {},
     "output_type": "display_data"
    },
    {
     "data": {
      "text/html": [
       "<div>\n",
       "<style scoped>\n",
       "    .dataframe tbody tr th:only-of-type {\n",
       "        vertical-align: middle;\n",
       "    }\n",
       "\n",
       "    .dataframe tbody tr th {\n",
       "        vertical-align: top;\n",
       "    }\n",
       "\n",
       "    .dataframe thead th {\n",
       "        text-align: right;\n",
       "    }\n",
       "</style>\n",
       "<table border=\"1\" class=\"dataframe\">\n",
       "  <thead>\n",
       "    <tr style=\"text-align: right;\">\n",
       "      <th></th>\n",
       "      <th>predicted 0</th>\n",
       "      <th>predicted 1</th>\n",
       "    </tr>\n",
       "  </thead>\n",
       "  <tbody>\n",
       "    <tr>\n",
       "      <th>actual 0</th>\n",
       "      <td>806</td>\n",
       "      <td>121</td>\n",
       "    </tr>\n",
       "    <tr>\n",
       "      <th>actual 1</th>\n",
       "      <td>193</td>\n",
       "      <td>560</td>\n",
       "    </tr>\n",
       "  </tbody>\n",
       "</table>\n",
       "</div>"
      ],
      "text/plain": [
       "          predicted 0  predicted 1\n",
       "actual 0          806          121\n",
       "actual 1          193          560"
      ]
     },
     "metadata": {},
     "output_type": "display_data"
    }
   ],
   "source": [
    "probabilities_one_test = probabilities_test[:, 1]\n",
    "predict_test = probabilities_one_test>0.5\n",
    "\n",
    "#roc-кривая\n",
    "fpr, tpr, thresholds = roc_curve(y_test, probabilities_one_test)\n",
    "auc_roc = roc_auc_score(y_test, probabilities_one_test)\n",
    "graph(fpr,tpr,auc_roc)\n",
    "# матрица ошибок\n",
    "conf_matrix(y_test, predict_test)"
   ]
  },
  {
   "cell_type": "markdown",
   "id": "9777b9fa",
   "metadata": {},
   "source": [
    "### Важность признаков"
   ]
  },
  {
   "cell_type": "code",
   "execution_count": 29,
   "id": "bbdf0560",
   "metadata": {},
   "outputs": [
    {
     "data": {
      "text/html": [
       "<div>\n",
       "<style scoped>\n",
       "    .dataframe tbody tr th:only-of-type {\n",
       "        vertical-align: middle;\n",
       "    }\n",
       "\n",
       "    .dataframe tbody tr th {\n",
       "        vertical-align: top;\n",
       "    }\n",
       "\n",
       "    .dataframe thead th {\n",
       "        text-align: right;\n",
       "    }\n",
       "</style>\n",
       "<table border=\"1\" class=\"dataframe\">\n",
       "  <thead>\n",
       "    <tr style=\"text-align: right;\">\n",
       "      <th></th>\n",
       "      <th>importance</th>\n",
       "    </tr>\n",
       "  </thead>\n",
       "  <tbody>\n",
       "    <tr>\n",
       "      <th>mcc_count_5977</th>\n",
       "      <td>3.855117</td>\n",
       "    </tr>\n",
       "    <tr>\n",
       "      <th>mcc_count_5661</th>\n",
       "      <td>2.679880</td>\n",
       "    </tr>\n",
       "    <tr>\n",
       "      <th>mcc_count_5533</th>\n",
       "      <td>2.532397</td>\n",
       "    </tr>\n",
       "    <tr>\n",
       "      <th>mcc_count_5541</th>\n",
       "      <td>2.241610</td>\n",
       "    </tr>\n",
       "    <tr>\n",
       "      <th>mcc_count_5912</th>\n",
       "      <td>1.454400</td>\n",
       "    </tr>\n",
       "    <tr>\n",
       "      <th>mcc_count_4814</th>\n",
       "      <td>1.447835</td>\n",
       "    </tr>\n",
       "    <tr>\n",
       "      <th>mcc_count_6011</th>\n",
       "      <td>1.415766</td>\n",
       "    </tr>\n",
       "    <tr>\n",
       "      <th>mcc_count_5651</th>\n",
       "      <td>1.393870</td>\n",
       "    </tr>\n",
       "    <tr>\n",
       "      <th>delta_sum</th>\n",
       "      <td>1.387153</td>\n",
       "    </tr>\n",
       "    <tr>\n",
       "      <th>sum_5541</th>\n",
       "      <td>1.324693</td>\n",
       "    </tr>\n",
       "  </tbody>\n",
       "</table>\n",
       "</div>"
      ],
      "text/plain": [
       "                importance\n",
       "mcc_count_5977    3.855117\n",
       "mcc_count_5661    2.679880\n",
       "mcc_count_5533    2.532397\n",
       "mcc_count_5541    2.241610\n",
       "mcc_count_5912    1.454400\n",
       "mcc_count_4814    1.447835\n",
       "mcc_count_6011    1.415766\n",
       "mcc_count_5651    1.393870\n",
       "delta_sum         1.387153\n",
       "sum_5541          1.324693"
      ]
     },
     "execution_count": 29,
     "metadata": {},
     "output_type": "execute_result"
    }
   ],
   "source": [
    "importances = model_cat.feature_importances_\n",
    "df_importances = pd.DataFrame(index=x_train.columns, columns=['importance'], data=importances).sort_values(by='importance',ascending=False)\n",
    "\n",
    "df_importances.head(10)"
   ]
  },
  {
   "cell_type": "code",
   "execution_count": 30,
   "id": "cca8b1c3",
   "metadata": {},
   "outputs": [
    {
     "data": {
      "text/plain": [
       "569"
      ]
     },
     "execution_count": 30,
     "metadata": {},
     "output_type": "execute_result"
    }
   ],
   "source": [
    "x_faetures = df_importances[df_importances['importance']>0].index\n",
    "len(x_faetures)"
   ]
  },
  {
   "cell_type": "markdown",
   "id": "4ec4c8a4",
   "metadata": {},
   "source": [
    "### Обучение модели с учетом важности признаков"
   ]
  },
  {
   "cell_type": "code",
   "execution_count": 31,
   "id": "3b003abb",
   "metadata": {},
   "outputs": [
    {
     "name": "stdout",
     "output_type": "stream",
     "text": [
      "Learning rate set to 0.019661\n",
      "0:\tlearn: 0.6865048\ttotal: 67.9ms\tremaining: 1m 21s\n",
      "100:\tlearn: 0.4900941\ttotal: 6.4s\tremaining: 1m 9s\n",
      "200:\tlearn: 0.4399150\ttotal: 12.9s\tremaining: 1m 4s\n",
      "300:\tlearn: 0.4101135\ttotal: 19.5s\tremaining: 58.1s\n",
      "400:\tlearn: 0.3861558\ttotal: 26.4s\tremaining: 52.7s\n",
      "500:\tlearn: 0.3621190\ttotal: 33s\tremaining: 46s\n",
      "600:\tlearn: 0.3381149\ttotal: 39.4s\tremaining: 39.3s\n",
      "700:\tlearn: 0.3176460\ttotal: 45.8s\tremaining: 32.6s\n",
      "800:\tlearn: 0.3001938\ttotal: 52.2s\tremaining: 26s\n",
      "900:\tlearn: 0.2841726\ttotal: 58.6s\tremaining: 19.4s\n",
      "1000:\tlearn: 0.2691993\ttotal: 1m 4s\tremaining: 12.9s\n",
      "1100:\tlearn: 0.2553616\ttotal: 1m 11s\tremaining: 6.42s\n",
      "1199:\tlearn: 0.2426598\ttotal: 1m 17s\tremaining: 0us\n",
      "Wall time: 1min 18s\n"
     ]
    }
   ],
   "source": [
    "%%time\n",
    "model_cat = CatBoostClassifier(loss_function='Logloss',iterations=1200, verbose=100)\n",
    "\n",
    "# предсказание вероятностей`\n",
    "model_cat.fit(x_train[x_faetures],y_train)\n",
    "probabilities_test = model_cat.predict_proba(x_test[x_faetures])\n"
   ]
  },
  {
   "cell_type": "code",
   "execution_count": 32,
   "id": "f4b4d27f",
   "metadata": {},
   "outputs": [
    {
     "data": {
      "image/png": "[encoded data removed]",
      "text/plain": [
       "<Figure size 576x576 with 1 Axes>"
      ]
     },
     "metadata": {},
     "output_type": "display_data"
    },
    {
     "data": {
      "text/html": [
       "<div>\n",
       "<style scoped>\n",
       "    .dataframe tbody tr th:only-of-type {\n",
       "        vertical-align: middle;\n",
       "    }\n",
       "\n",
       "    .dataframe tbody tr th {\n",
       "        vertical-align: top;\n",
       "    }\n",
       "\n",
       "    .dataframe thead th {\n",
       "        text-align: right;\n",
       "    }\n",
       "</style>\n",
       "<table border=\"1\" class=\"dataframe\">\n",
       "  <thead>\n",
       "    <tr style=\"text-align: right;\">\n",
       "      <th></th>\n",
       "      <th>predicted 0</th>\n",
       "      <th>predicted 1</th>\n",
       "    </tr>\n",
       "  </thead>\n",
       "  <tbody>\n",
       "    <tr>\n",
       "      <th>actual 0</th>\n",
       "      <td>802</td>\n",
       "      <td>125</td>\n",
       "    </tr>\n",
       "    <tr>\n",
       "      <th>actual 1</th>\n",
       "      <td>200</td>\n",
       "      <td>553</td>\n",
       "    </tr>\n",
       "  </tbody>\n",
       "</table>\n",
       "</div>"
      ],
      "text/plain": [
       "          predicted 0  predicted 1\n",
       "actual 0          802          125\n",
       "actual 1          200          553"
      ]
     },
     "metadata": {},
     "output_type": "display_data"
    }
   ],
   "source": [
    "probabilities_one_test = probabilities_test[:, 1]\n",
    "predict_test = probabilities_one_test>0.5\n",
    "\n",
    "#roc-кривая\n",
    "fpr, tpr, thresholds = roc_curve(y_test, probabilities_one_test)\n",
    "auc_roc = roc_auc_score(y_test, probabilities_one_test)\n",
    "graph(fpr,tpr,auc_roc)\n",
    "# матрица ошибок\n",
    "conf_matrix(y_test, predict_test)"
   ]
  },
  {
   "cell_type": "markdown",
   "id": "06997d7a",
   "metadata": {},
   "source": [
    "### Итоговое обучение модели с учетом важности признаков"
   ]
  },
  {
   "cell_type": "code",
   "execution_count": 33,
   "id": "9c24f372",
   "metadata": {},
   "outputs": [
    {
     "name": "stdout",
     "output_type": "stream",
     "text": [
      "Wall time: 1 ms\n"
     ]
    }
   ],
   "source": [
    "%%time\n",
    "model_cat = CatBoostClassifier(loss_function='Logloss',iterations=10000, verbose=100)"
   ]
  },
  {
   "cell_type": "code",
   "execution_count": 34,
   "id": "7d059981",
   "metadata": {},
   "outputs": [
    {
     "name": "stdout",
     "output_type": "stream",
     "text": [
      "Learning rate set to 0.003095\n",
      "0:\tlearn: 0.6920945\ttotal: 71.7ms\tremaining: 11m 56s\n",
      "100:\tlearn: 0.6180512\ttotal: 6.87s\tremaining: 11m 13s\n",
      "200:\tlearn: 0.5734697\ttotal: 13.8s\tremaining: 11m 11s\n",
      "300:\tlearn: 0.5442489\ttotal: 20.7s\tremaining: 11m 6s\n",
      "400:\tlearn: 0.5231049\ttotal: 27.6s\tremaining: 11m\n",
      "500:\tlearn: 0.5066735\ttotal: 34.5s\tremaining: 10m 54s\n",
      "600:\tlearn: 0.4938262\ttotal: 41.4s\tremaining: 10m 47s\n",
      "700:\tlearn: 0.4832311\ttotal: 48.3s\tremaining: 10m 40s\n",
      "800:\tlearn: 0.4738458\ttotal: 55.2s\tremaining: 10m 33s\n",
      "900:\tlearn: 0.4658028\ttotal: 1m 2s\tremaining: 10m 27s\n",
      "1000:\tlearn: 0.4585051\ttotal: 1m 9s\tremaining: 10m 20s\n",
      "1100:\tlearn: 0.4518006\ttotal: 1m 15s\tremaining: 10m 13s\n",
      "1200:\tlearn: 0.4458251\ttotal: 1m 22s\tremaining: 10m 6s\n",
      "1300:\tlearn: 0.4404003\ttotal: 1m 29s\tremaining: 9m 59s\n",
      "1400:\tlearn: 0.4351985\ttotal: 1m 36s\tremaining: 9m 52s\n",
      "1500:\tlearn: 0.4304471\ttotal: 1m 43s\tremaining: 9m 45s\n",
      "1600:\tlearn: 0.4259595\ttotal: 1m 50s\tremaining: 9m 38s\n",
      "1700:\tlearn: 0.4216652\ttotal: 1m 57s\tremaining: 9m 31s\n",
      "1800:\tlearn: 0.4176573\ttotal: 2m 3s\tremaining: 9m 24s\n",
      "1900:\tlearn: 0.4138033\ttotal: 2m 10s\tremaining: 9m 17s\n",
      "2000:\tlearn: 0.4101452\ttotal: 2m 17s\tremaining: 9m 11s\n",
      "2100:\tlearn: 0.4067110\ttotal: 2m 24s\tremaining: 9m 3s\n",
      "2200:\tlearn: 0.4031867\ttotal: 2m 31s\tremaining: 8m 56s\n",
      "2300:\tlearn: 0.3999541\ttotal: 2m 38s\tremaining: 8m 49s\n",
      "2400:\tlearn: 0.3967374\ttotal: 2m 45s\tremaining: 8m 42s\n",
      "2500:\tlearn: 0.3933996\ttotal: 2m 52s\tremaining: 8m 35s\n",
      "2600:\tlearn: 0.3900459\ttotal: 2m 58s\tremaining: 8m 28s\n",
      "2700:\tlearn: 0.3866248\ttotal: 3m 5s\tremaining: 8m 21s\n",
      "2800:\tlearn: 0.3832583\ttotal: 3m 12s\tremaining: 8m 14s\n",
      "2900:\tlearn: 0.3799216\ttotal: 3m 19s\tremaining: 8m 8s\n",
      "3000:\tlearn: 0.3763729\ttotal: 3m 26s\tremaining: 8m 1s\n",
      "3100:\tlearn: 0.3729015\ttotal: 3m 33s\tremaining: 7m 54s\n",
      "3200:\tlearn: 0.3693962\ttotal: 3m 40s\tremaining: 7m 47s\n",
      "3300:\tlearn: 0.3659015\ttotal: 3m 47s\tremaining: 7m 41s\n",
      "3400:\tlearn: 0.3623033\ttotal: 3m 55s\tremaining: 7m 37s\n",
      "3500:\tlearn: 0.3588374\ttotal: 4m 6s\tremaining: 7m 36s\n",
      "3600:\tlearn: 0.3554105\ttotal: 4m 14s\tremaining: 7m 31s\n",
      "3700:\tlearn: 0.3519658\ttotal: 4m 21s\tremaining: 7m 25s\n",
      "3800:\tlearn: 0.3486592\ttotal: 4m 29s\tremaining: 7m 20s\n",
      "3900:\tlearn: 0.3453528\ttotal: 4m 37s\tremaining: 7m 14s\n",
      "4000:\tlearn: 0.3422083\ttotal: 4m 49s\tremaining: 7m 13s\n",
      "4100:\tlearn: 0.3391020\ttotal: 5m\tremaining: 7m 12s\n",
      "4200:\tlearn: 0.3359542\ttotal: 5m 8s\tremaining: 7m 6s\n",
      "4300:\tlearn: 0.3330165\ttotal: 5m 17s\tremaining: 7m\n",
      "4400:\tlearn: 0.3300107\ttotal: 5m 27s\tremaining: 6m 56s\n",
      "4500:\tlearn: 0.3272588\ttotal: 5m 38s\tremaining: 6m 53s\n",
      "4600:\tlearn: 0.3244923\ttotal: 5m 49s\tremaining: 6m 49s\n",
      "4700:\tlearn: 0.3217920\ttotal: 6m\tremaining: 6m 46s\n",
      "4800:\tlearn: 0.3191212\ttotal: 6m 12s\tremaining: 6m 43s\n",
      "4900:\tlearn: 0.3166045\ttotal: 6m 22s\tremaining: 6m 38s\n",
      "5000:\tlearn: 0.3140442\ttotal: 6m 31s\tremaining: 6m 30s\n",
      "5100:\tlearn: 0.3115380\ttotal: 6m 38s\tremaining: 6m 22s\n",
      "5200:\tlearn: 0.3090671\ttotal: 6m 45s\tremaining: 6m 13s\n",
      "5300:\tlearn: 0.3067529\ttotal: 6m 51s\tremaining: 6m 5s\n",
      "5400:\tlearn: 0.3043298\ttotal: 6m 59s\tremaining: 5m 56s\n",
      "5500:\tlearn: 0.3019690\ttotal: 7m 6s\tremaining: 5m 48s\n",
      "5600:\tlearn: 0.2998481\ttotal: 7m 12s\tremaining: 5m 39s\n",
      "5700:\tlearn: 0.2976257\ttotal: 7m 19s\tremaining: 5m 31s\n",
      "5800:\tlearn: 0.2953968\ttotal: 7m 26s\tremaining: 5m 23s\n",
      "5900:\tlearn: 0.2930880\ttotal: 7m 33s\tremaining: 5m 14s\n",
      "6000:\tlearn: 0.2908040\ttotal: 7m 40s\tremaining: 5m 6s\n",
      "6100:\tlearn: 0.2885943\ttotal: 7m 46s\tremaining: 4m 58s\n",
      "6200:\tlearn: 0.2864236\ttotal: 7m 53s\tremaining: 4m 50s\n",
      "6300:\tlearn: 0.2842332\ttotal: 8m\tremaining: 4m 42s\n",
      "6400:\tlearn: 0.2822414\ttotal: 8m 7s\tremaining: 4m 34s\n",
      "6500:\tlearn: 0.2801002\ttotal: 8m 15s\tremaining: 4m 26s\n",
      "6600:\tlearn: 0.2780078\ttotal: 8m 23s\tremaining: 4m 19s\n",
      "6700:\tlearn: 0.2761147\ttotal: 8m 30s\tremaining: 4m 11s\n",
      "6800:\tlearn: 0.2743150\ttotal: 8m 37s\tremaining: 4m 3s\n",
      "6900:\tlearn: 0.2722051\ttotal: 8m 45s\tremaining: 3m 55s\n",
      "7000:\tlearn: 0.2701966\ttotal: 8m 52s\tremaining: 3m 47s\n",
      "7100:\tlearn: 0.2682001\ttotal: 8m 59s\tremaining: 3m 40s\n",
      "7200:\tlearn: 0.2662599\ttotal: 9m 6s\tremaining: 3m 32s\n",
      "7300:\tlearn: 0.2644035\ttotal: 9m 13s\tremaining: 3m 24s\n",
      "7400:\tlearn: 0.2625261\ttotal: 9m 20s\tremaining: 3m 16s\n",
      "7500:\tlearn: 0.2605050\ttotal: 9m 28s\tremaining: 3m 9s\n",
      "7600:\tlearn: 0.2587610\ttotal: 9m 35s\tremaining: 3m 1s\n",
      "7700:\tlearn: 0.2569554\ttotal: 9m 42s\tremaining: 2m 53s\n",
      "7800:\tlearn: 0.2552392\ttotal: 9m 49s\tremaining: 2m 46s\n",
      "7900:\tlearn: 0.2533891\ttotal: 9m 56s\tremaining: 2m 38s\n",
      "8000:\tlearn: 0.2515546\ttotal: 10m 3s\tremaining: 2m 30s\n",
      "8100:\tlearn: 0.2497527\ttotal: 10m 10s\tremaining: 2m 23s\n",
      "8200:\tlearn: 0.2480472\ttotal: 10m 18s\tremaining: 2m 15s\n",
      "8300:\tlearn: 0.2462236\ttotal: 10m 25s\tremaining: 2m 8s\n",
      "8400:\tlearn: 0.2444922\ttotal: 10m 33s\tremaining: 2m\n",
      "8500:\tlearn: 0.2427719\ttotal: 10m 40s\tremaining: 1m 52s\n",
      "8600:\tlearn: 0.2411813\ttotal: 10m 47s\tremaining: 1m 45s\n",
      "8700:\tlearn: 0.2395312\ttotal: 10m 57s\tremaining: 1m 38s\n",
      "8800:\tlearn: 0.2377469\ttotal: 11m 8s\tremaining: 1m 31s\n",
      "8900:\tlearn: 0.2361736\ttotal: 11m 20s\tremaining: 1m 24s\n",
      "9000:\tlearn: 0.2344906\ttotal: 11m 33s\tremaining: 1m 16s\n",
      "9100:\tlearn: 0.2328322\ttotal: 11m 44s\tremaining: 1m 9s\n",
      "9200:\tlearn: 0.2312678\ttotal: 11m 53s\tremaining: 1m 1s\n",
      "9300:\tlearn: 0.2296884\ttotal: 12m 1s\tremaining: 54.2s\n",
      "9400:\tlearn: 0.2281196\ttotal: 12m 9s\tremaining: 46.5s\n",
      "9500:\tlearn: 0.2263970\ttotal: 12m 17s\tremaining: 38.8s\n",
      "9600:\tlearn: 0.2248798\ttotal: 12m 26s\tremaining: 31s\n",
      "9700:\tlearn: 0.2233251\ttotal: 12m 34s\tremaining: 23.2s\n",
      "9800:\tlearn: 0.2217645\ttotal: 12m 42s\tremaining: 15.5s\n",
      "9900:\tlearn: 0.2202818\ttotal: 12m 50s\tremaining: 7.7s\n",
      "9999:\tlearn: 0.2188050\ttotal: 12m 58s\tremaining: 0us\n"
     ]
    }
   ],
   "source": [
    "# предсказание вероятностей`\n",
    "model_cat.fit(data_train[x_faetures],target)\n",
    "probabilities_test = model_cat.predict_proba(data_test[x_faetures])"
   ]
  },
  {
   "cell_type": "code",
   "execution_count": 35,
   "id": "d7ec0d8b",
   "metadata": {},
   "outputs": [],
   "source": [
    "gender_test1 = gender_test.drop('probability', axis=1)\n",
    "data_test['probability'] = probabilities_test[:, 1]\n",
    "result = gender_test1.join(data_test, on = 'customer_id', how='inner')\n",
    "result = result[['customer_id','probability']]"
   ]
  },
  {
   "cell_type": "code",
   "execution_count": 36,
   "id": "cce84bc0",
   "metadata": {},
   "outputs": [],
   "source": [
    "result.to_csv('D:/Files/alfa/result_17.csv', index=False)"
   ]
  }
 ],
 "metadata": {
  "kernelspec": {
   "display_name": "Python 3",
   "language": "python",
   "name": "python3"
  },
  "language_info": {
   "codemirror_mode": {
    "name": "ipython",
    "version": 3
   },
   "file_extension": ".py",
   "mimetype": "text/x-python",
   "name": "python",
   "nbconvert_exporter": "python",
   "pygments_lexer": "ipython3",
   "version": "3.7.11"
  }
 },
 "nbformat": 4,
 "nbformat_minor": 5
}
