{
  "nbformat": 4,
  "nbformat_minor": 0,
  "metadata": {
    "colab": {
      "name": "kzex_test.ipynb",
      "provenance": [],
      "collapsed_sections": []
    },
    "kernelspec": {
      "name": "python3",
      "display_name": "Python 3"
    },
    "language_info": {
      "name": "python"
    },
    "accelerator": "GPU"
  },
  "cells": [
    {
      "cell_type": "code",
      "execution_count": 19,
      "metadata": {
        "id": "fgC8dxjbwYuE",
        "colab": {
          "base_uri": "https://localhost:8080/"
        },
        "outputId": "ca250b43-ebc0-4093-ceec-5f7df28fa107"
      },
      "outputs": [
        {
          "output_type": "stream",
          "name": "stdout",
          "text": [
            "Drive already mounted at /content/drive/; to attempt to forcibly remount, call drive.mount(\"/content/drive/\", force_remount=True).\n"
          ]
        }
      ],
      "source": [
        "from google.colab import drive\n",
        "drive.mount('/content/drive/')"
      ]
    },
    {
      "cell_type": "code",
      "source": [
        "!pip install git+https://github.com/nlpub/pymystem3\n",
        "# для работы pymystem\n",
        "!wget http://download.cdn.yandex.net/mystem/mystem-3.0-linux3.1-64bit.tar.gz\n",
        "!tar -xvf mystem-3.0-linux3.1-64bit.tar.gz\n",
        "!cp mystem /root/.local/bin/mystem\n"
      ],
      "metadata": {
        "colab": {
          "base_uri": "https://localhost:8080/"
        },
        "id": "OsjWi1f9zHd5",
        "outputId": "93981033-e72b-4039-f1d4-4821c3f80ae8"
      },
      "execution_count": 20,
      "outputs": [
        {
          "output_type": "stream",
          "name": "stdout",
          "text": [
            "Collecting git+https://github.com/nlpub/pymystem3\n",
            "  Cloning https://github.com/nlpub/pymystem3 to /tmp/pip-req-build-xi15lfhe\n",
            "  Running command git clone -q https://github.com/nlpub/pymystem3 /tmp/pip-req-build-xi15lfhe\n",
            "Requirement already satisfied: requests in /usr/local/lib/python3.7/dist-packages (from pymystem3==0.2.0) (2.23.0)\n",
            "Requirement already satisfied: certifi>=2017.4.17 in /usr/local/lib/python3.7/dist-packages (from requests->pymystem3==0.2.0) (2021.10.8)\n",
            "Requirement already satisfied: chardet<4,>=3.0.2 in /usr/local/lib/python3.7/dist-packages (from requests->pymystem3==0.2.0) (3.0.4)\n",
            "Requirement already satisfied: idna<3,>=2.5 in /usr/local/lib/python3.7/dist-packages (from requests->pymystem3==0.2.0) (2.10)\n",
            "Requirement already satisfied: urllib3!=1.25.0,!=1.25.1,<1.26,>=1.21.1 in /usr/local/lib/python3.7/dist-packages (from requests->pymystem3==0.2.0) (1.24.3)\n",
            "--2022-04-25 14:28:06--  http://download.cdn.yandex.net/mystem/mystem-3.0-linux3.1-64bit.tar.gz\n",
            "Resolving download.cdn.yandex.net (download.cdn.yandex.net)... 5.45.205.241, 5.45.205.242, 5.45.205.244, ...\n",
            "Connecting to download.cdn.yandex.net (download.cdn.yandex.net)|5.45.205.241|:80... connected.\n",
            "HTTP request sent, awaiting response... 302 Found\n",
            "Location: https://cachev2-spb03.cdn.yandex.net/download.cdn.yandex.net/mystem/mystem-3.0-linux3.1-64bit.tar.gz?lid=122 [following]\n",
            "--2022-04-25 14:28:07--  https://cachev2-spb03.cdn.yandex.net/download.cdn.yandex.net/mystem/mystem-3.0-linux3.1-64bit.tar.gz?lid=122\n",
            "Resolving cachev2-spb03.cdn.yandex.net (cachev2-spb03.cdn.yandex.net)... 37.140.137.3, 2a02:6b8:0:2221::303\n",
            "Connecting to cachev2-spb03.cdn.yandex.net (cachev2-spb03.cdn.yandex.net)|37.140.137.3|:443... connected.\n",
            "HTTP request sent, awaiting response... 200 OK\n",
            "Length: 16457938 (16M) [application/octet-stream]\n",
            "Saving to: ‘mystem-3.0-linux3.1-64bit.tar.gz.1’\n",
            "\n",
            "mystem-3.0-linux3.1 100%[===================>]  15.70M  5.06MB/s    in 3.1s    \n",
            "\n",
            "2022-04-25 14:28:12 (5.06 MB/s) - ‘mystem-3.0-linux3.1-64bit.tar.gz.1’ saved [16457938/16457938]\n",
            "\n",
            "mystem\n"
          ]
        }
      ]
    },
    {
      "cell_type": "code",
      "source": [
        "\n"
      ],
      "metadata": {
        "id": "BpYXaa1M8SyR"
      },
      "execution_count": 20,
      "outputs": []
    },
    {
      "cell_type": "code",
      "source": [
        "import matplotlib.pyplot as plt\n",
        "import pandas as pd\n",
        "import numpy as np\n",
        "\n",
        "import nltk\n",
        "from nltk.corpus import stopwords\n",
        "import re\n",
        "nltk.download('stopwords')\n",
        "from sklearn.feature_extraction.text import TfidfVectorizer \n",
        "from pymystem3 import Mystem\n",
        "\n",
        "from sklearn.model_selection import train_test_split\n",
        "from sklearn.metrics import accuracy_score, roc_auc_score, confusion_matrix, f1_score\n",
        "\n",
        "\n",
        "from sklearn.linear_model import LogisticRegression\n",
        "from sklearn.naive_bayes import MultinomialNB\n",
        "from sklearn.svm import LinearSVC\n",
        "from sklearn.linear_model import RidgeClassifier\n",
        "from sklearn.tree import DecisionTreeClassifier\n",
        "\n",
        "\n",
        "from tqdm import tqdm\n",
        "import seaborn as sns"
      ],
      "metadata": {
        "id": "KDwslrsmwe9C",
        "colab": {
          "base_uri": "https://localhost:8080/"
        },
        "outputId": "c211d51c-782e-4ddb-d834-43c6e8a5b1f1"
      },
      "execution_count": 21,
      "outputs": [
        {
          "output_type": "stream",
          "name": "stdout",
          "text": [
            "[nltk_data] Downloading package stopwords to /root/nltk_data...\n",
            "[nltk_data]   Package stopwords is already up-to-date!\n"
          ]
        }
      ]
    },
    {
      "cell_type": "markdown",
      "source": [
        "# **Описание задачи**\n",
        "\n",
        "В наш маркетплейс каждый день поступает множество новых товаров и каждый из них необходимо отнести в определенную категорию в нашем дереве категорий. На это тратится много сил и времени, поэтому мы хотим научиться предсказывать категорию на основе названий и параметров товаров. \n",
        "\n",
        "**categories_tree.csv** - файл с деревом категорий на маркетплейсе. У каждой категории есть id, заголовок и parent_id, по которому можно восстановить полный путь категории.\n",
        "\n",
        "**train.parquet** - файл с товарами на маркетплейсе. \n",
        "У каждого товара есть:\n",
        "\n",
        "- *id* - идентификатор товара\n",
        "- *title - заголовок*\n",
        "- *short_description - краткое описание*\n",
        "- *name_value_characteristics - название:значение* характеристики товара, может быть несколько для одного товара и для одной характеристик. Пример: `name1: value1 | value2 | valueN_1 / name2: value1 | value2 | valueN_2 / nameK: value1 | value2 | valueN_K`\n",
        "- *rating - средний рейтинг товара*\n",
        "- *feedback_quantity - количество отзывов по товару*\n",
        "- *category_id - категория товара(таргет)*\n",
        "\n",
        "\n",
        "**test.parquet** - файл идентичный train.parquet, но без реального category_id, именно его вам и предстоит предсказать."
      ],
      "metadata": {
        "id": "PpIwwU-qAfVb"
      }
    },
    {
      "cell_type": "markdown",
      "source": [
        "# **Знакомство с данными**"
      ],
      "metadata": {
        "id": "CCd61KlHyqLK"
      }
    },
    {
      "cell_type": "code",
      "source": [
        "PATH = '/content/drive/My Drive/kazanexpress'"
      ],
      "metadata": {
        "id": "0jOzA_DNyp8D"
      },
      "execution_count": 22,
      "outputs": []
    },
    {
      "cell_type": "code",
      "source": [
        "categories_tree = pd.read_csv(PATH+'/categories_tree.csv')\n",
        "categories_tree.head()"
      ],
      "metadata": {
        "id": "PVLmI6DewfBL",
        "colab": {
          "base_uri": "https://localhost:8080/",
          "height": 206
        },
        "outputId": "ea8fe154-5458-4c56-9bfc-6290621d3641"
      },
      "execution_count": 23,
      "outputs": [
        {
          "output_type": "execute_result",
          "data": {
            "text/plain": [
              "    id            title  parent_id\n",
              "0    1    Все категории          0\n",
              "1  114            Урбеч       1913\n",
              "2  115  Варенье и джемы        328\n",
              "3  128   Сухие завтраки       2475\n",
              "4  131            Масла       2475"
            ],
            "text/html": [
              "\n",
              "  <div id=\"df-4baee366-92f4-4cb8-b398-457da62f4636\">\n",
              "    <div class=\"colab-df-container\">\n",
              "      <div>\n",
              "<style scoped>\n",
              "    .dataframe tbody tr th:only-of-type {\n",
              "        vertical-align: middle;\n",
              "    }\n",
              "\n",
              "    .dataframe tbody tr th {\n",
              "        vertical-align: top;\n",
              "    }\n",
              "\n",
              "    .dataframe thead th {\n",
              "        text-align: right;\n",
              "    }\n",
              "</style>\n",
              "<table border=\"1\" class=\"dataframe\">\n",
              "  <thead>\n",
              "    <tr style=\"text-align: right;\">\n",
              "      <th></th>\n",
              "      <th>id</th>\n",
              "      <th>title</th>\n",
              "      <th>parent_id</th>\n",
              "    </tr>\n",
              "  </thead>\n",
              "  <tbody>\n",
              "    <tr>\n",
              "      <th>0</th>\n",
              "      <td>1</td>\n",
              "      <td>Все категории</td>\n",
              "      <td>0</td>\n",
              "    </tr>\n",
              "    <tr>\n",
              "      <th>1</th>\n",
              "      <td>114</td>\n",
              "      <td>Урбеч</td>\n",
              "      <td>1913</td>\n",
              "    </tr>\n",
              "    <tr>\n",
              "      <th>2</th>\n",
              "      <td>115</td>\n",
              "      <td>Варенье и джемы</td>\n",
              "      <td>328</td>\n",
              "    </tr>\n",
              "    <tr>\n",
              "      <th>3</th>\n",
              "      <td>128</td>\n",
              "      <td>Сухие завтраки</td>\n",
              "      <td>2475</td>\n",
              "    </tr>\n",
              "    <tr>\n",
              "      <th>4</th>\n",
              "      <td>131</td>\n",
              "      <td>Масла</td>\n",
              "      <td>2475</td>\n",
              "    </tr>\n",
              "  </tbody>\n",
              "</table>\n",
              "</div>\n",
              "      <button class=\"colab-df-convert\" onclick=\"convertToInteractive('df-4baee366-92f4-4cb8-b398-457da62f4636')\"\n",
              "              title=\"Convert this dataframe to an interactive table.\"\n",
              "              style=\"display:none;\">\n",
              "        \n",
              "  <svg xmlns=\"http://www.w3.org/2000/svg\" height=\"24px\"viewBox=\"0 0 24 24\"\n",
              "       width=\"24px\">\n",
              "    <path d=\"M0 0h24v24H0V0z\" fill=\"none\"/>\n",
              "    <path d=\"M18.56 5.44l.94 2.06.94-2.06 2.06-.94-2.06-.94-.94-2.06-.94 2.06-2.06.94zm-11 1L8.5 8.5l.94-2.06 2.06-.94-2.06-.94L8.5 2.5l-.94 2.06-2.06.94zm10 10l.94 2.06.94-2.06 2.06-.94-2.06-.94-.94-2.06-.94 2.06-2.06.94z\"/><path d=\"M17.41 7.96l-1.37-1.37c-.4-.4-.92-.59-1.43-.59-.52 0-1.04.2-1.43.59L10.3 9.45l-7.72 7.72c-.78.78-.78 2.05 0 2.83L4 21.41c.39.39.9.59 1.41.59.51 0 1.02-.2 1.41-.59l7.78-7.78 2.81-2.81c.8-.78.8-2.07 0-2.86zM5.41 20L4 18.59l7.72-7.72 1.47 1.35L5.41 20z\"/>\n",
              "  </svg>\n",
              "      </button>\n",
              "      \n",
              "  <style>\n",
              "    .colab-df-container {\n",
              "      display:flex;\n",
              "      flex-wrap:wrap;\n",
              "      gap: 12px;\n",
              "    }\n",
              "\n",
              "    .colab-df-convert {\n",
              "      background-color: #E8F0FE;\n",
              "      border: none;\n",
              "      border-radius: 50%;\n",
              "      cursor: pointer;\n",
              "      display: none;\n",
              "      fill: #1967D2;\n",
              "      height: 32px;\n",
              "      padding: 0 0 0 0;\n",
              "      width: 32px;\n",
              "    }\n",
              "\n",
              "    .colab-df-convert:hover {\n",
              "      background-color: #E2EBFA;\n",
              "      box-shadow: 0px 1px 2px rgba(60, 64, 67, 0.3), 0px 1px 3px 1px rgba(60, 64, 67, 0.15);\n",
              "      fill: #174EA6;\n",
              "    }\n",
              "\n",
              "    [theme=dark] .colab-df-convert {\n",
              "      background-color: #3B4455;\n",
              "      fill: #D2E3FC;\n",
              "    }\n",
              "\n",
              "    [theme=dark] .colab-df-convert:hover {\n",
              "      background-color: #434B5C;\n",
              "      box-shadow: 0px 1px 3px 1px rgba(0, 0, 0, 0.15);\n",
              "      filter: drop-shadow(0px 1px 2px rgba(0, 0, 0, 0.3));\n",
              "      fill: #FFFFFF;\n",
              "    }\n",
              "  </style>\n",
              "\n",
              "      <script>\n",
              "        const buttonEl =\n",
              "          document.querySelector('#df-4baee366-92f4-4cb8-b398-457da62f4636 button.colab-df-convert');\n",
              "        buttonEl.style.display =\n",
              "          google.colab.kernel.accessAllowed ? 'block' : 'none';\n",
              "\n",
              "        async function convertToInteractive(key) {\n",
              "          const element = document.querySelector('#df-4baee366-92f4-4cb8-b398-457da62f4636');\n",
              "          const dataTable =\n",
              "            await google.colab.kernel.invokeFunction('convertToInteractive',\n",
              "                                                     [key], {});\n",
              "          if (!dataTable) return;\n",
              "\n",
              "          const docLinkHtml = 'Like what you see? Visit the ' +\n",
              "            '<a target=\"_blank\" href=https://colab.research.google.com/notebooks/data_table.ipynb>data table notebook</a>'\n",
              "            + ' to learn more about interactive tables.';\n",
              "          element.innerHTML = '';\n",
              "          dataTable['output_type'] = 'display_data';\n",
              "          await google.colab.output.renderOutput(dataTable, element);\n",
              "          const docLink = document.createElement('div');\n",
              "          docLink.innerHTML = docLinkHtml;\n",
              "          element.appendChild(docLink);\n",
              "        }\n",
              "      </script>\n",
              "    </div>\n",
              "  </div>\n",
              "  "
            ]
          },
          "metadata": {},
          "execution_count": 23
        }
      ]
    },
    {
      "cell_type": "code",
      "source": [
        "df_train = pd.read_parquet(PATH+'/train.parquet')\n",
        "df_train.head()"
      ],
      "metadata": {
        "id": "w2RKcCr8wfFT",
        "colab": {
          "base_uri": "https://localhost:8080/",
          "height": 582
        },
        "outputId": "6b62b975-af74-41cc-b347-f77b497e2bb0"
      },
      "execution_count": 24,
      "outputs": [
        {
          "output_type": "execute_result",
          "data": {
            "text/plain": [
              "        id                                              title  \\\n",
              "0  1267423  Muhle Manikure Песочные колпачки для педикюра ...   \n",
              "1   128833                Sony Xperia L1 Защитное стекло 2,5D   \n",
              "2   569924     Конверт для денег Прекрасная роза, 16,5 х 8 см   \n",
              "3  1264824                                             Серьги   \n",
              "4  1339052  Наклейки на унитаз для туалета на крышку бачок...   \n",
              "\n",
              "                                   short_description  \\\n",
              "0  Muhle Manikure Колпачок песочный шлифовальный ...   \n",
              "1                                               None   \n",
              "2   Конверт для денег «Прекрасная роза», 16,5 × 8 см   \n",
              "3                                               None   \n",
              "4  Водостойкая, интересная наклейка на унитаз раз...   \n",
              "\n",
              "  name_value_characteristics    rating  feedback_quantity  category_id  \n",
              "0                       None  0.000000                  0         2693  \n",
              "1                       None  4.666667                  9        13408  \n",
              "2                       None  5.000000                  6        11790  \n",
              "3                       None  0.000000                  0        14076  \n",
              "4                       None  0.000000                  0        12401  "
            ],
            "text/html": [
              "\n",
              "  <div id=\"df-46be8267-748b-4471-8fa1-aced77ac6323\">\n",
              "    <div class=\"colab-df-container\">\n",
              "      <div>\n",
              "<style scoped>\n",
              "    .dataframe tbody tr th:only-of-type {\n",
              "        vertical-align: middle;\n",
              "    }\n",
              "\n",
              "    .dataframe tbody tr th {\n",
              "        vertical-align: top;\n",
              "    }\n",
              "\n",
              "    .dataframe thead th {\n",
              "        text-align: right;\n",
              "    }\n",
              "</style>\n",
              "<table border=\"1\" class=\"dataframe\">\n",
              "  <thead>\n",
              "    <tr style=\"text-align: right;\">\n",
              "      <th></th>\n",
              "      <th>id</th>\n",
              "      <th>title</th>\n",
              "      <th>short_description</th>\n",
              "      <th>name_value_characteristics</th>\n",
              "      <th>rating</th>\n",
              "      <th>feedback_quantity</th>\n",
              "      <th>category_id</th>\n",
              "    </tr>\n",
              "  </thead>\n",
              "  <tbody>\n",
              "    <tr>\n",
              "      <th>0</th>\n",
              "      <td>1267423</td>\n",
              "      <td>Muhle Manikure Песочные колпачки для педикюра ...</td>\n",
              "      <td>Muhle Manikure Колпачок песочный шлифовальный ...</td>\n",
              "      <td>None</td>\n",
              "      <td>0.000000</td>\n",
              "      <td>0</td>\n",
              "      <td>2693</td>\n",
              "    </tr>\n",
              "    <tr>\n",
              "      <th>1</th>\n",
              "      <td>128833</td>\n",
              "      <td>Sony Xperia L1 Защитное стекло 2,5D</td>\n",
              "      <td>None</td>\n",
              "      <td>None</td>\n",
              "      <td>4.666667</td>\n",
              "      <td>9</td>\n",
              "      <td>13408</td>\n",
              "    </tr>\n",
              "    <tr>\n",
              "      <th>2</th>\n",
              "      <td>569924</td>\n",
              "      <td>Конверт для денег Прекрасная роза, 16,5 х 8 см</td>\n",
              "      <td>Конверт для денег «Прекрасная роза», 16,5 × 8 см</td>\n",
              "      <td>None</td>\n",
              "      <td>5.000000</td>\n",
              "      <td>6</td>\n",
              "      <td>11790</td>\n",
              "    </tr>\n",
              "    <tr>\n",
              "      <th>3</th>\n",
              "      <td>1264824</td>\n",
              "      <td>Серьги</td>\n",
              "      <td>None</td>\n",
              "      <td>None</td>\n",
              "      <td>0.000000</td>\n",
              "      <td>0</td>\n",
              "      <td>14076</td>\n",
              "    </tr>\n",
              "    <tr>\n",
              "      <th>4</th>\n",
              "      <td>1339052</td>\n",
              "      <td>Наклейки на унитаз для туалета на крышку бачок...</td>\n",
              "      <td>Водостойкая, интересная наклейка на унитаз раз...</td>\n",
              "      <td>None</td>\n",
              "      <td>0.000000</td>\n",
              "      <td>0</td>\n",
              "      <td>12401</td>\n",
              "    </tr>\n",
              "  </tbody>\n",
              "</table>\n",
              "</div>\n",
              "      <button class=\"colab-df-convert\" onclick=\"convertToInteractive('df-46be8267-748b-4471-8fa1-aced77ac6323')\"\n",
              "              title=\"Convert this dataframe to an interactive table.\"\n",
              "              style=\"display:none;\">\n",
              "        \n",
              "  <svg xmlns=\"http://www.w3.org/2000/svg\" height=\"24px\"viewBox=\"0 0 24 24\"\n",
              "       width=\"24px\">\n",
              "    <path d=\"M0 0h24v24H0V0z\" fill=\"none\"/>\n",
              "    <path d=\"M18.56 5.44l.94 2.06.94-2.06 2.06-.94-2.06-.94-.94-2.06-.94 2.06-2.06.94zm-11 1L8.5 8.5l.94-2.06 2.06-.94-2.06-.94L8.5 2.5l-.94 2.06-2.06.94zm10 10l.94 2.06.94-2.06 2.06-.94-2.06-.94-.94-2.06-.94 2.06-2.06.94z\"/><path d=\"M17.41 7.96l-1.37-1.37c-.4-.4-.92-.59-1.43-.59-.52 0-1.04.2-1.43.59L10.3 9.45l-7.72 7.72c-.78.78-.78 2.05 0 2.83L4 21.41c.39.39.9.59 1.41.59.51 0 1.02-.2 1.41-.59l7.78-7.78 2.81-2.81c.8-.78.8-2.07 0-2.86zM5.41 20L4 18.59l7.72-7.72 1.47 1.35L5.41 20z\"/>\n",
              "  </svg>\n",
              "      </button>\n",
              "      \n",
              "  <style>\n",
              "    .colab-df-container {\n",
              "      display:flex;\n",
              "      flex-wrap:wrap;\n",
              "      gap: 12px;\n",
              "    }\n",
              "\n",
              "    .colab-df-convert {\n",
              "      background-color: #E8F0FE;\n",
              "      border: none;\n",
              "      border-radius: 50%;\n",
              "      cursor: pointer;\n",
              "      display: none;\n",
              "      fill: #1967D2;\n",
              "      height: 32px;\n",
              "      padding: 0 0 0 0;\n",
              "      width: 32px;\n",
              "    }\n",
              "\n",
              "    .colab-df-convert:hover {\n",
              "      background-color: #E2EBFA;\n",
              "      box-shadow: 0px 1px 2px rgba(60, 64, 67, 0.3), 0px 1px 3px 1px rgba(60, 64, 67, 0.15);\n",
              "      fill: #174EA6;\n",
              "    }\n",
              "\n",
              "    [theme=dark] .colab-df-convert {\n",
              "      background-color: #3B4455;\n",
              "      fill: #D2E3FC;\n",
              "    }\n",
              "\n",
              "    [theme=dark] .colab-df-convert:hover {\n",
              "      background-color: #434B5C;\n",
              "      box-shadow: 0px 1px 3px 1px rgba(0, 0, 0, 0.15);\n",
              "      filter: drop-shadow(0px 1px 2px rgba(0, 0, 0, 0.3));\n",
              "      fill: #FFFFFF;\n",
              "    }\n",
              "  </style>\n",
              "\n",
              "      <script>\n",
              "        const buttonEl =\n",
              "          document.querySelector('#df-46be8267-748b-4471-8fa1-aced77ac6323 button.colab-df-convert');\n",
              "        buttonEl.style.display =\n",
              "          google.colab.kernel.accessAllowed ? 'block' : 'none';\n",
              "\n",
              "        async function convertToInteractive(key) {\n",
              "          const element = document.querySelector('#df-46be8267-748b-4471-8fa1-aced77ac6323');\n",
              "          const dataTable =\n",
              "            await google.colab.kernel.invokeFunction('convertToInteractive',\n",
              "                                                     [key], {});\n",
              "          if (!dataTable) return;\n",
              "\n",
              "          const docLinkHtml = 'Like what you see? Visit the ' +\n",
              "            '<a target=\"_blank\" href=https://colab.research.google.com/notebooks/data_table.ipynb>data table notebook</a>'\n",
              "            + ' to learn more about interactive tables.';\n",
              "          element.innerHTML = '';\n",
              "          dataTable['output_type'] = 'display_data';\n",
              "          await google.colab.output.renderOutput(dataTable, element);\n",
              "          const docLink = document.createElement('div');\n",
              "          docLink.innerHTML = docLinkHtml;\n",
              "          element.appendChild(docLink);\n",
              "        }\n",
              "      </script>\n",
              "    </div>\n",
              "  </div>\n",
              "  "
            ]
          },
          "metadata": {},
          "execution_count": 24
        }
      ]
    },
    {
      "cell_type": "code",
      "source": [
        "df_test = pd.read_parquet(PATH+'/test.parquet')\n",
        "df_test.head()"
      ],
      "metadata": {
        "id": "r4l-Xm6cwfJg",
        "colab": {
          "base_uri": "https://localhost:8080/",
          "height": 461
        },
        "outputId": "b0e6b7ab-30eb-43e8-f124-56e353ce9d4a"
      },
      "execution_count": 25,
      "outputs": [
        {
          "output_type": "execute_result",
          "data": {
            "text/plain": [
              "        id                                              title  \\\n",
              "0  1070974                Браслет из натуральных камней LOTUS   \n",
              "1   450413  Fusion Life - Шампунь для сухих и окрашенных в...   \n",
              "2   126857         Микрофон для ПК jack 3,5мм всенаправленный   \n",
              "3  1577569                             Серьги гвоздики сердце   \n",
              "4   869328  Чёрно-красная стильная брошь \"Тюльпаны\" из акр...   \n",
              "\n",
              "                                   short_description  \\\n",
              "0                                               None   \n",
              "1                                               None   \n",
              "2     универсальный 3,5 мм микрофон запишет ваш звук   \n",
              "3                             Серьги гвоздики сердце   \n",
              "4  Стильная и яркая брошь ручной работы! Великоле...   \n",
              "\n",
              "  name_value_characteristics    rating  feedback_quantity  \n",
              "0                       None  0.000000                  0  \n",
              "1                       None  4.333333                  6  \n",
              "2                       None  3.708333                 24  \n",
              "3                       None  0.000000                  0  \n",
              "4                       None  0.000000                  0  "
            ],
            "text/html": [
              "\n",
              "  <div id=\"df-87b66434-2b4c-47ce-bc15-80748d5eb99b\">\n",
              "    <div class=\"colab-df-container\">\n",
              "      <div>\n",
              "<style scoped>\n",
              "    .dataframe tbody tr th:only-of-type {\n",
              "        vertical-align: middle;\n",
              "    }\n",
              "\n",
              "    .dataframe tbody tr th {\n",
              "        vertical-align: top;\n",
              "    }\n",
              "\n",
              "    .dataframe thead th {\n",
              "        text-align: right;\n",
              "    }\n",
              "</style>\n",
              "<table border=\"1\" class=\"dataframe\">\n",
              "  <thead>\n",
              "    <tr style=\"text-align: right;\">\n",
              "      <th></th>\n",
              "      <th>id</th>\n",
              "      <th>title</th>\n",
              "      <th>short_description</th>\n",
              "      <th>name_value_characteristics</th>\n",
              "      <th>rating</th>\n",
              "      <th>feedback_quantity</th>\n",
              "    </tr>\n",
              "  </thead>\n",
              "  <tbody>\n",
              "    <tr>\n",
              "      <th>0</th>\n",
              "      <td>1070974</td>\n",
              "      <td>Браслет из натуральных камней LOTUS</td>\n",
              "      <td>None</td>\n",
              "      <td>None</td>\n",
              "      <td>0.000000</td>\n",
              "      <td>0</td>\n",
              "    </tr>\n",
              "    <tr>\n",
              "      <th>1</th>\n",
              "      <td>450413</td>\n",
              "      <td>Fusion Life - Шампунь для сухих и окрашенных в...</td>\n",
              "      <td>None</td>\n",
              "      <td>None</td>\n",
              "      <td>4.333333</td>\n",
              "      <td>6</td>\n",
              "    </tr>\n",
              "    <tr>\n",
              "      <th>2</th>\n",
              "      <td>126857</td>\n",
              "      <td>Микрофон для ПК jack 3,5мм всенаправленный</td>\n",
              "      <td>универсальный 3,5 мм микрофон запишет ваш звук</td>\n",
              "      <td>None</td>\n",
              "      <td>3.708333</td>\n",
              "      <td>24</td>\n",
              "    </tr>\n",
              "    <tr>\n",
              "      <th>3</th>\n",
              "      <td>1577569</td>\n",
              "      <td>Серьги гвоздики сердце</td>\n",
              "      <td>Серьги гвоздики сердце</td>\n",
              "      <td>None</td>\n",
              "      <td>0.000000</td>\n",
              "      <td>0</td>\n",
              "    </tr>\n",
              "    <tr>\n",
              "      <th>4</th>\n",
              "      <td>869328</td>\n",
              "      <td>Чёрно-красная стильная брошь \"Тюльпаны\" из акр...</td>\n",
              "      <td>Стильная и яркая брошь ручной работы! Великоле...</td>\n",
              "      <td>None</td>\n",
              "      <td>0.000000</td>\n",
              "      <td>0</td>\n",
              "    </tr>\n",
              "  </tbody>\n",
              "</table>\n",
              "</div>\n",
              "      <button class=\"colab-df-convert\" onclick=\"convertToInteractive('df-87b66434-2b4c-47ce-bc15-80748d5eb99b')\"\n",
              "              title=\"Convert this dataframe to an interactive table.\"\n",
              "              style=\"display:none;\">\n",
              "        \n",
              "  <svg xmlns=\"http://www.w3.org/2000/svg\" height=\"24px\"viewBox=\"0 0 24 24\"\n",
              "       width=\"24px\">\n",
              "    <path d=\"M0 0h24v24H0V0z\" fill=\"none\"/>\n",
              "    <path d=\"M18.56 5.44l.94 2.06.94-2.06 2.06-.94-2.06-.94-.94-2.06-.94 2.06-2.06.94zm-11 1L8.5 8.5l.94-2.06 2.06-.94-2.06-.94L8.5 2.5l-.94 2.06-2.06.94zm10 10l.94 2.06.94-2.06 2.06-.94-2.06-.94-.94-2.06-.94 2.06-2.06.94z\"/><path d=\"M17.41 7.96l-1.37-1.37c-.4-.4-.92-.59-1.43-.59-.52 0-1.04.2-1.43.59L10.3 9.45l-7.72 7.72c-.78.78-.78 2.05 0 2.83L4 21.41c.39.39.9.59 1.41.59.51 0 1.02-.2 1.41-.59l7.78-7.78 2.81-2.81c.8-.78.8-2.07 0-2.86zM5.41 20L4 18.59l7.72-7.72 1.47 1.35L5.41 20z\"/>\n",
              "  </svg>\n",
              "      </button>\n",
              "      \n",
              "  <style>\n",
              "    .colab-df-container {\n",
              "      display:flex;\n",
              "      flex-wrap:wrap;\n",
              "      gap: 12px;\n",
              "    }\n",
              "\n",
              "    .colab-df-convert {\n",
              "      background-color: #E8F0FE;\n",
              "      border: none;\n",
              "      border-radius: 50%;\n",
              "      cursor: pointer;\n",
              "      display: none;\n",
              "      fill: #1967D2;\n",
              "      height: 32px;\n",
              "      padding: 0 0 0 0;\n",
              "      width: 32px;\n",
              "    }\n",
              "\n",
              "    .colab-df-convert:hover {\n",
              "      background-color: #E2EBFA;\n",
              "      box-shadow: 0px 1px 2px rgba(60, 64, 67, 0.3), 0px 1px 3px 1px rgba(60, 64, 67, 0.15);\n",
              "      fill: #174EA6;\n",
              "    }\n",
              "\n",
              "    [theme=dark] .colab-df-convert {\n",
              "      background-color: #3B4455;\n",
              "      fill: #D2E3FC;\n",
              "    }\n",
              "\n",
              "    [theme=dark] .colab-df-convert:hover {\n",
              "      background-color: #434B5C;\n",
              "      box-shadow: 0px 1px 3px 1px rgba(0, 0, 0, 0.15);\n",
              "      filter: drop-shadow(0px 1px 2px rgba(0, 0, 0, 0.3));\n",
              "      fill: #FFFFFF;\n",
              "    }\n",
              "  </style>\n",
              "\n",
              "      <script>\n",
              "        const buttonEl =\n",
              "          document.querySelector('#df-87b66434-2b4c-47ce-bc15-80748d5eb99b button.colab-df-convert');\n",
              "        buttonEl.style.display =\n",
              "          google.colab.kernel.accessAllowed ? 'block' : 'none';\n",
              "\n",
              "        async function convertToInteractive(key) {\n",
              "          const element = document.querySelector('#df-87b66434-2b4c-47ce-bc15-80748d5eb99b');\n",
              "          const dataTable =\n",
              "            await google.colab.kernel.invokeFunction('convertToInteractive',\n",
              "                                                     [key], {});\n",
              "          if (!dataTable) return;\n",
              "\n",
              "          const docLinkHtml = 'Like what you see? Visit the ' +\n",
              "            '<a target=\"_blank\" href=https://colab.research.google.com/notebooks/data_table.ipynb>data table notebook</a>'\n",
              "            + ' to learn more about interactive tables.';\n",
              "          element.innerHTML = '';\n",
              "          dataTable['output_type'] = 'display_data';\n",
              "          await google.colab.output.renderOutput(dataTable, element);\n",
              "          const docLink = document.createElement('div');\n",
              "          docLink.innerHTML = docLinkHtml;\n",
              "          element.appendChild(docLink);\n",
              "        }\n",
              "      </script>\n",
              "    </div>\n",
              "  </div>\n",
              "  "
            ]
          },
          "metadata": {},
          "execution_count": 25
        }
      ]
    },
    {
      "cell_type": "markdown",
      "source": [
        "## **Предобработка данных**\n",
        "\n",
        "Для каждой категории найдем полный путь в дереве категорий"
      ],
      "metadata": {
        "id": "xANa03c0B2vn"
      }
    },
    {
      "cell_type": "code",
      "source": [
        "# функция для оперделения родительской категории\n",
        "def chek(row):\n",
        "  if categories_tree[categories_tree['id']==row]['parent_id'].empty:\n",
        "    return\n",
        "  else:\n",
        "    return categories_tree.loc[categories_tree['id']==row]['parent_id'].values[0]\n"
      ],
      "metadata": {
        "id": "wzNedHGj72M7"
      },
      "execution_count": 26,
      "outputs": []
    },
    {
      "cell_type": "code",
      "source": [
        "categories_tree[\"level_1\"] = categories_tree[\"parent_id\"].apply(chek)\n",
        "categories_tree.head()"
      ],
      "metadata": {
        "colab": {
          "base_uri": "https://localhost:8080/",
          "height": 206
        },
        "id": "wd0_ZZWCCM7h",
        "outputId": "e0f2a155-2231-42a7-c49c-198c89630aa3"
      },
      "execution_count": 27,
      "outputs": [
        {
          "output_type": "execute_result",
          "data": {
            "text/plain": [
              "    id            title  parent_id  level_1\n",
              "0    1    Все категории          0      NaN\n",
              "1  114            Урбеч       1913   1821.0\n",
              "2  115  Варенье и джемы        328   1821.0\n",
              "3  128   Сухие завтраки       2475   1821.0\n",
              "4  131            Масла       2475   1821.0"
            ],
            "text/html": [
              "\n",
              "  <div id=\"df-e2059421-7a16-493b-aac4-e916ca9cf35a\">\n",
              "    <div class=\"colab-df-container\">\n",
              "      <div>\n",
              "<style scoped>\n",
              "    .dataframe tbody tr th:only-of-type {\n",
              "        vertical-align: middle;\n",
              "    }\n",
              "\n",
              "    .dataframe tbody tr th {\n",
              "        vertical-align: top;\n",
              "    }\n",
              "\n",
              "    .dataframe thead th {\n",
              "        text-align: right;\n",
              "    }\n",
              "</style>\n",
              "<table border=\"1\" class=\"dataframe\">\n",
              "  <thead>\n",
              "    <tr style=\"text-align: right;\">\n",
              "      <th></th>\n",
              "      <th>id</th>\n",
              "      <th>title</th>\n",
              "      <th>parent_id</th>\n",
              "      <th>level_1</th>\n",
              "    </tr>\n",
              "  </thead>\n",
              "  <tbody>\n",
              "    <tr>\n",
              "      <th>0</th>\n",
              "      <td>1</td>\n",
              "      <td>Все категории</td>\n",
              "      <td>0</td>\n",
              "      <td>NaN</td>\n",
              "    </tr>\n",
              "    <tr>\n",
              "      <th>1</th>\n",
              "      <td>114</td>\n",
              "      <td>Урбеч</td>\n",
              "      <td>1913</td>\n",
              "      <td>1821.0</td>\n",
              "    </tr>\n",
              "    <tr>\n",
              "      <th>2</th>\n",
              "      <td>115</td>\n",
              "      <td>Варенье и джемы</td>\n",
              "      <td>328</td>\n",
              "      <td>1821.0</td>\n",
              "    </tr>\n",
              "    <tr>\n",
              "      <th>3</th>\n",
              "      <td>128</td>\n",
              "      <td>Сухие завтраки</td>\n",
              "      <td>2475</td>\n",
              "      <td>1821.0</td>\n",
              "    </tr>\n",
              "    <tr>\n",
              "      <th>4</th>\n",
              "      <td>131</td>\n",
              "      <td>Масла</td>\n",
              "      <td>2475</td>\n",
              "      <td>1821.0</td>\n",
              "    </tr>\n",
              "  </tbody>\n",
              "</table>\n",
              "</div>\n",
              "      <button class=\"colab-df-convert\" onclick=\"convertToInteractive('df-e2059421-7a16-493b-aac4-e916ca9cf35a')\"\n",
              "              title=\"Convert this dataframe to an interactive table.\"\n",
              "              style=\"display:none;\">\n",
              "        \n",
              "  <svg xmlns=\"http://www.w3.org/2000/svg\" height=\"24px\"viewBox=\"0 0 24 24\"\n",
              "       width=\"24px\">\n",
              "    <path d=\"M0 0h24v24H0V0z\" fill=\"none\"/>\n",
              "    <path d=\"M18.56 5.44l.94 2.06.94-2.06 2.06-.94-2.06-.94-.94-2.06-.94 2.06-2.06.94zm-11 1L8.5 8.5l.94-2.06 2.06-.94-2.06-.94L8.5 2.5l-.94 2.06-2.06.94zm10 10l.94 2.06.94-2.06 2.06-.94-2.06-.94-.94-2.06-.94 2.06-2.06.94z\"/><path d=\"M17.41 7.96l-1.37-1.37c-.4-.4-.92-.59-1.43-.59-.52 0-1.04.2-1.43.59L10.3 9.45l-7.72 7.72c-.78.78-.78 2.05 0 2.83L4 21.41c.39.39.9.59 1.41.59.51 0 1.02-.2 1.41-.59l7.78-7.78 2.81-2.81c.8-.78.8-2.07 0-2.86zM5.41 20L4 18.59l7.72-7.72 1.47 1.35L5.41 20z\"/>\n",
              "  </svg>\n",
              "      </button>\n",
              "      \n",
              "  <style>\n",
              "    .colab-df-container {\n",
              "      display:flex;\n",
              "      flex-wrap:wrap;\n",
              "      gap: 12px;\n",
              "    }\n",
              "\n",
              "    .colab-df-convert {\n",
              "      background-color: #E8F0FE;\n",
              "      border: none;\n",
              "      border-radius: 50%;\n",
              "      cursor: pointer;\n",
              "      display: none;\n",
              "      fill: #1967D2;\n",
              "      height: 32px;\n",
              "      padding: 0 0 0 0;\n",
              "      width: 32px;\n",
              "    }\n",
              "\n",
              "    .colab-df-convert:hover {\n",
              "      background-color: #E2EBFA;\n",
              "      box-shadow: 0px 1px 2px rgba(60, 64, 67, 0.3), 0px 1px 3px 1px rgba(60, 64, 67, 0.15);\n",
              "      fill: #174EA6;\n",
              "    }\n",
              "\n",
              "    [theme=dark] .colab-df-convert {\n",
              "      background-color: #3B4455;\n",
              "      fill: #D2E3FC;\n",
              "    }\n",
              "\n",
              "    [theme=dark] .colab-df-convert:hover {\n",
              "      background-color: #434B5C;\n",
              "      box-shadow: 0px 1px 3px 1px rgba(0, 0, 0, 0.15);\n",
              "      filter: drop-shadow(0px 1px 2px rgba(0, 0, 0, 0.3));\n",
              "      fill: #FFFFFF;\n",
              "    }\n",
              "  </style>\n",
              "\n",
              "      <script>\n",
              "        const buttonEl =\n",
              "          document.querySelector('#df-e2059421-7a16-493b-aac4-e916ca9cf35a button.colab-df-convert');\n",
              "        buttonEl.style.display =\n",
              "          google.colab.kernel.accessAllowed ? 'block' : 'none';\n",
              "\n",
              "        async function convertToInteractive(key) {\n",
              "          const element = document.querySelector('#df-e2059421-7a16-493b-aac4-e916ca9cf35a');\n",
              "          const dataTable =\n",
              "            await google.colab.kernel.invokeFunction('convertToInteractive',\n",
              "                                                     [key], {});\n",
              "          if (!dataTable) return;\n",
              "\n",
              "          const docLinkHtml = 'Like what you see? Visit the ' +\n",
              "            '<a target=\"_blank\" href=https://colab.research.google.com/notebooks/data_table.ipynb>data table notebook</a>'\n",
              "            + ' to learn more about interactive tables.';\n",
              "          element.innerHTML = '';\n",
              "          dataTable['output_type'] = 'display_data';\n",
              "          await google.colab.output.renderOutput(dataTable, element);\n",
              "          const docLink = document.createElement('div');\n",
              "          docLink.innerHTML = docLinkHtml;\n",
              "          element.appendChild(docLink);\n",
              "        }\n",
              "      </script>\n",
              "    </div>\n",
              "  </div>\n",
              "  "
            ]
          },
          "metadata": {},
          "execution_count": 27
        }
      ]
    },
    {
      "cell_type": "code",
      "source": [
        "n = 2\n",
        "while categories_tree[f\"level_{n-1}\"].isna().sum() < categories_tree.shape[0]:\n",
        "  categories_tree[f\"level_{n}\"] = categories_tree[f\"level_{n-1}\"].apply(chek)\n",
        "  n+=1"
      ],
      "metadata": {
        "id": "Zg2zAzOzCWlJ"
      },
      "execution_count": 28,
      "outputs": []
    },
    {
      "cell_type": "code",
      "source": [
        "categories_tree.drop(['level_6'], axis=1,inplace=True)\n",
        "categories_tree.head()"
      ],
      "metadata": {
        "colab": {
          "base_uri": "https://localhost:8080/",
          "height": 206
        },
        "id": "Eu2BT_9UDWa1",
        "outputId": "e09397bf-d678-4837-887e-e51d39c00c9a"
      },
      "execution_count": 29,
      "outputs": [
        {
          "output_type": "execute_result",
          "data": {
            "text/plain": [
              "    id            title  parent_id  level_1  level_2  level_3  level_4  \\\n",
              "0    1    Все категории          0      NaN      NaN      NaN      NaN   \n",
              "1  114            Урбеч       1913   1821.0      1.0      0.0      NaN   \n",
              "2  115  Варенье и джемы        328   1821.0      1.0      0.0      NaN   \n",
              "3  128   Сухие завтраки       2475   1821.0      1.0      0.0      NaN   \n",
              "4  131            Масла       2475   1821.0      1.0      0.0      NaN   \n",
              "\n",
              "   level_5  \n",
              "0      NaN  \n",
              "1      NaN  \n",
              "2      NaN  \n",
              "3      NaN  \n",
              "4      NaN  "
            ],
            "text/html": [
              "\n",
              "  <div id=\"df-ce4a5aa7-5698-4481-a724-26c2b639d142\">\n",
              "    <div class=\"colab-df-container\">\n",
              "      <div>\n",
              "<style scoped>\n",
              "    .dataframe tbody tr th:only-of-type {\n",
              "        vertical-align: middle;\n",
              "    }\n",
              "\n",
              "    .dataframe tbody tr th {\n",
              "        vertical-align: top;\n",
              "    }\n",
              "\n",
              "    .dataframe thead th {\n",
              "        text-align: right;\n",
              "    }\n",
              "</style>\n",
              "<table border=\"1\" class=\"dataframe\">\n",
              "  <thead>\n",
              "    <tr style=\"text-align: right;\">\n",
              "      <th></th>\n",
              "      <th>id</th>\n",
              "      <th>title</th>\n",
              "      <th>parent_id</th>\n",
              "      <th>level_1</th>\n",
              "      <th>level_2</th>\n",
              "      <th>level_3</th>\n",
              "      <th>level_4</th>\n",
              "      <th>level_5</th>\n",
              "    </tr>\n",
              "  </thead>\n",
              "  <tbody>\n",
              "    <tr>\n",
              "      <th>0</th>\n",
              "      <td>1</td>\n",
              "      <td>Все категории</td>\n",
              "      <td>0</td>\n",
              "      <td>NaN</td>\n",
              "      <td>NaN</td>\n",
              "      <td>NaN</td>\n",
              "      <td>NaN</td>\n",
              "      <td>NaN</td>\n",
              "    </tr>\n",
              "    <tr>\n",
              "      <th>1</th>\n",
              "      <td>114</td>\n",
              "      <td>Урбеч</td>\n",
              "      <td>1913</td>\n",
              "      <td>1821.0</td>\n",
              "      <td>1.0</td>\n",
              "      <td>0.0</td>\n",
              "      <td>NaN</td>\n",
              "      <td>NaN</td>\n",
              "    </tr>\n",
              "    <tr>\n",
              "      <th>2</th>\n",
              "      <td>115</td>\n",
              "      <td>Варенье и джемы</td>\n",
              "      <td>328</td>\n",
              "      <td>1821.0</td>\n",
              "      <td>1.0</td>\n",
              "      <td>0.0</td>\n",
              "      <td>NaN</td>\n",
              "      <td>NaN</td>\n",
              "    </tr>\n",
              "    <tr>\n",
              "      <th>3</th>\n",
              "      <td>128</td>\n",
              "      <td>Сухие завтраки</td>\n",
              "      <td>2475</td>\n",
              "      <td>1821.0</td>\n",
              "      <td>1.0</td>\n",
              "      <td>0.0</td>\n",
              "      <td>NaN</td>\n",
              "      <td>NaN</td>\n",
              "    </tr>\n",
              "    <tr>\n",
              "      <th>4</th>\n",
              "      <td>131</td>\n",
              "      <td>Масла</td>\n",
              "      <td>2475</td>\n",
              "      <td>1821.0</td>\n",
              "      <td>1.0</td>\n",
              "      <td>0.0</td>\n",
              "      <td>NaN</td>\n",
              "      <td>NaN</td>\n",
              "    </tr>\n",
              "  </tbody>\n",
              "</table>\n",
              "</div>\n",
              "      <button class=\"colab-df-convert\" onclick=\"convertToInteractive('df-ce4a5aa7-5698-4481-a724-26c2b639d142')\"\n",
              "              title=\"Convert this dataframe to an interactive table.\"\n",
              "              style=\"display:none;\">\n",
              "        \n",
              "  <svg xmlns=\"http://www.w3.org/2000/svg\" height=\"24px\"viewBox=\"0 0 24 24\"\n",
              "       width=\"24px\">\n",
              "    <path d=\"M0 0h24v24H0V0z\" fill=\"none\"/>\n",
              "    <path d=\"M18.56 5.44l.94 2.06.94-2.06 2.06-.94-2.06-.94-.94-2.06-.94 2.06-2.06.94zm-11 1L8.5 8.5l.94-2.06 2.06-.94-2.06-.94L8.5 2.5l-.94 2.06-2.06.94zm10 10l.94 2.06.94-2.06 2.06-.94-2.06-.94-.94-2.06-.94 2.06-2.06.94z\"/><path d=\"M17.41 7.96l-1.37-1.37c-.4-.4-.92-.59-1.43-.59-.52 0-1.04.2-1.43.59L10.3 9.45l-7.72 7.72c-.78.78-.78 2.05 0 2.83L4 21.41c.39.39.9.59 1.41.59.51 0 1.02-.2 1.41-.59l7.78-7.78 2.81-2.81c.8-.78.8-2.07 0-2.86zM5.41 20L4 18.59l7.72-7.72 1.47 1.35L5.41 20z\"/>\n",
              "  </svg>\n",
              "      </button>\n",
              "      \n",
              "  <style>\n",
              "    .colab-df-container {\n",
              "      display:flex;\n",
              "      flex-wrap:wrap;\n",
              "      gap: 12px;\n",
              "    }\n",
              "\n",
              "    .colab-df-convert {\n",
              "      background-color: #E8F0FE;\n",
              "      border: none;\n",
              "      border-radius: 50%;\n",
              "      cursor: pointer;\n",
              "      display: none;\n",
              "      fill: #1967D2;\n",
              "      height: 32px;\n",
              "      padding: 0 0 0 0;\n",
              "      width: 32px;\n",
              "    }\n",
              "\n",
              "    .colab-df-convert:hover {\n",
              "      background-color: #E2EBFA;\n",
              "      box-shadow: 0px 1px 2px rgba(60, 64, 67, 0.3), 0px 1px 3px 1px rgba(60, 64, 67, 0.15);\n",
              "      fill: #174EA6;\n",
              "    }\n",
              "\n",
              "    [theme=dark] .colab-df-convert {\n",
              "      background-color: #3B4455;\n",
              "      fill: #D2E3FC;\n",
              "    }\n",
              "\n",
              "    [theme=dark] .colab-df-convert:hover {\n",
              "      background-color: #434B5C;\n",
              "      box-shadow: 0px 1px 3px 1px rgba(0, 0, 0, 0.15);\n",
              "      filter: drop-shadow(0px 1px 2px rgba(0, 0, 0, 0.3));\n",
              "      fill: #FFFFFF;\n",
              "    }\n",
              "  </style>\n",
              "\n",
              "      <script>\n",
              "        const buttonEl =\n",
              "          document.querySelector('#df-ce4a5aa7-5698-4481-a724-26c2b639d142 button.colab-df-convert');\n",
              "        buttonEl.style.display =\n",
              "          google.colab.kernel.accessAllowed ? 'block' : 'none';\n",
              "\n",
              "        async function convertToInteractive(key) {\n",
              "          const element = document.querySelector('#df-ce4a5aa7-5698-4481-a724-26c2b639d142');\n",
              "          const dataTable =\n",
              "            await google.colab.kernel.invokeFunction('convertToInteractive',\n",
              "                                                     [key], {});\n",
              "          if (!dataTable) return;\n",
              "\n",
              "          const docLinkHtml = 'Like what you see? Visit the ' +\n",
              "            '<a target=\"_blank\" href=https://colab.research.google.com/notebooks/data_table.ipynb>data table notebook</a>'\n",
              "            + ' to learn more about interactive tables.';\n",
              "          element.innerHTML = '';\n",
              "          dataTable['output_type'] = 'display_data';\n",
              "          await google.colab.output.renderOutput(dataTable, element);\n",
              "          const docLink = document.createElement('div');\n",
              "          docLink.innerHTML = docLinkHtml;\n",
              "          element.appendChild(docLink);\n",
              "        }\n",
              "      </script>\n",
              "    </div>\n",
              "  </div>\n",
              "  "
            ]
          },
          "metadata": {},
          "execution_count": 29
        }
      ]
    },
    {
      "cell_type": "code",
      "source": [
        "categories_tree.fillna('-1', inplace=True)\n",
        "categories_tree[['level_1', 'level_2', 'level_3',\n",
        "       'level_4', 'level_5']] = categories_tree[['level_1', 'level_2', 'level_3',\n",
        "       'level_4', 'level_5']].astype('int')\n",
        "\n",
        "\n",
        "categories_tree.replace(-1, 'w',inplace=True)\n",
        "categories_tree.head()"
      ],
      "metadata": {
        "colab": {
          "base_uri": "https://localhost:8080/",
          "height": 206
        },
        "id": "PP0nLc-ZEztc",
        "outputId": "2d7ebdaf-db36-4175-e3fa-435515583dbf"
      },
      "execution_count": 30,
      "outputs": [
        {
          "output_type": "execute_result",
          "data": {
            "text/plain": [
              "    id            title  parent_id level_1 level_2 level_3 level_4 level_5\n",
              "0    1    Все категории          0       w       w       w       w       w\n",
              "1  114            Урбеч       1913    1821       1       0       w       w\n",
              "2  115  Варенье и джемы        328    1821       1       0       w       w\n",
              "3  128   Сухие завтраки       2475    1821       1       0       w       w\n",
              "4  131            Масла       2475    1821       1       0       w       w"
            ],
            "text/html": [
              "\n",
              "  <div id=\"df-41a983bc-f630-4bf2-b242-25a0a4a772f1\">\n",
              "    <div class=\"colab-df-container\">\n",
              "      <div>\n",
              "<style scoped>\n",
              "    .dataframe tbody tr th:only-of-type {\n",
              "        vertical-align: middle;\n",
              "    }\n",
              "\n",
              "    .dataframe tbody tr th {\n",
              "        vertical-align: top;\n",
              "    }\n",
              "\n",
              "    .dataframe thead th {\n",
              "        text-align: right;\n",
              "    }\n",
              "</style>\n",
              "<table border=\"1\" class=\"dataframe\">\n",
              "  <thead>\n",
              "    <tr style=\"text-align: right;\">\n",
              "      <th></th>\n",
              "      <th>id</th>\n",
              "      <th>title</th>\n",
              "      <th>parent_id</th>\n",
              "      <th>level_1</th>\n",
              "      <th>level_2</th>\n",
              "      <th>level_3</th>\n",
              "      <th>level_4</th>\n",
              "      <th>level_5</th>\n",
              "    </tr>\n",
              "  </thead>\n",
              "  <tbody>\n",
              "    <tr>\n",
              "      <th>0</th>\n",
              "      <td>1</td>\n",
              "      <td>Все категории</td>\n",
              "      <td>0</td>\n",
              "      <td>w</td>\n",
              "      <td>w</td>\n",
              "      <td>w</td>\n",
              "      <td>w</td>\n",
              "      <td>w</td>\n",
              "    </tr>\n",
              "    <tr>\n",
              "      <th>1</th>\n",
              "      <td>114</td>\n",
              "      <td>Урбеч</td>\n",
              "      <td>1913</td>\n",
              "      <td>1821</td>\n",
              "      <td>1</td>\n",
              "      <td>0</td>\n",
              "      <td>w</td>\n",
              "      <td>w</td>\n",
              "    </tr>\n",
              "    <tr>\n",
              "      <th>2</th>\n",
              "      <td>115</td>\n",
              "      <td>Варенье и джемы</td>\n",
              "      <td>328</td>\n",
              "      <td>1821</td>\n",
              "      <td>1</td>\n",
              "      <td>0</td>\n",
              "      <td>w</td>\n",
              "      <td>w</td>\n",
              "    </tr>\n",
              "    <tr>\n",
              "      <th>3</th>\n",
              "      <td>128</td>\n",
              "      <td>Сухие завтраки</td>\n",
              "      <td>2475</td>\n",
              "      <td>1821</td>\n",
              "      <td>1</td>\n",
              "      <td>0</td>\n",
              "      <td>w</td>\n",
              "      <td>w</td>\n",
              "    </tr>\n",
              "    <tr>\n",
              "      <th>4</th>\n",
              "      <td>131</td>\n",
              "      <td>Масла</td>\n",
              "      <td>2475</td>\n",
              "      <td>1821</td>\n",
              "      <td>1</td>\n",
              "      <td>0</td>\n",
              "      <td>w</td>\n",
              "      <td>w</td>\n",
              "    </tr>\n",
              "  </tbody>\n",
              "</table>\n",
              "</div>\n",
              "      <button class=\"colab-df-convert\" onclick=\"convertToInteractive('df-41a983bc-f630-4bf2-b242-25a0a4a772f1')\"\n",
              "              title=\"Convert this dataframe to an interactive table.\"\n",
              "              style=\"display:none;\">\n",
              "        \n",
              "  <svg xmlns=\"http://www.w3.org/2000/svg\" height=\"24px\"viewBox=\"0 0 24 24\"\n",
              "       width=\"24px\">\n",
              "    <path d=\"M0 0h24v24H0V0z\" fill=\"none\"/>\n",
              "    <path d=\"M18.56 5.44l.94 2.06.94-2.06 2.06-.94-2.06-.94-.94-2.06-.94 2.06-2.06.94zm-11 1L8.5 8.5l.94-2.06 2.06-.94-2.06-.94L8.5 2.5l-.94 2.06-2.06.94zm10 10l.94 2.06.94-2.06 2.06-.94-2.06-.94-.94-2.06-.94 2.06-2.06.94z\"/><path d=\"M17.41 7.96l-1.37-1.37c-.4-.4-.92-.59-1.43-.59-.52 0-1.04.2-1.43.59L10.3 9.45l-7.72 7.72c-.78.78-.78 2.05 0 2.83L4 21.41c.39.39.9.59 1.41.59.51 0 1.02-.2 1.41-.59l7.78-7.78 2.81-2.81c.8-.78.8-2.07 0-2.86zM5.41 20L4 18.59l7.72-7.72 1.47 1.35L5.41 20z\"/>\n",
              "  </svg>\n",
              "      </button>\n",
              "      \n",
              "  <style>\n",
              "    .colab-df-container {\n",
              "      display:flex;\n",
              "      flex-wrap:wrap;\n",
              "      gap: 12px;\n",
              "    }\n",
              "\n",
              "    .colab-df-convert {\n",
              "      background-color: #E8F0FE;\n",
              "      border: none;\n",
              "      border-radius: 50%;\n",
              "      cursor: pointer;\n",
              "      display: none;\n",
              "      fill: #1967D2;\n",
              "      height: 32px;\n",
              "      padding: 0 0 0 0;\n",
              "      width: 32px;\n",
              "    }\n",
              "\n",
              "    .colab-df-convert:hover {\n",
              "      background-color: #E2EBFA;\n",
              "      box-shadow: 0px 1px 2px rgba(60, 64, 67, 0.3), 0px 1px 3px 1px rgba(60, 64, 67, 0.15);\n",
              "      fill: #174EA6;\n",
              "    }\n",
              "\n",
              "    [theme=dark] .colab-df-convert {\n",
              "      background-color: #3B4455;\n",
              "      fill: #D2E3FC;\n",
              "    }\n",
              "\n",
              "    [theme=dark] .colab-df-convert:hover {\n",
              "      background-color: #434B5C;\n",
              "      box-shadow: 0px 1px 3px 1px rgba(0, 0, 0, 0.15);\n",
              "      filter: drop-shadow(0px 1px 2px rgba(0, 0, 0, 0.3));\n",
              "      fill: #FFFFFF;\n",
              "    }\n",
              "  </style>\n",
              "\n",
              "      <script>\n",
              "        const buttonEl =\n",
              "          document.querySelector('#df-41a983bc-f630-4bf2-b242-25a0a4a772f1 button.colab-df-convert');\n",
              "        buttonEl.style.display =\n",
              "          google.colab.kernel.accessAllowed ? 'block' : 'none';\n",
              "\n",
              "        async function convertToInteractive(key) {\n",
              "          const element = document.querySelector('#df-41a983bc-f630-4bf2-b242-25a0a4a772f1');\n",
              "          const dataTable =\n",
              "            await google.colab.kernel.invokeFunction('convertToInteractive',\n",
              "                                                     [key], {});\n",
              "          if (!dataTable) return;\n",
              "\n",
              "          const docLinkHtml = 'Like what you see? Visit the ' +\n",
              "            '<a target=\"_blank\" href=https://colab.research.google.com/notebooks/data_table.ipynb>data table notebook</a>'\n",
              "            + ' to learn more about interactive tables.';\n",
              "          element.innerHTML = '';\n",
              "          dataTable['output_type'] = 'display_data';\n",
              "          await google.colab.output.renderOutput(dataTable, element);\n",
              "          const docLink = document.createElement('div');\n",
              "          docLink.innerHTML = docLinkHtml;\n",
              "          element.appendChild(docLink);\n",
              "        }\n",
              "      </script>\n",
              "    </div>\n",
              "  </div>\n",
              "  "
            ]
          },
          "metadata": {},
          "execution_count": 30
        }
      ]
    },
    {
      "cell_type": "code",
      "source": [
        "categories_tree[['parent_id','level_1', 'level_2', 'level_3',\n",
        "       'level_4', 'level_5']] = categories_tree[['parent_id','level_1', 'level_2', 'level_3',\n",
        "       'level_4', 'level_5']].astype('str')\n",
        "\n",
        "categories_tree['path'] =  categories_tree['parent_id'] + '.' +  categories_tree['level_1'] + '.' +  categories_tree['level_2'] + '.' +  categories_tree['level_3'] + '.' +  categories_tree['level_4'] + '.' +  categories_tree['level_5']\n",
        "\n",
        "categories_tree.head()"
      ],
      "metadata": {
        "colab": {
          "base_uri": "https://localhost:8080/",
          "height": 322
        },
        "id": "U3LrrkmqYyJF",
        "outputId": "bfcc5b55-9203-48ed-d11f-e3b7ef67d214"
      },
      "execution_count": 31,
      "outputs": [
        {
          "output_type": "execute_result",
          "data": {
            "text/plain": [
              "    id            title parent_id level_1 level_2 level_3 level_4 level_5  \\\n",
              "0    1    Все категории         0       w       w       w       w       w   \n",
              "1  114            Урбеч      1913    1821       1       0       w       w   \n",
              "2  115  Варенье и джемы       328    1821       1       0       w       w   \n",
              "3  128   Сухие завтраки      2475    1821       1       0       w       w   \n",
              "4  131            Масла      2475    1821       1       0       w       w   \n",
              "\n",
              "                path  \n",
              "0        0.w.w.w.w.w  \n",
              "1  1913.1821.1.0.w.w  \n",
              "2   328.1821.1.0.w.w  \n",
              "3  2475.1821.1.0.w.w  \n",
              "4  2475.1821.1.0.w.w  "
            ],
            "text/html": [
              "\n",
              "  <div id=\"df-bd9bd0d6-a2ec-43f7-8e27-bdc5849a754a\">\n",
              "    <div class=\"colab-df-container\">\n",
              "      <div>\n",
              "<style scoped>\n",
              "    .dataframe tbody tr th:only-of-type {\n",
              "        vertical-align: middle;\n",
              "    }\n",
              "\n",
              "    .dataframe tbody tr th {\n",
              "        vertical-align: top;\n",
              "    }\n",
              "\n",
              "    .dataframe thead th {\n",
              "        text-align: right;\n",
              "    }\n",
              "</style>\n",
              "<table border=\"1\" class=\"dataframe\">\n",
              "  <thead>\n",
              "    <tr style=\"text-align: right;\">\n",
              "      <th></th>\n",
              "      <th>id</th>\n",
              "      <th>title</th>\n",
              "      <th>parent_id</th>\n",
              "      <th>level_1</th>\n",
              "      <th>level_2</th>\n",
              "      <th>level_3</th>\n",
              "      <th>level_4</th>\n",
              "      <th>level_5</th>\n",
              "      <th>path</th>\n",
              "    </tr>\n",
              "  </thead>\n",
              "  <tbody>\n",
              "    <tr>\n",
              "      <th>0</th>\n",
              "      <td>1</td>\n",
              "      <td>Все категории</td>\n",
              "      <td>0</td>\n",
              "      <td>w</td>\n",
              "      <td>w</td>\n",
              "      <td>w</td>\n",
              "      <td>w</td>\n",
              "      <td>w</td>\n",
              "      <td>0.w.w.w.w.w</td>\n",
              "    </tr>\n",
              "    <tr>\n",
              "      <th>1</th>\n",
              "      <td>114</td>\n",
              "      <td>Урбеч</td>\n",
              "      <td>1913</td>\n",
              "      <td>1821</td>\n",
              "      <td>1</td>\n",
              "      <td>0</td>\n",
              "      <td>w</td>\n",
              "      <td>w</td>\n",
              "      <td>1913.1821.1.0.w.w</td>\n",
              "    </tr>\n",
              "    <tr>\n",
              "      <th>2</th>\n",
              "      <td>115</td>\n",
              "      <td>Варенье и джемы</td>\n",
              "      <td>328</td>\n",
              "      <td>1821</td>\n",
              "      <td>1</td>\n",
              "      <td>0</td>\n",
              "      <td>w</td>\n",
              "      <td>w</td>\n",
              "      <td>328.1821.1.0.w.w</td>\n",
              "    </tr>\n",
              "    <tr>\n",
              "      <th>3</th>\n",
              "      <td>128</td>\n",
              "      <td>Сухие завтраки</td>\n",
              "      <td>2475</td>\n",
              "      <td>1821</td>\n",
              "      <td>1</td>\n",
              "      <td>0</td>\n",
              "      <td>w</td>\n",
              "      <td>w</td>\n",
              "      <td>2475.1821.1.0.w.w</td>\n",
              "    </tr>\n",
              "    <tr>\n",
              "      <th>4</th>\n",
              "      <td>131</td>\n",
              "      <td>Масла</td>\n",
              "      <td>2475</td>\n",
              "      <td>1821</td>\n",
              "      <td>1</td>\n",
              "      <td>0</td>\n",
              "      <td>w</td>\n",
              "      <td>w</td>\n",
              "      <td>2475.1821.1.0.w.w</td>\n",
              "    </tr>\n",
              "  </tbody>\n",
              "</table>\n",
              "</div>\n",
              "      <button class=\"colab-df-convert\" onclick=\"convertToInteractive('df-bd9bd0d6-a2ec-43f7-8e27-bdc5849a754a')\"\n",
              "              title=\"Convert this dataframe to an interactive table.\"\n",
              "              style=\"display:none;\">\n",
              "        \n",
              "  <svg xmlns=\"http://www.w3.org/2000/svg\" height=\"24px\"viewBox=\"0 0 24 24\"\n",
              "       width=\"24px\">\n",
              "    <path d=\"M0 0h24v24H0V0z\" fill=\"none\"/>\n",
              "    <path d=\"M18.56 5.44l.94 2.06.94-2.06 2.06-.94-2.06-.94-.94-2.06-.94 2.06-2.06.94zm-11 1L8.5 8.5l.94-2.06 2.06-.94-2.06-.94L8.5 2.5l-.94 2.06-2.06.94zm10 10l.94 2.06.94-2.06 2.06-.94-2.06-.94-.94-2.06-.94 2.06-2.06.94z\"/><path d=\"M17.41 7.96l-1.37-1.37c-.4-.4-.92-.59-1.43-.59-.52 0-1.04.2-1.43.59L10.3 9.45l-7.72 7.72c-.78.78-.78 2.05 0 2.83L4 21.41c.39.39.9.59 1.41.59.51 0 1.02-.2 1.41-.59l7.78-7.78 2.81-2.81c.8-.78.8-2.07 0-2.86zM5.41 20L4 18.59l7.72-7.72 1.47 1.35L5.41 20z\"/>\n",
              "  </svg>\n",
              "      </button>\n",
              "      \n",
              "  <style>\n",
              "    .colab-df-container {\n",
              "      display:flex;\n",
              "      flex-wrap:wrap;\n",
              "      gap: 12px;\n",
              "    }\n",
              "\n",
              "    .colab-df-convert {\n",
              "      background-color: #E8F0FE;\n",
              "      border: none;\n",
              "      border-radius: 50%;\n",
              "      cursor: pointer;\n",
              "      display: none;\n",
              "      fill: #1967D2;\n",
              "      height: 32px;\n",
              "      padding: 0 0 0 0;\n",
              "      width: 32px;\n",
              "    }\n",
              "\n",
              "    .colab-df-convert:hover {\n",
              "      background-color: #E2EBFA;\n",
              "      box-shadow: 0px 1px 2px rgba(60, 64, 67, 0.3), 0px 1px 3px 1px rgba(60, 64, 67, 0.15);\n",
              "      fill: #174EA6;\n",
              "    }\n",
              "\n",
              "    [theme=dark] .colab-df-convert {\n",
              "      background-color: #3B4455;\n",
              "      fill: #D2E3FC;\n",
              "    }\n",
              "\n",
              "    [theme=dark] .colab-df-convert:hover {\n",
              "      background-color: #434B5C;\n",
              "      box-shadow: 0px 1px 3px 1px rgba(0, 0, 0, 0.15);\n",
              "      filter: drop-shadow(0px 1px 2px rgba(0, 0, 0, 0.3));\n",
              "      fill: #FFFFFF;\n",
              "    }\n",
              "  </style>\n",
              "\n",
              "      <script>\n",
              "        const buttonEl =\n",
              "          document.querySelector('#df-bd9bd0d6-a2ec-43f7-8e27-bdc5849a754a button.colab-df-convert');\n",
              "        buttonEl.style.display =\n",
              "          google.colab.kernel.accessAllowed ? 'block' : 'none';\n",
              "\n",
              "        async function convertToInteractive(key) {\n",
              "          const element = document.querySelector('#df-bd9bd0d6-a2ec-43f7-8e27-bdc5849a754a');\n",
              "          const dataTable =\n",
              "            await google.colab.kernel.invokeFunction('convertToInteractive',\n",
              "                                                     [key], {});\n",
              "          if (!dataTable) return;\n",
              "\n",
              "          const docLinkHtml = 'Like what you see? Visit the ' +\n",
              "            '<a target=\"_blank\" href=https://colab.research.google.com/notebooks/data_table.ipynb>data table notebook</a>'\n",
              "            + ' to learn more about interactive tables.';\n",
              "          element.innerHTML = '';\n",
              "          dataTable['output_type'] = 'display_data';\n",
              "          await google.colab.output.renderOutput(dataTable, element);\n",
              "          const docLink = document.createElement('div');\n",
              "          docLink.innerHTML = docLinkHtml;\n",
              "          element.appendChild(docLink);\n",
              "        }\n",
              "      </script>\n",
              "    </div>\n",
              "  </div>\n",
              "  "
            ]
          },
          "metadata": {},
          "execution_count": 31
        }
      ]
    },
    {
      "cell_type": "code",
      "source": [
        "categories_path = categories_tree[['id', 'title', 'path']]\n",
        "\n",
        "categories_path['path'] = categories_path['path'].apply(lambda x: x.replace('.w', ''))\n",
        "\n",
        "categories_path.rename(columns = {'id':'category_id'}, inplace=True)\n",
        "categories_path.head()"
      ],
      "metadata": {
        "colab": {
          "base_uri": "https://localhost:8080/",
          "height": 417
        },
        "id": "0xkdFh9-Z3-K",
        "outputId": "ad9bd1c3-d6c7-4d1f-926e-9079639d7b01"
      },
      "execution_count": 32,
      "outputs": [
        {
          "output_type": "stream",
          "name": "stderr",
          "text": [
            "/usr/local/lib/python3.7/dist-packages/ipykernel_launcher.py:3: SettingWithCopyWarning: \n",
            "A value is trying to be set on a copy of a slice from a DataFrame.\n",
            "Try using .loc[row_indexer,col_indexer] = value instead\n",
            "\n",
            "See the caveats in the documentation: https://pandas.pydata.org/pandas-docs/stable/user_guide/indexing.html#returning-a-view-versus-a-copy\n",
            "  This is separate from the ipykernel package so we can avoid doing imports until\n",
            "/usr/local/lib/python3.7/dist-packages/pandas/core/frame.py:5047: SettingWithCopyWarning: \n",
            "A value is trying to be set on a copy of a slice from a DataFrame\n",
            "\n",
            "See the caveats in the documentation: https://pandas.pydata.org/pandas-docs/stable/user_guide/indexing.html#returning-a-view-versus-a-copy\n",
            "  errors=errors,\n"
          ]
        },
        {
          "output_type": "execute_result",
          "data": {
            "text/plain": [
              "   category_id            title           path\n",
              "0            1    Все категории              0\n",
              "1          114            Урбеч  1913.1821.1.0\n",
              "2          115  Варенье и джемы   328.1821.1.0\n",
              "3          128   Сухие завтраки  2475.1821.1.0\n",
              "4          131            Масла  2475.1821.1.0"
            ],
            "text/html": [
              "\n",
              "  <div id=\"df-fc273714-713b-4807-9a47-d264ddc16eb1\">\n",
              "    <div class=\"colab-df-container\">\n",
              "      <div>\n",
              "<style scoped>\n",
              "    .dataframe tbody tr th:only-of-type {\n",
              "        vertical-align: middle;\n",
              "    }\n",
              "\n",
              "    .dataframe tbody tr th {\n",
              "        vertical-align: top;\n",
              "    }\n",
              "\n",
              "    .dataframe thead th {\n",
              "        text-align: right;\n",
              "    }\n",
              "</style>\n",
              "<table border=\"1\" class=\"dataframe\">\n",
              "  <thead>\n",
              "    <tr style=\"text-align: right;\">\n",
              "      <th></th>\n",
              "      <th>category_id</th>\n",
              "      <th>title</th>\n",
              "      <th>path</th>\n",
              "    </tr>\n",
              "  </thead>\n",
              "  <tbody>\n",
              "    <tr>\n",
              "      <th>0</th>\n",
              "      <td>1</td>\n",
              "      <td>Все категории</td>\n",
              "      <td>0</td>\n",
              "    </tr>\n",
              "    <tr>\n",
              "      <th>1</th>\n",
              "      <td>114</td>\n",
              "      <td>Урбеч</td>\n",
              "      <td>1913.1821.1.0</td>\n",
              "    </tr>\n",
              "    <tr>\n",
              "      <th>2</th>\n",
              "      <td>115</td>\n",
              "      <td>Варенье и джемы</td>\n",
              "      <td>328.1821.1.0</td>\n",
              "    </tr>\n",
              "    <tr>\n",
              "      <th>3</th>\n",
              "      <td>128</td>\n",
              "      <td>Сухие завтраки</td>\n",
              "      <td>2475.1821.1.0</td>\n",
              "    </tr>\n",
              "    <tr>\n",
              "      <th>4</th>\n",
              "      <td>131</td>\n",
              "      <td>Масла</td>\n",
              "      <td>2475.1821.1.0</td>\n",
              "    </tr>\n",
              "  </tbody>\n",
              "</table>\n",
              "</div>\n",
              "      <button class=\"colab-df-convert\" onclick=\"convertToInteractive('df-fc273714-713b-4807-9a47-d264ddc16eb1')\"\n",
              "              title=\"Convert this dataframe to an interactive table.\"\n",
              "              style=\"display:none;\">\n",
              "        \n",
              "  <svg xmlns=\"http://www.w3.org/2000/svg\" height=\"24px\"viewBox=\"0 0 24 24\"\n",
              "       width=\"24px\">\n",
              "    <path d=\"M0 0h24v24H0V0z\" fill=\"none\"/>\n",
              "    <path d=\"M18.56 5.44l.94 2.06.94-2.06 2.06-.94-2.06-.94-.94-2.06-.94 2.06-2.06.94zm-11 1L8.5 8.5l.94-2.06 2.06-.94-2.06-.94L8.5 2.5l-.94 2.06-2.06.94zm10 10l.94 2.06.94-2.06 2.06-.94-2.06-.94-.94-2.06-.94 2.06-2.06.94z\"/><path d=\"M17.41 7.96l-1.37-1.37c-.4-.4-.92-.59-1.43-.59-.52 0-1.04.2-1.43.59L10.3 9.45l-7.72 7.72c-.78.78-.78 2.05 0 2.83L4 21.41c.39.39.9.59 1.41.59.51 0 1.02-.2 1.41-.59l7.78-7.78 2.81-2.81c.8-.78.8-2.07 0-2.86zM5.41 20L4 18.59l7.72-7.72 1.47 1.35L5.41 20z\"/>\n",
              "  </svg>\n",
              "      </button>\n",
              "      \n",
              "  <style>\n",
              "    .colab-df-container {\n",
              "      display:flex;\n",
              "      flex-wrap:wrap;\n",
              "      gap: 12px;\n",
              "    }\n",
              "\n",
              "    .colab-df-convert {\n",
              "      background-color: #E8F0FE;\n",
              "      border: none;\n",
              "      border-radius: 50%;\n",
              "      cursor: pointer;\n",
              "      display: none;\n",
              "      fill: #1967D2;\n",
              "      height: 32px;\n",
              "      padding: 0 0 0 0;\n",
              "      width: 32px;\n",
              "    }\n",
              "\n",
              "    .colab-df-convert:hover {\n",
              "      background-color: #E2EBFA;\n",
              "      box-shadow: 0px 1px 2px rgba(60, 64, 67, 0.3), 0px 1px 3px 1px rgba(60, 64, 67, 0.15);\n",
              "      fill: #174EA6;\n",
              "    }\n",
              "\n",
              "    [theme=dark] .colab-df-convert {\n",
              "      background-color: #3B4455;\n",
              "      fill: #D2E3FC;\n",
              "    }\n",
              "\n",
              "    [theme=dark] .colab-df-convert:hover {\n",
              "      background-color: #434B5C;\n",
              "      box-shadow: 0px 1px 3px 1px rgba(0, 0, 0, 0.15);\n",
              "      filter: drop-shadow(0px 1px 2px rgba(0, 0, 0, 0.3));\n",
              "      fill: #FFFFFF;\n",
              "    }\n",
              "  </style>\n",
              "\n",
              "      <script>\n",
              "        const buttonEl =\n",
              "          document.querySelector('#df-fc273714-713b-4807-9a47-d264ddc16eb1 button.colab-df-convert');\n",
              "        buttonEl.style.display =\n",
              "          google.colab.kernel.accessAllowed ? 'block' : 'none';\n",
              "\n",
              "        async function convertToInteractive(key) {\n",
              "          const element = document.querySelector('#df-fc273714-713b-4807-9a47-d264ddc16eb1');\n",
              "          const dataTable =\n",
              "            await google.colab.kernel.invokeFunction('convertToInteractive',\n",
              "                                                     [key], {});\n",
              "          if (!dataTable) return;\n",
              "\n",
              "          const docLinkHtml = 'Like what you see? Visit the ' +\n",
              "            '<a target=\"_blank\" href=https://colab.research.google.com/notebooks/data_table.ipynb>data table notebook</a>'\n",
              "            + ' to learn more about interactive tables.';\n",
              "          element.innerHTML = '';\n",
              "          dataTable['output_type'] = 'display_data';\n",
              "          await google.colab.output.renderOutput(dataTable, element);\n",
              "          const docLink = document.createElement('div');\n",
              "          docLink.innerHTML = docLinkHtml;\n",
              "          element.appendChild(docLink);\n",
              "        }\n",
              "      </script>\n",
              "    </div>\n",
              "  </div>\n",
              "  "
            ]
          },
          "metadata": {},
          "execution_count": 32
        }
      ]
    },
    {
      "cell_type": "code",
      "source": [
        "df_train = df_train.merge(categories_path, on =['category_id'])\n",
        "df_train.head()"
      ],
      "metadata": {
        "colab": {
          "base_uri": "https://localhost:8080/",
          "height": 565
        },
        "id": "cBfOtuGtK6_g",
        "outputId": "eeca7c1b-7a8b-4f4b-9c9f-ade9d9bc572f"
      },
      "execution_count": 33,
      "outputs": [
        {
          "output_type": "execute_result",
          "data": {
            "text/plain": [
              "        id                                            title_x  \\\n",
              "0  1267423  Muhle Manikure Песочные колпачки для педикюра ...   \n",
              "1    93588     Маникюрное копытце для обработки ногтей, пушер   \n",
              "2  1293082  Апельсиновые палочки для маникюра и педикюра 1...   \n",
              "3   321741                       Щеточка для маникюра круглая   \n",
              "4  1447598        Тонкие деревянные ватные палочки микробраши   \n",
              "\n",
              "                                   short_description  \\\n",
              "0  Muhle Manikure Колпачок песочный шлифовальный ...   \n",
              "1                                               None   \n",
              "2  Апельсиновые палочки для маникюра и педикюра 1...   \n",
              "3                                               None   \n",
              "4                                               None   \n",
              "\n",
              "  name_value_characteristics    rating  feedback_quantity  category_id  \\\n",
              "0                       None  0.000000                  0         2693   \n",
              "1                       None  4.774194                 31         2693   \n",
              "2                       None  5.000000                  1         2693   \n",
              "3                Вид:Круглая  5.000000                  3         2693   \n",
              "4                       None  0.000000                  0         2693   \n",
              "\n",
              "                              title_y                   path  \n",
              "0  Аксессуары для маникюра и педикюра  10355.10113.10012.1.0  \n",
              "1  Аксессуары для маникюра и педикюра  10355.10113.10012.1.0  \n",
              "2  Аксессуары для маникюра и педикюра  10355.10113.10012.1.0  \n",
              "3  Аксессуары для маникюра и педикюра  10355.10113.10012.1.0  \n",
              "4  Аксессуары для маникюра и педикюра  10355.10113.10012.1.0  "
            ],
            "text/html": [
              "\n",
              "  <div id=\"df-b7f6ff03-c4ea-4295-bfe6-8bfc3250f64c\">\n",
              "    <div class=\"colab-df-container\">\n",
              "      <div>\n",
              "<style scoped>\n",
              "    .dataframe tbody tr th:only-of-type {\n",
              "        vertical-align: middle;\n",
              "    }\n",
              "\n",
              "    .dataframe tbody tr th {\n",
              "        vertical-align: top;\n",
              "    }\n",
              "\n",
              "    .dataframe thead th {\n",
              "        text-align: right;\n",
              "    }\n",
              "</style>\n",
              "<table border=\"1\" class=\"dataframe\">\n",
              "  <thead>\n",
              "    <tr style=\"text-align: right;\">\n",
              "      <th></th>\n",
              "      <th>id</th>\n",
              "      <th>title_x</th>\n",
              "      <th>short_description</th>\n",
              "      <th>name_value_characteristics</th>\n",
              "      <th>rating</th>\n",
              "      <th>feedback_quantity</th>\n",
              "      <th>category_id</th>\n",
              "      <th>title_y</th>\n",
              "      <th>path</th>\n",
              "    </tr>\n",
              "  </thead>\n",
              "  <tbody>\n",
              "    <tr>\n",
              "      <th>0</th>\n",
              "      <td>1267423</td>\n",
              "      <td>Muhle Manikure Песочные колпачки для педикюра ...</td>\n",
              "      <td>Muhle Manikure Колпачок песочный шлифовальный ...</td>\n",
              "      <td>None</td>\n",
              "      <td>0.000000</td>\n",
              "      <td>0</td>\n",
              "      <td>2693</td>\n",
              "      <td>Аксессуары для маникюра и педикюра</td>\n",
              "      <td>10355.10113.10012.1.0</td>\n",
              "    </tr>\n",
              "    <tr>\n",
              "      <th>1</th>\n",
              "      <td>93588</td>\n",
              "      <td>Маникюрное копытце для обработки ногтей, пушер</td>\n",
              "      <td>None</td>\n",
              "      <td>None</td>\n",
              "      <td>4.774194</td>\n",
              "      <td>31</td>\n",
              "      <td>2693</td>\n",
              "      <td>Аксессуары для маникюра и педикюра</td>\n",
              "      <td>10355.10113.10012.1.0</td>\n",
              "    </tr>\n",
              "    <tr>\n",
              "      <th>2</th>\n",
              "      <td>1293082</td>\n",
              "      <td>Апельсиновые палочки для маникюра и педикюра 1...</td>\n",
              "      <td>Апельсиновые палочки для маникюра и педикюра 1...</td>\n",
              "      <td>None</td>\n",
              "      <td>5.000000</td>\n",
              "      <td>1</td>\n",
              "      <td>2693</td>\n",
              "      <td>Аксессуары для маникюра и педикюра</td>\n",
              "      <td>10355.10113.10012.1.0</td>\n",
              "    </tr>\n",
              "    <tr>\n",
              "      <th>3</th>\n",
              "      <td>321741</td>\n",
              "      <td>Щеточка для маникюра круглая</td>\n",
              "      <td>None</td>\n",
              "      <td>Вид:Круглая</td>\n",
              "      <td>5.000000</td>\n",
              "      <td>3</td>\n",
              "      <td>2693</td>\n",
              "      <td>Аксессуары для маникюра и педикюра</td>\n",
              "      <td>10355.10113.10012.1.0</td>\n",
              "    </tr>\n",
              "    <tr>\n",
              "      <th>4</th>\n",
              "      <td>1447598</td>\n",
              "      <td>Тонкие деревянные ватные палочки микробраши</td>\n",
              "      <td>None</td>\n",
              "      <td>None</td>\n",
              "      <td>0.000000</td>\n",
              "      <td>0</td>\n",
              "      <td>2693</td>\n",
              "      <td>Аксессуары для маникюра и педикюра</td>\n",
              "      <td>10355.10113.10012.1.0</td>\n",
              "    </tr>\n",
              "  </tbody>\n",
              "</table>\n",
              "</div>\n",
              "      <button class=\"colab-df-convert\" onclick=\"convertToInteractive('df-b7f6ff03-c4ea-4295-bfe6-8bfc3250f64c')\"\n",
              "              title=\"Convert this dataframe to an interactive table.\"\n",
              "              style=\"display:none;\">\n",
              "        \n",
              "  <svg xmlns=\"http://www.w3.org/2000/svg\" height=\"24px\"viewBox=\"0 0 24 24\"\n",
              "       width=\"24px\">\n",
              "    <path d=\"M0 0h24v24H0V0z\" fill=\"none\"/>\n",
              "    <path d=\"M18.56 5.44l.94 2.06.94-2.06 2.06-.94-2.06-.94-.94-2.06-.94 2.06-2.06.94zm-11 1L8.5 8.5l.94-2.06 2.06-.94-2.06-.94L8.5 2.5l-.94 2.06-2.06.94zm10 10l.94 2.06.94-2.06 2.06-.94-2.06-.94-.94-2.06-.94 2.06-2.06.94z\"/><path d=\"M17.41 7.96l-1.37-1.37c-.4-.4-.92-.59-1.43-.59-.52 0-1.04.2-1.43.59L10.3 9.45l-7.72 7.72c-.78.78-.78 2.05 0 2.83L4 21.41c.39.39.9.59 1.41.59.51 0 1.02-.2 1.41-.59l7.78-7.78 2.81-2.81c.8-.78.8-2.07 0-2.86zM5.41 20L4 18.59l7.72-7.72 1.47 1.35L5.41 20z\"/>\n",
              "  </svg>\n",
              "      </button>\n",
              "      \n",
              "  <style>\n",
              "    .colab-df-container {\n",
              "      display:flex;\n",
              "      flex-wrap:wrap;\n",
              "      gap: 12px;\n",
              "    }\n",
              "\n",
              "    .colab-df-convert {\n",
              "      background-color: #E8F0FE;\n",
              "      border: none;\n",
              "      border-radius: 50%;\n",
              "      cursor: pointer;\n",
              "      display: none;\n",
              "      fill: #1967D2;\n",
              "      height: 32px;\n",
              "      padding: 0 0 0 0;\n",
              "      width: 32px;\n",
              "    }\n",
              "\n",
              "    .colab-df-convert:hover {\n",
              "      background-color: #E2EBFA;\n",
              "      box-shadow: 0px 1px 2px rgba(60, 64, 67, 0.3), 0px 1px 3px 1px rgba(60, 64, 67, 0.15);\n",
              "      fill: #174EA6;\n",
              "    }\n",
              "\n",
              "    [theme=dark] .colab-df-convert {\n",
              "      background-color: #3B4455;\n",
              "      fill: #D2E3FC;\n",
              "    }\n",
              "\n",
              "    [theme=dark] .colab-df-convert:hover {\n",
              "      background-color: #434B5C;\n",
              "      box-shadow: 0px 1px 3px 1px rgba(0, 0, 0, 0.15);\n",
              "      filter: drop-shadow(0px 1px 2px rgba(0, 0, 0, 0.3));\n",
              "      fill: #FFFFFF;\n",
              "    }\n",
              "  </style>\n",
              "\n",
              "      <script>\n",
              "        const buttonEl =\n",
              "          document.querySelector('#df-b7f6ff03-c4ea-4295-bfe6-8bfc3250f64c button.colab-df-convert');\n",
              "        buttonEl.style.display =\n",
              "          google.colab.kernel.accessAllowed ? 'block' : 'none';\n",
              "\n",
              "        async function convertToInteractive(key) {\n",
              "          const element = document.querySelector('#df-b7f6ff03-c4ea-4295-bfe6-8bfc3250f64c');\n",
              "          const dataTable =\n",
              "            await google.colab.kernel.invokeFunction('convertToInteractive',\n",
              "                                                     [key], {});\n",
              "          if (!dataTable) return;\n",
              "\n",
              "          const docLinkHtml = 'Like what you see? Visit the ' +\n",
              "            '<a target=\"_blank\" href=https://colab.research.google.com/notebooks/data_table.ipynb>data table notebook</a>'\n",
              "            + ' to learn more about interactive tables.';\n",
              "          element.innerHTML = '';\n",
              "          dataTable['output_type'] = 'display_data';\n",
              "          await google.colab.output.renderOutput(dataTable, element);\n",
              "          const docLink = document.createElement('div');\n",
              "          docLink.innerHTML = docLinkHtml;\n",
              "          element.appendChild(docLink);\n",
              "        }\n",
              "      </script>\n",
              "    </div>\n",
              "  </div>\n",
              "  "
            ]
          },
          "metadata": {},
          "execution_count": 33
        }
      ]
    },
    {
      "cell_type": "code",
      "source": [
        "df_train.name_value_characteristics = df_train.name_value_characteristics.fillna('ноль')\n",
        "df_train.short_description = df_train.short_description.fillna('ноль')\n",
        "df_train.short_description = df_train.short_description.replace('None','ноль')\n",
        "df_train.head()\n"
      ],
      "metadata": {
        "id": "dmNYdeu60bGy",
        "colab": {
          "base_uri": "https://localhost:8080/",
          "height": 565
        },
        "outputId": "c4a33faa-6163-44b2-b162-6961afabc44f"
      },
      "execution_count": 34,
      "outputs": [
        {
          "output_type": "execute_result",
          "data": {
            "text/plain": [
              "        id                                            title_x  \\\n",
              "0  1267423  Muhle Manikure Песочные колпачки для педикюра ...   \n",
              "1    93588     Маникюрное копытце для обработки ногтей, пушер   \n",
              "2  1293082  Апельсиновые палочки для маникюра и педикюра 1...   \n",
              "3   321741                       Щеточка для маникюра круглая   \n",
              "4  1447598        Тонкие деревянные ватные палочки микробраши   \n",
              "\n",
              "                                   short_description  \\\n",
              "0  Muhle Manikure Колпачок песочный шлифовальный ...   \n",
              "1                                               ноль   \n",
              "2  Апельсиновые палочки для маникюра и педикюра 1...   \n",
              "3                                               ноль   \n",
              "4                                               ноль   \n",
              "\n",
              "  name_value_characteristics    rating  feedback_quantity  category_id  \\\n",
              "0                       ноль  0.000000                  0         2693   \n",
              "1                       ноль  4.774194                 31         2693   \n",
              "2                       ноль  5.000000                  1         2693   \n",
              "3                Вид:Круглая  5.000000                  3         2693   \n",
              "4                       ноль  0.000000                  0         2693   \n",
              "\n",
              "                              title_y                   path  \n",
              "0  Аксессуары для маникюра и педикюра  10355.10113.10012.1.0  \n",
              "1  Аксессуары для маникюра и педикюра  10355.10113.10012.1.0  \n",
              "2  Аксессуары для маникюра и педикюра  10355.10113.10012.1.0  \n",
              "3  Аксессуары для маникюра и педикюра  10355.10113.10012.1.0  \n",
              "4  Аксессуары для маникюра и педикюра  10355.10113.10012.1.0  "
            ],
            "text/html": [
              "\n",
              "  <div id=\"df-1c9c3f42-b712-4a4a-aefc-a790a80f8cad\">\n",
              "    <div class=\"colab-df-container\">\n",
              "      <div>\n",
              "<style scoped>\n",
              "    .dataframe tbody tr th:only-of-type {\n",
              "        vertical-align: middle;\n",
              "    }\n",
              "\n",
              "    .dataframe tbody tr th {\n",
              "        vertical-align: top;\n",
              "    }\n",
              "\n",
              "    .dataframe thead th {\n",
              "        text-align: right;\n",
              "    }\n",
              "</style>\n",
              "<table border=\"1\" class=\"dataframe\">\n",
              "  <thead>\n",
              "    <tr style=\"text-align: right;\">\n",
              "      <th></th>\n",
              "      <th>id</th>\n",
              "      <th>title_x</th>\n",
              "      <th>short_description</th>\n",
              "      <th>name_value_characteristics</th>\n",
              "      <th>rating</th>\n",
              "      <th>feedback_quantity</th>\n",
              "      <th>category_id</th>\n",
              "      <th>title_y</th>\n",
              "      <th>path</th>\n",
              "    </tr>\n",
              "  </thead>\n",
              "  <tbody>\n",
              "    <tr>\n",
              "      <th>0</th>\n",
              "      <td>1267423</td>\n",
              "      <td>Muhle Manikure Песочные колпачки для педикюра ...</td>\n",
              "      <td>Muhle Manikure Колпачок песочный шлифовальный ...</td>\n",
              "      <td>ноль</td>\n",
              "      <td>0.000000</td>\n",
              "      <td>0</td>\n",
              "      <td>2693</td>\n",
              "      <td>Аксессуары для маникюра и педикюра</td>\n",
              "      <td>10355.10113.10012.1.0</td>\n",
              "    </tr>\n",
              "    <tr>\n",
              "      <th>1</th>\n",
              "      <td>93588</td>\n",
              "      <td>Маникюрное копытце для обработки ногтей, пушер</td>\n",
              "      <td>ноль</td>\n",
              "      <td>ноль</td>\n",
              "      <td>4.774194</td>\n",
              "      <td>31</td>\n",
              "      <td>2693</td>\n",
              "      <td>Аксессуары для маникюра и педикюра</td>\n",
              "      <td>10355.10113.10012.1.0</td>\n",
              "    </tr>\n",
              "    <tr>\n",
              "      <th>2</th>\n",
              "      <td>1293082</td>\n",
              "      <td>Апельсиновые палочки для маникюра и педикюра 1...</td>\n",
              "      <td>Апельсиновые палочки для маникюра и педикюра 1...</td>\n",
              "      <td>ноль</td>\n",
              "      <td>5.000000</td>\n",
              "      <td>1</td>\n",
              "      <td>2693</td>\n",
              "      <td>Аксессуары для маникюра и педикюра</td>\n",
              "      <td>10355.10113.10012.1.0</td>\n",
              "    </tr>\n",
              "    <tr>\n",
              "      <th>3</th>\n",
              "      <td>321741</td>\n",
              "      <td>Щеточка для маникюра круглая</td>\n",
              "      <td>ноль</td>\n",
              "      <td>Вид:Круглая</td>\n",
              "      <td>5.000000</td>\n",
              "      <td>3</td>\n",
              "      <td>2693</td>\n",
              "      <td>Аксессуары для маникюра и педикюра</td>\n",
              "      <td>10355.10113.10012.1.0</td>\n",
              "    </tr>\n",
              "    <tr>\n",
              "      <th>4</th>\n",
              "      <td>1447598</td>\n",
              "      <td>Тонкие деревянные ватные палочки микробраши</td>\n",
              "      <td>ноль</td>\n",
              "      <td>ноль</td>\n",
              "      <td>0.000000</td>\n",
              "      <td>0</td>\n",
              "      <td>2693</td>\n",
              "      <td>Аксессуары для маникюра и педикюра</td>\n",
              "      <td>10355.10113.10012.1.0</td>\n",
              "    </tr>\n",
              "  </tbody>\n",
              "</table>\n",
              "</div>\n",
              "      <button class=\"colab-df-convert\" onclick=\"convertToInteractive('df-1c9c3f42-b712-4a4a-aefc-a790a80f8cad')\"\n",
              "              title=\"Convert this dataframe to an interactive table.\"\n",
              "              style=\"display:none;\">\n",
              "        \n",
              "  <svg xmlns=\"http://www.w3.org/2000/svg\" height=\"24px\"viewBox=\"0 0 24 24\"\n",
              "       width=\"24px\">\n",
              "    <path d=\"M0 0h24v24H0V0z\" fill=\"none\"/>\n",
              "    <path d=\"M18.56 5.44l.94 2.06.94-2.06 2.06-.94-2.06-.94-.94-2.06-.94 2.06-2.06.94zm-11 1L8.5 8.5l.94-2.06 2.06-.94-2.06-.94L8.5 2.5l-.94 2.06-2.06.94zm10 10l.94 2.06.94-2.06 2.06-.94-2.06-.94-.94-2.06-.94 2.06-2.06.94z\"/><path d=\"M17.41 7.96l-1.37-1.37c-.4-.4-.92-.59-1.43-.59-.52 0-1.04.2-1.43.59L10.3 9.45l-7.72 7.72c-.78.78-.78 2.05 0 2.83L4 21.41c.39.39.9.59 1.41.59.51 0 1.02-.2 1.41-.59l7.78-7.78 2.81-2.81c.8-.78.8-2.07 0-2.86zM5.41 20L4 18.59l7.72-7.72 1.47 1.35L5.41 20z\"/>\n",
              "  </svg>\n",
              "      </button>\n",
              "      \n",
              "  <style>\n",
              "    .colab-df-container {\n",
              "      display:flex;\n",
              "      flex-wrap:wrap;\n",
              "      gap: 12px;\n",
              "    }\n",
              "\n",
              "    .colab-df-convert {\n",
              "      background-color: #E8F0FE;\n",
              "      border: none;\n",
              "      border-radius: 50%;\n",
              "      cursor: pointer;\n",
              "      display: none;\n",
              "      fill: #1967D2;\n",
              "      height: 32px;\n",
              "      padding: 0 0 0 0;\n",
              "      width: 32px;\n",
              "    }\n",
              "\n",
              "    .colab-df-convert:hover {\n",
              "      background-color: #E2EBFA;\n",
              "      box-shadow: 0px 1px 2px rgba(60, 64, 67, 0.3), 0px 1px 3px 1px rgba(60, 64, 67, 0.15);\n",
              "      fill: #174EA6;\n",
              "    }\n",
              "\n",
              "    [theme=dark] .colab-df-convert {\n",
              "      background-color: #3B4455;\n",
              "      fill: #D2E3FC;\n",
              "    }\n",
              "\n",
              "    [theme=dark] .colab-df-convert:hover {\n",
              "      background-color: #434B5C;\n",
              "      box-shadow: 0px 1px 3px 1px rgba(0, 0, 0, 0.15);\n",
              "      filter: drop-shadow(0px 1px 2px rgba(0, 0, 0, 0.3));\n",
              "      fill: #FFFFFF;\n",
              "    }\n",
              "  </style>\n",
              "\n",
              "      <script>\n",
              "        const buttonEl =\n",
              "          document.querySelector('#df-1c9c3f42-b712-4a4a-aefc-a790a80f8cad button.colab-df-convert');\n",
              "        buttonEl.style.display =\n",
              "          google.colab.kernel.accessAllowed ? 'block' : 'none';\n",
              "\n",
              "        async function convertToInteractive(key) {\n",
              "          const element = document.querySelector('#df-1c9c3f42-b712-4a4a-aefc-a790a80f8cad');\n",
              "          const dataTable =\n",
              "            await google.colab.kernel.invokeFunction('convertToInteractive',\n",
              "                                                     [key], {});\n",
              "          if (!dataTable) return;\n",
              "\n",
              "          const docLinkHtml = 'Like what you see? Visit the ' +\n",
              "            '<a target=\"_blank\" href=https://colab.research.google.com/notebooks/data_table.ipynb>data table notebook</a>'\n",
              "            + ' to learn more about interactive tables.';\n",
              "          element.innerHTML = '';\n",
              "          dataTable['output_type'] = 'display_data';\n",
              "          await google.colab.output.renderOutput(dataTable, element);\n",
              "          const docLink = document.createElement('div');\n",
              "          docLink.innerHTML = docLinkHtml;\n",
              "          element.appendChild(docLink);\n",
              "        }\n",
              "      </script>\n",
              "    </div>\n",
              "  </div>\n",
              "  "
            ]
          },
          "metadata": {},
          "execution_count": 34
        }
      ]
    },
    {
      "cell_type": "markdown",
      "source": [
        "## **Подготовка текстовых данных**"
      ],
      "metadata": {
        "id": "iJzh8-yOdc9A"
      }
    },
    {
      "cell_type": "code",
      "source": [
        "# лемматизация\n",
        "\n",
        "nltk.download('stopwords')\n",
        "\n",
        "def to_lemma(df, col_name):\n",
        "  df_copy = df.copy()\n",
        "  m = Mystem()\n",
        "  lemma = '<>'.join(df_copy[col_name].to_list()).lower()\n",
        "  lemma = m.lemmatize(lemma)\n",
        "  #стоп-слова\n",
        "  # nltk.download('stopwords')\n",
        "  russian_stopwords = stopwords.words(\"russian\")\n",
        "  # russian_stopwords.remove('не')\n",
        "  lemma_without_stop = [x for x in lemma if x not in russian_stopwords]\n",
        "  lemma_without_stop = ' '.join(lemma_without_stop)\n",
        "  lemma_without_stop = re.sub('[^<>а-яА-Яa-zA-z0-9]', ' ', lemma_without_stop)\n",
        "  \n",
        "  lemma_without_stop = re.sub(r'\\s+', ' ', lemma_without_stop)\n",
        "  df_copy[col_name] = lemma_without_stop.split('<>')\n",
        "  return df_copy"
      ],
      "metadata": {
        "colab": {
          "base_uri": "https://localhost:8080/"
        },
        "id": "__b-UXH1LX46",
        "outputId": "622a0a3b-4015-46bb-d49a-e15506017321"
      },
      "execution_count": 35,
      "outputs": [
        {
          "output_type": "stream",
          "name": "stdout",
          "text": [
            "[nltk_data] Downloading package stopwords to /root/nltk_data...\n",
            "[nltk_data]   Package stopwords is already up-to-date!\n"
          ]
        }
      ]
    },
    {
      "cell_type": "code",
      "source": [
        "df_train = to_lemma(df_train, 'title_x')\n",
        "df_train = to_lemma(df_train, 'short_description')\n",
        "df_train = to_lemma(df_train, 'name_value_characteristics')\n",
        "df_train.head()"
      ],
      "metadata": {
        "colab": {
          "base_uri": "https://localhost:8080/",
          "height": 600
        },
        "id": "I39PBo1_LX8a",
        "outputId": "02083f03-23a7-4b4b-e693-68f356224cfd"
      },
      "execution_count": 36,
      "outputs": [
        {
          "output_type": "execute_result",
          "data": {
            "text/plain": [
              "        id                                            title_x  \\\n",
              "0  1267423  muhle manikure песочный колпачок педикюр 1015 ...   \n",
              "1    93588         маникюрный копытце обработка ноготь пушер    \n",
              "2  1293082   апельсиновый палочка маникюр педикюр 11 5 см ...   \n",
              "3   321741                           щеточка маникюр круглый    \n",
              "4  1447598       тонкий деревянный ватный палочка микробраша    \n",
              "\n",
              "                                   short_description  \\\n",
              "0  muhle manikure колпачок песочный шлифовальный ...   \n",
              "1                                              ноль    \n",
              "2   апельсиновый палочка маникюр педикюр 11 5 см ...   \n",
              "3                                              ноль    \n",
              "4                                              ноль    \n",
              "\n",
              "  name_value_characteristics    rating  feedback_quantity  category_id  \\\n",
              "0                      ноль   0.000000                  0         2693   \n",
              "1                      ноль   4.774194                 31         2693   \n",
              "2                      ноль   5.000000                  1         2693   \n",
              "3               вид круглый   5.000000                  3         2693   \n",
              "4                      ноль   0.000000                  0         2693   \n",
              "\n",
              "                              title_y                   path  \n",
              "0  Аксессуары для маникюра и педикюра  10355.10113.10012.1.0  \n",
              "1  Аксессуары для маникюра и педикюра  10355.10113.10012.1.0  \n",
              "2  Аксессуары для маникюра и педикюра  10355.10113.10012.1.0  \n",
              "3  Аксессуары для маникюра и педикюра  10355.10113.10012.1.0  \n",
              "4  Аксессуары для маникюра и педикюра  10355.10113.10012.1.0  "
            ],
            "text/html": [
              "\n",
              "  <div id=\"df-6a99cc11-0555-4199-b089-bd928b37b127\">\n",
              "    <div class=\"colab-df-container\">\n",
              "      <div>\n",
              "<style scoped>\n",
              "    .dataframe tbody tr th:only-of-type {\n",
              "        vertical-align: middle;\n",
              "    }\n",
              "\n",
              "    .dataframe tbody tr th {\n",
              "        vertical-align: top;\n",
              "    }\n",
              "\n",
              "    .dataframe thead th {\n",
              "        text-align: right;\n",
              "    }\n",
              "</style>\n",
              "<table border=\"1\" class=\"dataframe\">\n",
              "  <thead>\n",
              "    <tr style=\"text-align: right;\">\n",
              "      <th></th>\n",
              "      <th>id</th>\n",
              "      <th>title_x</th>\n",
              "      <th>short_description</th>\n",
              "      <th>name_value_characteristics</th>\n",
              "      <th>rating</th>\n",
              "      <th>feedback_quantity</th>\n",
              "      <th>category_id</th>\n",
              "      <th>title_y</th>\n",
              "      <th>path</th>\n",
              "    </tr>\n",
              "  </thead>\n",
              "  <tbody>\n",
              "    <tr>\n",
              "      <th>0</th>\n",
              "      <td>1267423</td>\n",
              "      <td>muhle manikure песочный колпачок педикюр 1015 ...</td>\n",
              "      <td>muhle manikure колпачок песочный шлифовальный ...</td>\n",
              "      <td>ноль</td>\n",
              "      <td>0.000000</td>\n",
              "      <td>0</td>\n",
              "      <td>2693</td>\n",
              "      <td>Аксессуары для маникюра и педикюра</td>\n",
              "      <td>10355.10113.10012.1.0</td>\n",
              "    </tr>\n",
              "    <tr>\n",
              "      <th>1</th>\n",
              "      <td>93588</td>\n",
              "      <td>маникюрный копытце обработка ноготь пушер</td>\n",
              "      <td>ноль</td>\n",
              "      <td>ноль</td>\n",
              "      <td>4.774194</td>\n",
              "      <td>31</td>\n",
              "      <td>2693</td>\n",
              "      <td>Аксессуары для маникюра и педикюра</td>\n",
              "      <td>10355.10113.10012.1.0</td>\n",
              "    </tr>\n",
              "    <tr>\n",
              "      <th>2</th>\n",
              "      <td>1293082</td>\n",
              "      <td>апельсиновый палочка маникюр педикюр 11 5 см ...</td>\n",
              "      <td>апельсиновый палочка маникюр педикюр 11 5 см ...</td>\n",
              "      <td>ноль</td>\n",
              "      <td>5.000000</td>\n",
              "      <td>1</td>\n",
              "      <td>2693</td>\n",
              "      <td>Аксессуары для маникюра и педикюра</td>\n",
              "      <td>10355.10113.10012.1.0</td>\n",
              "    </tr>\n",
              "    <tr>\n",
              "      <th>3</th>\n",
              "      <td>321741</td>\n",
              "      <td>щеточка маникюр круглый</td>\n",
              "      <td>ноль</td>\n",
              "      <td>вид круглый</td>\n",
              "      <td>5.000000</td>\n",
              "      <td>3</td>\n",
              "      <td>2693</td>\n",
              "      <td>Аксессуары для маникюра и педикюра</td>\n",
              "      <td>10355.10113.10012.1.0</td>\n",
              "    </tr>\n",
              "    <tr>\n",
              "      <th>4</th>\n",
              "      <td>1447598</td>\n",
              "      <td>тонкий деревянный ватный палочка микробраша</td>\n",
              "      <td>ноль</td>\n",
              "      <td>ноль</td>\n",
              "      <td>0.000000</td>\n",
              "      <td>0</td>\n",
              "      <td>2693</td>\n",
              "      <td>Аксессуары для маникюра и педикюра</td>\n",
              "      <td>10355.10113.10012.1.0</td>\n",
              "    </tr>\n",
              "  </tbody>\n",
              "</table>\n",
              "</div>\n",
              "      <button class=\"colab-df-convert\" onclick=\"convertToInteractive('df-6a99cc11-0555-4199-b089-bd928b37b127')\"\n",
              "              title=\"Convert this dataframe to an interactive table.\"\n",
              "              style=\"display:none;\">\n",
              "        \n",
              "  <svg xmlns=\"http://www.w3.org/2000/svg\" height=\"24px\"viewBox=\"0 0 24 24\"\n",
              "       width=\"24px\">\n",
              "    <path d=\"M0 0h24v24H0V0z\" fill=\"none\"/>\n",
              "    <path d=\"M18.56 5.44l.94 2.06.94-2.06 2.06-.94-2.06-.94-.94-2.06-.94 2.06-2.06.94zm-11 1L8.5 8.5l.94-2.06 2.06-.94-2.06-.94L8.5 2.5l-.94 2.06-2.06.94zm10 10l.94 2.06.94-2.06 2.06-.94-2.06-.94-.94-2.06-.94 2.06-2.06.94z\"/><path d=\"M17.41 7.96l-1.37-1.37c-.4-.4-.92-.59-1.43-.59-.52 0-1.04.2-1.43.59L10.3 9.45l-7.72 7.72c-.78.78-.78 2.05 0 2.83L4 21.41c.39.39.9.59 1.41.59.51 0 1.02-.2 1.41-.59l7.78-7.78 2.81-2.81c.8-.78.8-2.07 0-2.86zM5.41 20L4 18.59l7.72-7.72 1.47 1.35L5.41 20z\"/>\n",
              "  </svg>\n",
              "      </button>\n",
              "      \n",
              "  <style>\n",
              "    .colab-df-container {\n",
              "      display:flex;\n",
              "      flex-wrap:wrap;\n",
              "      gap: 12px;\n",
              "    }\n",
              "\n",
              "    .colab-df-convert {\n",
              "      background-color: #E8F0FE;\n",
              "      border: none;\n",
              "      border-radius: 50%;\n",
              "      cursor: pointer;\n",
              "      display: none;\n",
              "      fill: #1967D2;\n",
              "      height: 32px;\n",
              "      padding: 0 0 0 0;\n",
              "      width: 32px;\n",
              "    }\n",
              "\n",
              "    .colab-df-convert:hover {\n",
              "      background-color: #E2EBFA;\n",
              "      box-shadow: 0px 1px 2px rgba(60, 64, 67, 0.3), 0px 1px 3px 1px rgba(60, 64, 67, 0.15);\n",
              "      fill: #174EA6;\n",
              "    }\n",
              "\n",
              "    [theme=dark] .colab-df-convert {\n",
              "      background-color: #3B4455;\n",
              "      fill: #D2E3FC;\n",
              "    }\n",
              "\n",
              "    [theme=dark] .colab-df-convert:hover {\n",
              "      background-color: #434B5C;\n",
              "      box-shadow: 0px 1px 3px 1px rgba(0, 0, 0, 0.15);\n",
              "      filter: drop-shadow(0px 1px 2px rgba(0, 0, 0, 0.3));\n",
              "      fill: #FFFFFF;\n",
              "    }\n",
              "  </style>\n",
              "\n",
              "      <script>\n",
              "        const buttonEl =\n",
              "          document.querySelector('#df-6a99cc11-0555-4199-b089-bd928b37b127 button.colab-df-convert');\n",
              "        buttonEl.style.display =\n",
              "          google.colab.kernel.accessAllowed ? 'block' : 'none';\n",
              "\n",
              "        async function convertToInteractive(key) {\n",
              "          const element = document.querySelector('#df-6a99cc11-0555-4199-b089-bd928b37b127');\n",
              "          const dataTable =\n",
              "            await google.colab.kernel.invokeFunction('convertToInteractive',\n",
              "                                                     [key], {});\n",
              "          if (!dataTable) return;\n",
              "\n",
              "          const docLinkHtml = 'Like what you see? Visit the ' +\n",
              "            '<a target=\"_blank\" href=https://colab.research.google.com/notebooks/data_table.ipynb>data table notebook</a>'\n",
              "            + ' to learn more about interactive tables.';\n",
              "          element.innerHTML = '';\n",
              "          dataTable['output_type'] = 'display_data';\n",
              "          await google.colab.output.renderOutput(dataTable, element);\n",
              "          const docLink = document.createElement('div');\n",
              "          docLink.innerHTML = docLinkHtml;\n",
              "          element.appendChild(docLink);\n",
              "        }\n",
              "      </script>\n",
              "    </div>\n",
              "  </div>\n",
              "  "
            ]
          },
          "metadata": {},
          "execution_count": 36
        }
      ]
    },
    {
      "cell_type": "markdown",
      "source": [
        "**Объединим название товара, краткое описание и характеристики**"
      ],
      "metadata": {
        "id": "YqFRyLXGd7YR"
      }
    },
    {
      "cell_type": "code",
      "source": [
        "# df_train['rating'] = df_train['rating'].astype('str')\n",
        "# df_train['feedback_quantity'] = df_train['feedback_quantity'].astype('str')"
      ],
      "metadata": {
        "id": "peo96eZbGt8Y"
      },
      "execution_count": 37,
      "outputs": []
    },
    {
      "cell_type": "code",
      "source": [
        "df_train['title_all'] = df_train['title_x'] +\tdf_train['short_description'] +\tdf_train['name_value_characteristics']\n",
        "\n",
        "# df_train['title_all'] = df_train['title_x'] +\tdf_train['short_description'] +\tdf_train['name_value_characteristics'] + 'рейтинг ' + df_train['rating'] + ' отзыв ' +\tdf_train['feedback_quantity']"
      ],
      "metadata": {
        "id": "5yut3I-CC6VN"
      },
      "execution_count": 38,
      "outputs": []
    },
    {
      "cell_type": "code",
      "source": [
        "df_train['title_all'] = df_train['title_all'].apply(lambda x: x.replace('ноль', ''))\n",
        "df_train.head()"
      ],
      "metadata": {
        "colab": {
          "base_uri": "https://localhost:8080/",
          "height": 600
        },
        "id": "CwDPEw49DTcl",
        "outputId": "ab91110c-4a36-41d3-d6d8-fb119d606c2e"
      },
      "execution_count": 39,
      "outputs": [
        {
          "output_type": "execute_result",
          "data": {
            "text/plain": [
              "        id                                            title_x  \\\n",
              "0  1267423  muhle manikure песочный колпачок педикюр 1015 ...   \n",
              "1    93588         маникюрный копытце обработка ноготь пушер    \n",
              "2  1293082   апельсиновый палочка маникюр педикюр 11 5 см ...   \n",
              "3   321741                           щеточка маникюр круглый    \n",
              "4  1447598       тонкий деревянный ватный палочка микробраша    \n",
              "\n",
              "                                   short_description  \\\n",
              "0  muhle manikure колпачок песочный шлифовальный ...   \n",
              "1                                              ноль    \n",
              "2   апельсиновый палочка маникюр педикюр 11 5 см ...   \n",
              "3                                              ноль    \n",
              "4                                              ноль    \n",
              "\n",
              "  name_value_characteristics    rating  feedback_quantity  category_id  \\\n",
              "0                      ноль   0.000000                  0         2693   \n",
              "1                      ноль   4.774194                 31         2693   \n",
              "2                      ноль   5.000000                  1         2693   \n",
              "3               вид круглый   5.000000                  3         2693   \n",
              "4                      ноль   0.000000                  0         2693   \n",
              "\n",
              "                              title_y                   path  \\\n",
              "0  Аксессуары для маникюра и педикюра  10355.10113.10012.1.0   \n",
              "1  Аксессуары для маникюра и педикюра  10355.10113.10012.1.0   \n",
              "2  Аксессуары для маникюра и педикюра  10355.10113.10012.1.0   \n",
              "3  Аксессуары для маникюра и педикюра  10355.10113.10012.1.0   \n",
              "4  Аксессуары для маникюра и педикюра  10355.10113.10012.1.0   \n",
              "\n",
              "                                           title_all  \n",
              "0  muhle manikure песочный колпачок педикюр 1015 ...  \n",
              "1     маникюрный копытце обработка ноготь пушер       \n",
              "2   апельсиновый палочка маникюр педикюр 11 5 см ...  \n",
              "3            щеточка маникюр круглый    вид круглый   \n",
              "4   тонкий деревянный ватный палочка микробраша       "
            ],
            "text/html": [
              "\n",
              "  <div id=\"df-40b4120e-5441-4687-abed-b69b2c7347a7\">\n",
              "    <div class=\"colab-df-container\">\n",
              "      <div>\n",
              "<style scoped>\n",
              "    .dataframe tbody tr th:only-of-type {\n",
              "        vertical-align: middle;\n",
              "    }\n",
              "\n",
              "    .dataframe tbody tr th {\n",
              "        vertical-align: top;\n",
              "    }\n",
              "\n",
              "    .dataframe thead th {\n",
              "        text-align: right;\n",
              "    }\n",
              "</style>\n",
              "<table border=\"1\" class=\"dataframe\">\n",
              "  <thead>\n",
              "    <tr style=\"text-align: right;\">\n",
              "      <th></th>\n",
              "      <th>id</th>\n",
              "      <th>title_x</th>\n",
              "      <th>short_description</th>\n",
              "      <th>name_value_characteristics</th>\n",
              "      <th>rating</th>\n",
              "      <th>feedback_quantity</th>\n",
              "      <th>category_id</th>\n",
              "      <th>title_y</th>\n",
              "      <th>path</th>\n",
              "      <th>title_all</th>\n",
              "    </tr>\n",
              "  </thead>\n",
              "  <tbody>\n",
              "    <tr>\n",
              "      <th>0</th>\n",
              "      <td>1267423</td>\n",
              "      <td>muhle manikure песочный колпачок педикюр 1015 ...</td>\n",
              "      <td>muhle manikure колпачок песочный шлифовальный ...</td>\n",
              "      <td>ноль</td>\n",
              "      <td>0.000000</td>\n",
              "      <td>0</td>\n",
              "      <td>2693</td>\n",
              "      <td>Аксессуары для маникюра и педикюра</td>\n",
              "      <td>10355.10113.10012.1.0</td>\n",
              "      <td>muhle manikure песочный колпачок педикюр 1015 ...</td>\n",
              "    </tr>\n",
              "    <tr>\n",
              "      <th>1</th>\n",
              "      <td>93588</td>\n",
              "      <td>маникюрный копытце обработка ноготь пушер</td>\n",
              "      <td>ноль</td>\n",
              "      <td>ноль</td>\n",
              "      <td>4.774194</td>\n",
              "      <td>31</td>\n",
              "      <td>2693</td>\n",
              "      <td>Аксессуары для маникюра и педикюра</td>\n",
              "      <td>10355.10113.10012.1.0</td>\n",
              "      <td>маникюрный копытце обработка ноготь пушер</td>\n",
              "    </tr>\n",
              "    <tr>\n",
              "      <th>2</th>\n",
              "      <td>1293082</td>\n",
              "      <td>апельсиновый палочка маникюр педикюр 11 5 см ...</td>\n",
              "      <td>апельсиновый палочка маникюр педикюр 11 5 см ...</td>\n",
              "      <td>ноль</td>\n",
              "      <td>5.000000</td>\n",
              "      <td>1</td>\n",
              "      <td>2693</td>\n",
              "      <td>Аксессуары для маникюра и педикюра</td>\n",
              "      <td>10355.10113.10012.1.0</td>\n",
              "      <td>апельсиновый палочка маникюр педикюр 11 5 см ...</td>\n",
              "    </tr>\n",
              "    <tr>\n",
              "      <th>3</th>\n",
              "      <td>321741</td>\n",
              "      <td>щеточка маникюр круглый</td>\n",
              "      <td>ноль</td>\n",
              "      <td>вид круглый</td>\n",
              "      <td>5.000000</td>\n",
              "      <td>3</td>\n",
              "      <td>2693</td>\n",
              "      <td>Аксессуары для маникюра и педикюра</td>\n",
              "      <td>10355.10113.10012.1.0</td>\n",
              "      <td>щеточка маникюр круглый    вид круглый</td>\n",
              "    </tr>\n",
              "    <tr>\n",
              "      <th>4</th>\n",
              "      <td>1447598</td>\n",
              "      <td>тонкий деревянный ватный палочка микробраша</td>\n",
              "      <td>ноль</td>\n",
              "      <td>ноль</td>\n",
              "      <td>0.000000</td>\n",
              "      <td>0</td>\n",
              "      <td>2693</td>\n",
              "      <td>Аксессуары для маникюра и педикюра</td>\n",
              "      <td>10355.10113.10012.1.0</td>\n",
              "      <td>тонкий деревянный ватный палочка микробраша</td>\n",
              "    </tr>\n",
              "  </tbody>\n",
              "</table>\n",
              "</div>\n",
              "      <button class=\"colab-df-convert\" onclick=\"convertToInteractive('df-40b4120e-5441-4687-abed-b69b2c7347a7')\"\n",
              "              title=\"Convert this dataframe to an interactive table.\"\n",
              "              style=\"display:none;\">\n",
              "        \n",
              "  <svg xmlns=\"http://www.w3.org/2000/svg\" height=\"24px\"viewBox=\"0 0 24 24\"\n",
              "       width=\"24px\">\n",
              "    <path d=\"M0 0h24v24H0V0z\" fill=\"none\"/>\n",
              "    <path d=\"M18.56 5.44l.94 2.06.94-2.06 2.06-.94-2.06-.94-.94-2.06-.94 2.06-2.06.94zm-11 1L8.5 8.5l.94-2.06 2.06-.94-2.06-.94L8.5 2.5l-.94 2.06-2.06.94zm10 10l.94 2.06.94-2.06 2.06-.94-2.06-.94-.94-2.06-.94 2.06-2.06.94z\"/><path d=\"M17.41 7.96l-1.37-1.37c-.4-.4-.92-.59-1.43-.59-.52 0-1.04.2-1.43.59L10.3 9.45l-7.72 7.72c-.78.78-.78 2.05 0 2.83L4 21.41c.39.39.9.59 1.41.59.51 0 1.02-.2 1.41-.59l7.78-7.78 2.81-2.81c.8-.78.8-2.07 0-2.86zM5.41 20L4 18.59l7.72-7.72 1.47 1.35L5.41 20z\"/>\n",
              "  </svg>\n",
              "      </button>\n",
              "      \n",
              "  <style>\n",
              "    .colab-df-container {\n",
              "      display:flex;\n",
              "      flex-wrap:wrap;\n",
              "      gap: 12px;\n",
              "    }\n",
              "\n",
              "    .colab-df-convert {\n",
              "      background-color: #E8F0FE;\n",
              "      border: none;\n",
              "      border-radius: 50%;\n",
              "      cursor: pointer;\n",
              "      display: none;\n",
              "      fill: #1967D2;\n",
              "      height: 32px;\n",
              "      padding: 0 0 0 0;\n",
              "      width: 32px;\n",
              "    }\n",
              "\n",
              "    .colab-df-convert:hover {\n",
              "      background-color: #E2EBFA;\n",
              "      box-shadow: 0px 1px 2px rgba(60, 64, 67, 0.3), 0px 1px 3px 1px rgba(60, 64, 67, 0.15);\n",
              "      fill: #174EA6;\n",
              "    }\n",
              "\n",
              "    [theme=dark] .colab-df-convert {\n",
              "      background-color: #3B4455;\n",
              "      fill: #D2E3FC;\n",
              "    }\n",
              "\n",
              "    [theme=dark] .colab-df-convert:hover {\n",
              "      background-color: #434B5C;\n",
              "      box-shadow: 0px 1px 3px 1px rgba(0, 0, 0, 0.15);\n",
              "      filter: drop-shadow(0px 1px 2px rgba(0, 0, 0, 0.3));\n",
              "      fill: #FFFFFF;\n",
              "    }\n",
              "  </style>\n",
              "\n",
              "      <script>\n",
              "        const buttonEl =\n",
              "          document.querySelector('#df-40b4120e-5441-4687-abed-b69b2c7347a7 button.colab-df-convert');\n",
              "        buttonEl.style.display =\n",
              "          google.colab.kernel.accessAllowed ? 'block' : 'none';\n",
              "\n",
              "        async function convertToInteractive(key) {\n",
              "          const element = document.querySelector('#df-40b4120e-5441-4687-abed-b69b2c7347a7');\n",
              "          const dataTable =\n",
              "            await google.colab.kernel.invokeFunction('convertToInteractive',\n",
              "                                                     [key], {});\n",
              "          if (!dataTable) return;\n",
              "\n",
              "          const docLinkHtml = 'Like what you see? Visit the ' +\n",
              "            '<a target=\"_blank\" href=https://colab.research.google.com/notebooks/data_table.ipynb>data table notebook</a>'\n",
              "            + ' to learn more about interactive tables.';\n",
              "          element.innerHTML = '';\n",
              "          dataTable['output_type'] = 'display_data';\n",
              "          await google.colab.output.renderOutput(dataTable, element);\n",
              "          const docLink = document.createElement('div');\n",
              "          docLink.innerHTML = docLinkHtml;\n",
              "          element.appendChild(docLink);\n",
              "        }\n",
              "      </script>\n",
              "    </div>\n",
              "  </div>\n",
              "  "
            ]
          },
          "metadata": {},
          "execution_count": 39
        }
      ]
    },
    {
      "cell_type": "markdown",
      "source": [
        "**Разделим путь к товару на отдельные колонки**"
      ],
      "metadata": {
        "id": "ekBxKnViee9S"
      }
    },
    {
      "cell_type": "code",
      "source": [
        "# for i in df_train['title_all']:\n",
        "#   print(i)\n",
        "#   break"
      ],
      "metadata": {
        "id": "qb6ppGxeGc0S"
      },
      "execution_count": 40,
      "outputs": []
    },
    {
      "cell_type": "code",
      "source": [
        "df_train.category_id = df_train.category_id.astype('str')\n",
        "df_train.path = df_train.category_id + '.' + df_train.path\n",
        "\n",
        "a = df_train.path.to_list()\n",
        "b = [x.split('.')[::-1] for x in a]\n",
        "b = pd.DataFrame(b)\n",
        "\n",
        "dict_cols = {x:f'level_{x}' for x in b.columns}\n",
        "b.rename(columns=dict_cols, inplace=True)\n",
        "b.drop(['level_0','level_1'], axis=1, inplace=True)\n",
        "\n",
        "df_train = pd.concat([df_train, b], axis=1)\n",
        "df_train.head()"
      ],
      "metadata": {
        "colab": {
          "base_uri": "https://localhost:8080/",
          "height": 600
        },
        "id": "phI7HdVoWkHE",
        "outputId": "3aa1ba86-8a99-4146-d575-6877c3af5843"
      },
      "execution_count": 41,
      "outputs": [
        {
          "output_type": "execute_result",
          "data": {
            "text/plain": [
              "        id                                            title_x  \\\n",
              "0  1267423  muhle manikure песочный колпачок педикюр 1015 ...   \n",
              "1    93588         маникюрный копытце обработка ноготь пушер    \n",
              "2  1293082   апельсиновый палочка маникюр педикюр 11 5 см ...   \n",
              "3   321741                           щеточка маникюр круглый    \n",
              "4  1447598       тонкий деревянный ватный палочка микробраша    \n",
              "\n",
              "                                   short_description  \\\n",
              "0  muhle manikure колпачок песочный шлифовальный ...   \n",
              "1                                              ноль    \n",
              "2   апельсиновый палочка маникюр педикюр 11 5 см ...   \n",
              "3                                              ноль    \n",
              "4                                              ноль    \n",
              "\n",
              "  name_value_characteristics    rating  feedback_quantity category_id  \\\n",
              "0                      ноль   0.000000                  0        2693   \n",
              "1                      ноль   4.774194                 31        2693   \n",
              "2                      ноль   5.000000                  1        2693   \n",
              "3               вид круглый   5.000000                  3        2693   \n",
              "4                      ноль   0.000000                  0        2693   \n",
              "\n",
              "                              title_y                        path  \\\n",
              "0  Аксессуары для маникюра и педикюра  2693.10355.10113.10012.1.0   \n",
              "1  Аксессуары для маникюра и педикюра  2693.10355.10113.10012.1.0   \n",
              "2  Аксессуары для маникюра и педикюра  2693.10355.10113.10012.1.0   \n",
              "3  Аксессуары для маникюра и педикюра  2693.10355.10113.10012.1.0   \n",
              "4  Аксессуары для маникюра и педикюра  2693.10355.10113.10012.1.0   \n",
              "\n",
              "                                           title_all level_2 level_3 level_4  \\\n",
              "0  muhle manikure песочный колпачок педикюр 1015 ...   10012   10113   10355   \n",
              "1     маникюрный копытце обработка ноготь пушер        10012   10113   10355   \n",
              "2   апельсиновый палочка маникюр педикюр 11 5 см ...   10012   10113   10355   \n",
              "3            щеточка маникюр круглый    вид круглый    10012   10113   10355   \n",
              "4   тонкий деревянный ватный палочка микробраша        10012   10113   10355   \n",
              "\n",
              "  level_5 level_6  \n",
              "0    2693    None  \n",
              "1    2693    None  \n",
              "2    2693    None  \n",
              "3    2693    None  \n",
              "4    2693    None  "
            ],
            "text/html": [
              "\n",
              "  <div id=\"df-5eb78900-5d67-4da6-b5e1-48e003a6d138\">\n",
              "    <div class=\"colab-df-container\">\n",
              "      <div>\n",
              "<style scoped>\n",
              "    .dataframe tbody tr th:only-of-type {\n",
              "        vertical-align: middle;\n",
              "    }\n",
              "\n",
              "    .dataframe tbody tr th {\n",
              "        vertical-align: top;\n",
              "    }\n",
              "\n",
              "    .dataframe thead th {\n",
              "        text-align: right;\n",
              "    }\n",
              "</style>\n",
              "<table border=\"1\" class=\"dataframe\">\n",
              "  <thead>\n",
              "    <tr style=\"text-align: right;\">\n",
              "      <th></th>\n",
              "      <th>id</th>\n",
              "      <th>title_x</th>\n",
              "      <th>short_description</th>\n",
              "      <th>name_value_characteristics</th>\n",
              "      <th>rating</th>\n",
              "      <th>feedback_quantity</th>\n",
              "      <th>category_id</th>\n",
              "      <th>title_y</th>\n",
              "      <th>path</th>\n",
              "      <th>title_all</th>\n",
              "      <th>level_2</th>\n",
              "      <th>level_3</th>\n",
              "      <th>level_4</th>\n",
              "      <th>level_5</th>\n",
              "      <th>level_6</th>\n",
              "    </tr>\n",
              "  </thead>\n",
              "  <tbody>\n",
              "    <tr>\n",
              "      <th>0</th>\n",
              "      <td>1267423</td>\n",
              "      <td>muhle manikure песочный колпачок педикюр 1015 ...</td>\n",
              "      <td>muhle manikure колпачок песочный шлифовальный ...</td>\n",
              "      <td>ноль</td>\n",
              "      <td>0.000000</td>\n",
              "      <td>0</td>\n",
              "      <td>2693</td>\n",
              "      <td>Аксессуары для маникюра и педикюра</td>\n",
              "      <td>2693.10355.10113.10012.1.0</td>\n",
              "      <td>muhle manikure песочный колпачок педикюр 1015 ...</td>\n",
              "      <td>10012</td>\n",
              "      <td>10113</td>\n",
              "      <td>10355</td>\n",
              "      <td>2693</td>\n",
              "      <td>None</td>\n",
              "    </tr>\n",
              "    <tr>\n",
              "      <th>1</th>\n",
              "      <td>93588</td>\n",
              "      <td>маникюрный копытце обработка ноготь пушер</td>\n",
              "      <td>ноль</td>\n",
              "      <td>ноль</td>\n",
              "      <td>4.774194</td>\n",
              "      <td>31</td>\n",
              "      <td>2693</td>\n",
              "      <td>Аксессуары для маникюра и педикюра</td>\n",
              "      <td>2693.10355.10113.10012.1.0</td>\n",
              "      <td>маникюрный копытце обработка ноготь пушер</td>\n",
              "      <td>10012</td>\n",
              "      <td>10113</td>\n",
              "      <td>10355</td>\n",
              "      <td>2693</td>\n",
              "      <td>None</td>\n",
              "    </tr>\n",
              "    <tr>\n",
              "      <th>2</th>\n",
              "      <td>1293082</td>\n",
              "      <td>апельсиновый палочка маникюр педикюр 11 5 см ...</td>\n",
              "      <td>апельсиновый палочка маникюр педикюр 11 5 см ...</td>\n",
              "      <td>ноль</td>\n",
              "      <td>5.000000</td>\n",
              "      <td>1</td>\n",
              "      <td>2693</td>\n",
              "      <td>Аксессуары для маникюра и педикюра</td>\n",
              "      <td>2693.10355.10113.10012.1.0</td>\n",
              "      <td>апельсиновый палочка маникюр педикюр 11 5 см ...</td>\n",
              "      <td>10012</td>\n",
              "      <td>10113</td>\n",
              "      <td>10355</td>\n",
              "      <td>2693</td>\n",
              "      <td>None</td>\n",
              "    </tr>\n",
              "    <tr>\n",
              "      <th>3</th>\n",
              "      <td>321741</td>\n",
              "      <td>щеточка маникюр круглый</td>\n",
              "      <td>ноль</td>\n",
              "      <td>вид круглый</td>\n",
              "      <td>5.000000</td>\n",
              "      <td>3</td>\n",
              "      <td>2693</td>\n",
              "      <td>Аксессуары для маникюра и педикюра</td>\n",
              "      <td>2693.10355.10113.10012.1.0</td>\n",
              "      <td>щеточка маникюр круглый    вид круглый</td>\n",
              "      <td>10012</td>\n",
              "      <td>10113</td>\n",
              "      <td>10355</td>\n",
              "      <td>2693</td>\n",
              "      <td>None</td>\n",
              "    </tr>\n",
              "    <tr>\n",
              "      <th>4</th>\n",
              "      <td>1447598</td>\n",
              "      <td>тонкий деревянный ватный палочка микробраша</td>\n",
              "      <td>ноль</td>\n",
              "      <td>ноль</td>\n",
              "      <td>0.000000</td>\n",
              "      <td>0</td>\n",
              "      <td>2693</td>\n",
              "      <td>Аксессуары для маникюра и педикюра</td>\n",
              "      <td>2693.10355.10113.10012.1.0</td>\n",
              "      <td>тонкий деревянный ватный палочка микробраша</td>\n",
              "      <td>10012</td>\n",
              "      <td>10113</td>\n",
              "      <td>10355</td>\n",
              "      <td>2693</td>\n",
              "      <td>None</td>\n",
              "    </tr>\n",
              "  </tbody>\n",
              "</table>\n",
              "</div>\n",
              "      <button class=\"colab-df-convert\" onclick=\"convertToInteractive('df-5eb78900-5d67-4da6-b5e1-48e003a6d138')\"\n",
              "              title=\"Convert this dataframe to an interactive table.\"\n",
              "              style=\"display:none;\">\n",
              "        \n",
              "  <svg xmlns=\"http://www.w3.org/2000/svg\" height=\"24px\"viewBox=\"0 0 24 24\"\n",
              "       width=\"24px\">\n",
              "    <path d=\"M0 0h24v24H0V0z\" fill=\"none\"/>\n",
              "    <path d=\"M18.56 5.44l.94 2.06.94-2.06 2.06-.94-2.06-.94-.94-2.06-.94 2.06-2.06.94zm-11 1L8.5 8.5l.94-2.06 2.06-.94-2.06-.94L8.5 2.5l-.94 2.06-2.06.94zm10 10l.94 2.06.94-2.06 2.06-.94-2.06-.94-.94-2.06-.94 2.06-2.06.94z\"/><path d=\"M17.41 7.96l-1.37-1.37c-.4-.4-.92-.59-1.43-.59-.52 0-1.04.2-1.43.59L10.3 9.45l-7.72 7.72c-.78.78-.78 2.05 0 2.83L4 21.41c.39.39.9.59 1.41.59.51 0 1.02-.2 1.41-.59l7.78-7.78 2.81-2.81c.8-.78.8-2.07 0-2.86zM5.41 20L4 18.59l7.72-7.72 1.47 1.35L5.41 20z\"/>\n",
              "  </svg>\n",
              "      </button>\n",
              "      \n",
              "  <style>\n",
              "    .colab-df-container {\n",
              "      display:flex;\n",
              "      flex-wrap:wrap;\n",
              "      gap: 12px;\n",
              "    }\n",
              "\n",
              "    .colab-df-convert {\n",
              "      background-color: #E8F0FE;\n",
              "      border: none;\n",
              "      border-radius: 50%;\n",
              "      cursor: pointer;\n",
              "      display: none;\n",
              "      fill: #1967D2;\n",
              "      height: 32px;\n",
              "      padding: 0 0 0 0;\n",
              "      width: 32px;\n",
              "    }\n",
              "\n",
              "    .colab-df-convert:hover {\n",
              "      background-color: #E2EBFA;\n",
              "      box-shadow: 0px 1px 2px rgba(60, 64, 67, 0.3), 0px 1px 3px 1px rgba(60, 64, 67, 0.15);\n",
              "      fill: #174EA6;\n",
              "    }\n",
              "\n",
              "    [theme=dark] .colab-df-convert {\n",
              "      background-color: #3B4455;\n",
              "      fill: #D2E3FC;\n",
              "    }\n",
              "\n",
              "    [theme=dark] .colab-df-convert:hover {\n",
              "      background-color: #434B5C;\n",
              "      box-shadow: 0px 1px 3px 1px rgba(0, 0, 0, 0.15);\n",
              "      filter: drop-shadow(0px 1px 2px rgba(0, 0, 0, 0.3));\n",
              "      fill: #FFFFFF;\n",
              "    }\n",
              "  </style>\n",
              "\n",
              "      <script>\n",
              "        const buttonEl =\n",
              "          document.querySelector('#df-5eb78900-5d67-4da6-b5e1-48e003a6d138 button.colab-df-convert');\n",
              "        buttonEl.style.display =\n",
              "          google.colab.kernel.accessAllowed ? 'block' : 'none';\n",
              "\n",
              "        async function convertToInteractive(key) {\n",
              "          const element = document.querySelector('#df-5eb78900-5d67-4da6-b5e1-48e003a6d138');\n",
              "          const dataTable =\n",
              "            await google.colab.kernel.invokeFunction('convertToInteractive',\n",
              "                                                     [key], {});\n",
              "          if (!dataTable) return;\n",
              "\n",
              "          const docLinkHtml = 'Like what you see? Visit the ' +\n",
              "            '<a target=\"_blank\" href=https://colab.research.google.com/notebooks/data_table.ipynb>data table notebook</a>'\n",
              "            + ' to learn more about interactive tables.';\n",
              "          element.innerHTML = '';\n",
              "          dataTable['output_type'] = 'display_data';\n",
              "          await google.colab.output.renderOutput(dataTable, element);\n",
              "          const docLink = document.createElement('div');\n",
              "          docLink.innerHTML = docLinkHtml;\n",
              "          element.appendChild(docLink);\n",
              "        }\n",
              "      </script>\n",
              "    </div>\n",
              "  </div>\n",
              "  "
            ]
          },
          "metadata": {},
          "execution_count": 41
        }
      ]
    },
    {
      "cell_type": "markdown",
      "source": [
        "**Отбросим лишнее**"
      ],
      "metadata": {
        "id": "aaSTpvwEernY"
      }
    },
    {
      "cell_type": "code",
      "source": [
        "train = df_train[['id','title_all', 'level_2', 'level_3', \n",
        "                  'level_4', 'level_5','level_6']]\n",
        "\n",
        "# id  в индексы\n",
        "train.set_index(keys='id', inplace=True)\n",
        "\n",
        "train.head()"
      ],
      "metadata": {
        "colab": {
          "base_uri": "https://localhost:8080/",
          "height": 368
        },
        "id": "72IYRkjjlM99",
        "outputId": "ab8a06e3-3356-4a66-ea1e-92fc190ccbdc"
      },
      "execution_count": 42,
      "outputs": [
        {
          "output_type": "execute_result",
          "data": {
            "text/plain": [
              "                                                 title_all level_2 level_3  \\\n",
              "id                                                                           \n",
              "1267423  muhle manikure песочный колпачок педикюр 1015 ...   10012   10113   \n",
              "93588       маникюрный копытце обработка ноготь пушер        10012   10113   \n",
              "1293082   апельсиновый палочка маникюр педикюр 11 5 см ...   10012   10113   \n",
              "321741             щеточка маникюр круглый    вид круглый    10012   10113   \n",
              "1447598   тонкий деревянный ватный палочка микробраша        10012   10113   \n",
              "\n",
              "        level_4 level_5 level_6  \n",
              "id                               \n",
              "1267423   10355    2693    None  \n",
              "93588     10355    2693    None  \n",
              "1293082   10355    2693    None  \n",
              "321741    10355    2693    None  \n",
              "1447598   10355    2693    None  "
            ],
            "text/html": [
              "\n",
              "  <div id=\"df-8077132d-94b0-48fa-9f9d-a4c8b7783fcc\">\n",
              "    <div class=\"colab-df-container\">\n",
              "      <div>\n",
              "<style scoped>\n",
              "    .dataframe tbody tr th:only-of-type {\n",
              "        vertical-align: middle;\n",
              "    }\n",
              "\n",
              "    .dataframe tbody tr th {\n",
              "        vertical-align: top;\n",
              "    }\n",
              "\n",
              "    .dataframe thead th {\n",
              "        text-align: right;\n",
              "    }\n",
              "</style>\n",
              "<table border=\"1\" class=\"dataframe\">\n",
              "  <thead>\n",
              "    <tr style=\"text-align: right;\">\n",
              "      <th></th>\n",
              "      <th>title_all</th>\n",
              "      <th>level_2</th>\n",
              "      <th>level_3</th>\n",
              "      <th>level_4</th>\n",
              "      <th>level_5</th>\n",
              "      <th>level_6</th>\n",
              "    </tr>\n",
              "    <tr>\n",
              "      <th>id</th>\n",
              "      <th></th>\n",
              "      <th></th>\n",
              "      <th></th>\n",
              "      <th></th>\n",
              "      <th></th>\n",
              "      <th></th>\n",
              "    </tr>\n",
              "  </thead>\n",
              "  <tbody>\n",
              "    <tr>\n",
              "      <th>1267423</th>\n",
              "      <td>muhle manikure песочный колпачок педикюр 1015 ...</td>\n",
              "      <td>10012</td>\n",
              "      <td>10113</td>\n",
              "      <td>10355</td>\n",
              "      <td>2693</td>\n",
              "      <td>None</td>\n",
              "    </tr>\n",
              "    <tr>\n",
              "      <th>93588</th>\n",
              "      <td>маникюрный копытце обработка ноготь пушер</td>\n",
              "      <td>10012</td>\n",
              "      <td>10113</td>\n",
              "      <td>10355</td>\n",
              "      <td>2693</td>\n",
              "      <td>None</td>\n",
              "    </tr>\n",
              "    <tr>\n",
              "      <th>1293082</th>\n",
              "      <td>апельсиновый палочка маникюр педикюр 11 5 см ...</td>\n",
              "      <td>10012</td>\n",
              "      <td>10113</td>\n",
              "      <td>10355</td>\n",
              "      <td>2693</td>\n",
              "      <td>None</td>\n",
              "    </tr>\n",
              "    <tr>\n",
              "      <th>321741</th>\n",
              "      <td>щеточка маникюр круглый    вид круглый</td>\n",
              "      <td>10012</td>\n",
              "      <td>10113</td>\n",
              "      <td>10355</td>\n",
              "      <td>2693</td>\n",
              "      <td>None</td>\n",
              "    </tr>\n",
              "    <tr>\n",
              "      <th>1447598</th>\n",
              "      <td>тонкий деревянный ватный палочка микробраша</td>\n",
              "      <td>10012</td>\n",
              "      <td>10113</td>\n",
              "      <td>10355</td>\n",
              "      <td>2693</td>\n",
              "      <td>None</td>\n",
              "    </tr>\n",
              "  </tbody>\n",
              "</table>\n",
              "</div>\n",
              "      <button class=\"colab-df-convert\" onclick=\"convertToInteractive('df-8077132d-94b0-48fa-9f9d-a4c8b7783fcc')\"\n",
              "              title=\"Convert this dataframe to an interactive table.\"\n",
              "              style=\"display:none;\">\n",
              "        \n",
              "  <svg xmlns=\"http://www.w3.org/2000/svg\" height=\"24px\"viewBox=\"0 0 24 24\"\n",
              "       width=\"24px\">\n",
              "    <path d=\"M0 0h24v24H0V0z\" fill=\"none\"/>\n",
              "    <path d=\"M18.56 5.44l.94 2.06.94-2.06 2.06-.94-2.06-.94-.94-2.06-.94 2.06-2.06.94zm-11 1L8.5 8.5l.94-2.06 2.06-.94-2.06-.94L8.5 2.5l-.94 2.06-2.06.94zm10 10l.94 2.06.94-2.06 2.06-.94-2.06-.94-.94-2.06-.94 2.06-2.06.94z\"/><path d=\"M17.41 7.96l-1.37-1.37c-.4-.4-.92-.59-1.43-.59-.52 0-1.04.2-1.43.59L10.3 9.45l-7.72 7.72c-.78.78-.78 2.05 0 2.83L4 21.41c.39.39.9.59 1.41.59.51 0 1.02-.2 1.41-.59l7.78-7.78 2.81-2.81c.8-.78.8-2.07 0-2.86zM5.41 20L4 18.59l7.72-7.72 1.47 1.35L5.41 20z\"/>\n",
              "  </svg>\n",
              "      </button>\n",
              "      \n",
              "  <style>\n",
              "    .colab-df-container {\n",
              "      display:flex;\n",
              "      flex-wrap:wrap;\n",
              "      gap: 12px;\n",
              "    }\n",
              "\n",
              "    .colab-df-convert {\n",
              "      background-color: #E8F0FE;\n",
              "      border: none;\n",
              "      border-radius: 50%;\n",
              "      cursor: pointer;\n",
              "      display: none;\n",
              "      fill: #1967D2;\n",
              "      height: 32px;\n",
              "      padding: 0 0 0 0;\n",
              "      width: 32px;\n",
              "    }\n",
              "\n",
              "    .colab-df-convert:hover {\n",
              "      background-color: #E2EBFA;\n",
              "      box-shadow: 0px 1px 2px rgba(60, 64, 67, 0.3), 0px 1px 3px 1px rgba(60, 64, 67, 0.15);\n",
              "      fill: #174EA6;\n",
              "    }\n",
              "\n",
              "    [theme=dark] .colab-df-convert {\n",
              "      background-color: #3B4455;\n",
              "      fill: #D2E3FC;\n",
              "    }\n",
              "\n",
              "    [theme=dark] .colab-df-convert:hover {\n",
              "      background-color: #434B5C;\n",
              "      box-shadow: 0px 1px 3px 1px rgba(0, 0, 0, 0.15);\n",
              "      filter: drop-shadow(0px 1px 2px rgba(0, 0, 0, 0.3));\n",
              "      fill: #FFFFFF;\n",
              "    }\n",
              "  </style>\n",
              "\n",
              "      <script>\n",
              "        const buttonEl =\n",
              "          document.querySelector('#df-8077132d-94b0-48fa-9f9d-a4c8b7783fcc button.colab-df-convert');\n",
              "        buttonEl.style.display =\n",
              "          google.colab.kernel.accessAllowed ? 'block' : 'none';\n",
              "\n",
              "        async function convertToInteractive(key) {\n",
              "          const element = document.querySelector('#df-8077132d-94b0-48fa-9f9d-a4c8b7783fcc');\n",
              "          const dataTable =\n",
              "            await google.colab.kernel.invokeFunction('convertToInteractive',\n",
              "                                                     [key], {});\n",
              "          if (!dataTable) return;\n",
              "\n",
              "          const docLinkHtml = 'Like what you see? Visit the ' +\n",
              "            '<a target=\"_blank\" href=https://colab.research.google.com/notebooks/data_table.ipynb>data table notebook</a>'\n",
              "            + ' to learn more about interactive tables.';\n",
              "          element.innerHTML = '';\n",
              "          dataTable['output_type'] = 'display_data';\n",
              "          await google.colab.output.renderOutput(dataTable, element);\n",
              "          const docLink = document.createElement('div');\n",
              "          docLink.innerHTML = docLinkHtml;\n",
              "          element.appendChild(docLink);\n",
              "        }\n",
              "      </script>\n",
              "    </div>\n",
              "  </div>\n",
              "  "
            ]
          },
          "metadata": {},
          "execution_count": 42
        }
      ]
    },
    {
      "cell_type": "markdown",
      "source": [
        "**Глубина иерархии**"
      ],
      "metadata": {
        "id": "HL9JAppshsnK"
      }
    },
    {
      "cell_type": "code",
      "source": [
        "cols = ['level_2', 'level_3', 'level_4', 'level_5', 'level_6']\n",
        "for col in cols:\n",
        "  print(f'Количество пропусков в {col}','-',train[train[col].isna()]['title_all'].count())"
      ],
      "metadata": {
        "colab": {
          "base_uri": "https://localhost:8080/"
        },
        "id": "vsyyZ4wUhUHq",
        "outputId": "30329f18-b60b-4251-b31f-f60f711a94c0"
      },
      "execution_count": 43,
      "outputs": [
        {
          "output_type": "stream",
          "name": "stdout",
          "text": [
            "Количество пропусков в level_2 - 0\n",
            "Количество пропусков в level_3 - 0\n",
            "Количество пропусков в level_4 - 151\n",
            "Количество пропусков в level_5 - 43069\n",
            "Количество пропусков в level_6 - 273410\n"
          ]
        }
      ]
    },
    {
      "cell_type": "markdown",
      "source": [
        "**Общее количество целевых классов**"
      ],
      "metadata": {
        "id": "7oDi7CD8j5ai"
      }
    },
    {
      "cell_type": "code",
      "source": [
        "df_train.category_id.nunique()"
      ],
      "metadata": {
        "colab": {
          "base_uri": "https://localhost:8080/"
        },
        "id": "7Ea_CecNjwxU",
        "outputId": "171caee1-89a4-40df-b08c-8694f187d95d"
      },
      "execution_count": 44,
      "outputs": [
        {
          "output_type": "execute_result",
          "data": {
            "text/plain": [
              "1231"
            ]
          },
          "metadata": {},
          "execution_count": 44
        }
      ]
    },
    {
      "cell_type": "markdown",
      "source": [
        "**Вывод**\n",
        "\n",
        "Целевые листовые категории находятся на разной глубине"
      ],
      "metadata": {
        "id": "azRjakTsi2bv"
      }
    },
    {
      "cell_type": "markdown",
      "source": [
        "## **Распределение категорий на первых двух уровнях**"
      ],
      "metadata": {
        "id": "c8Pv_PGojTe2"
      }
    },
    {
      "cell_type": "code",
      "source": [
        "train.fillna('non_type', inplace=True)"
      ],
      "metadata": {
        "colab": {
          "base_uri": "https://localhost:8080/"
        },
        "id": "Xom-O2ku7HzW",
        "outputId": "d6973f30-33ae-4ca0-ec79-c4aa51a30542"
      },
      "execution_count": 45,
      "outputs": [
        {
          "output_type": "stream",
          "name": "stderr",
          "text": [
            "/usr/local/lib/python3.7/dist-packages/pandas/core/frame.py:5182: SettingWithCopyWarning: \n",
            "A value is trying to be set on a copy of a slice from a DataFrame\n",
            "\n",
            "See the caveats in the documentation: https://pandas.pydata.org/pandas-docs/stable/user_guide/indexing.html#returning-a-view-versus-a-copy\n",
            "  downcast=downcast,\n"
          ]
        }
      ]
    },
    {
      "cell_type": "code",
      "source": [
        "plt.style.use('seaborn')\n",
        "train['level_2'].value_counts().plot(kind='bar')\n",
        "plt.title('Количество классов в категории на верхнем уровне')\n",
        "plt.xlabel('Номер подкатегории')\n",
        "plt.ylabel('Количество, шт.')\n",
        "plt.show()\n"
      ],
      "metadata": {
        "colab": {
          "base_uri": "https://localhost:8080/",
          "height": 393
        },
        "id": "1-6qjZBnIuvA",
        "outputId": "357c111c-7487-406e-9d62-6dade77ec511"
      },
      "execution_count": 46,
      "outputs": [
        {
          "output_type": "display_data",
          "data": {
            "text/plain": [
              "<Figure size 576x396 with 1 Axes>"
            ],
            "image/png": "[encoded data removed]"
          },
          "metadata": {}
        }
      ]
    },
    {
      "cell_type": "code",
      "source": [
        "for cat in train['level_2'].unique():\n",
        "\n",
        "    train.loc[train['level_2']==cat, 'level_3'].value_counts().plot(kind='bar', rot=90)\n",
        "    plt.title(f'Количество классов в категории {cat}')\n",
        "    plt.xlabel('Номер подкатегории')\n",
        "    plt.ylabel('Количество, шт.')\n",
        "    plt.show()"
      ],
      "metadata": {
        "colab": {
          "base_uri": "https://localhost:8080/",
          "height": 1000
        },
        "id": "PpZC2OPGGIol",
        "outputId": "313065cb-ce79-4961-f351-47af045fb8a3"
      },
      "execution_count": 47,
      "outputs": [
        {
          "output_type": "display_data",
          "data": {
            "text/plain": [
              "<Figure size 576x396 with 1 Axes>"
            ],
            "image/png": "[encoded data removed]"
          },
          "metadata": {}
        },
        {
          "output_type": "display_data",
          "data": {
            "text/plain": [
              "<Figure size 576x396 with 1 Axes>"
            ],
            "image/png": "[encoded data removed]"
          },
          "metadata": {}
        },
        {
          "output_type": "display_data",
          "data": {
            "text/plain": [
              "<Figure size 576x396 with 1 Axes>"
            ],
            "image/png": "[encoded data removed]"
          },
          "metadata": {}
        },
        {
          "output_type": "display_data",
          "data": {
            "text/plain": [
              "<Figure size 576x396 with 1 Axes>"
            ],
            "image/png": "[encoded data removed]"
          },
          "metadata": {}
        },
        {
          "output_type": "display_data",
          "data": {
            "text/plain": [
              "<Figure size 576x396 with 1 Axes>"
            ],
            "image/png": "[encoded data removed]"
          },
          "metadata": {}
        }
      ]
    },
    {
      "cell_type": "markdown",
      "source": [
        "# **Обучение и валидация моделей**\n",
        "Рассмотрим следующие модели:\n",
        " - MultinomialNB;\n",
        " - Логистическая регрессия;\n",
        " - LinearSVC;\n",
        " - RidgeClassifier;\n",
        " - DecisionTreeClassifier.\n",
        "\n",
        " Текстовые данные переведем в векторный вид при помощи TF-IDF, на данном этапе без n-gram."
      ],
      "metadata": {
        "id": "tQtnEnqHkVmw"
      }
    },
    {
      "cell_type": "markdown",
      "source": [
        "## **Вспомогательные функции**"
      ],
      "metadata": {
        "id": "TVcYvfXQkjEb"
      }
    },
    {
      "cell_type": "code",
      "source": [
        "# разделение выборки на тренировочную и валидационную\n",
        "# также удаляем дубликаты в тренировочной выборке\n",
        "def train_valid_split(df):\n",
        "  x = df['title_all']\n",
        "  y = df[['level_2', 'level_3', 'level_4', 'level_5', 'level_6']]\n",
        "\n",
        "  x_train, x_valid, y_train, y_valid = train_test_split(x, y, test_size=0.3,\n",
        "                                                        random_state=42)\n",
        "\n",
        "  x_train.drop_duplicates(inplace=True)\n",
        "  y_train = y_train.loc[x_train.index]\n",
        "\n",
        "  y_valid.fillna('non_type', inplace=True)\n",
        "  y_train.fillna('non_type', inplace=True)\n",
        "\n",
        "  return x_train, x_valid, y_train, y_valid"
      ],
      "metadata": {
        "id": "GI34vjkRkiq-"
      },
      "execution_count": 48,
      "outputs": []
    },
    {
      "cell_type": "code",
      "source": [
        "# решено обучать классификатор для каждой родительской категории, поэтому\n",
        "# данная функция будет выбирать из тренировочной и валидационной выборок\n",
        "# данные для родительского класса и соответствующих подклассов и передавать их \n",
        "# в следующую функцию\n",
        "# а еще внутри функция векторизует текстовые данные при помощи TF-IDF\n",
        "\n",
        "def train_val_split(id, col, col_2, x_train, x_valid, y_train, y_valid,tf_idf):\n",
        "\n",
        "\n",
        "  y_train_parent = y_train.loc[y_train[col]==id, col_2]\n",
        "  x_train_parent = x_train.loc[y_train_parent.index]\n",
        "  y_valid_parent = y_valid.loc[y_valid[f'{col}_preds']==id, col_2]\n",
        "  x_valid_parent = x_valid.loc[y_valid_parent.index]\n",
        "\n",
        "  if x_train_parent.shape[0]==0 or x_valid_parent.shape[0]==0:\n",
        "    return x_train_parent, x_valid_parent, y_train_parent, y_valid_parent\n",
        "  else:\n",
        "    x_train_parent = tf_idf.transform(x_train_parent)\n",
        "    x_valid_parent = tf_idf.transform(x_valid_parent)\n",
        "\n",
        "  return x_train_parent, x_valid_parent, y_train_parent, y_valid_parent"
      ],
      "metadata": {
        "id": "QRk4T93XkiUO"
      },
      "execution_count": 49,
      "outputs": []
    },
    {
      "cell_type": "code",
      "source": [
        "# функция для обучения и классификации\n",
        "\n",
        "def fit_predict(model, col, col_2, x_train, x_valid, y_train, y_valid,tf_idf):\n",
        "  y_valid[f'{col_2}_preds'] = 'w'\n",
        "  list_labels = y_train[col].unique()\n",
        "  for id in tqdm(list_labels):\n",
        "     x_train_parent, x_valid_parent, y_train_parent, y_valid_parent = train_val_split(id, col, col_2, x_train, x_valid, y_train, y_valid,tf_idf)\n",
        "    #  print(x_train_parent.shape, x_valid_parent.shape, y_train_parent.shape, y_valid_parent.shape)\n",
        "     if x_train_parent.shape[0]==0 or x_valid_parent.shape[0]==0:\n",
        "       continue\n",
        "     if len(y_train_parent.unique())<2:\n",
        "       preds = y_train_parent.to_list()[0]\n",
        "       y_valid.loc[y_valid[f'{col}_preds']==id, f'{col_2}_preds'] = preds\n",
        "     else:\n",
        "       model.fit(x_train_parent, y_train_parent)\n",
        "       preds = model.predict(x_valid_parent)\n",
        "      #  print(preds)\n",
        "     \n",
        "       y_valid.loc[y_valid[f'{col}_preds']==id, f'{col_2}_preds'] = preds"
      ],
      "metadata": {
        "id": "pbf_KyP9khkP"
      },
      "execution_count": 50,
      "outputs": []
    },
    {
      "cell_type": "code",
      "source": [
        "# функция для визуализации результатов на валидационной выборке на каждом уровне\n",
        "\n",
        "def res_train(y_valid):\n",
        "  cols = ['level_2', 'level_3', 'level_4', 'level_5', 'level_6']\n",
        "  res = pd.DataFrame(columns=['level', 'F1'])\n",
        "\n",
        "\n",
        "  # results = results.append({'Name' : 'MNB', 'Acc' : accuracy_score(valid_mnb['level_6'], valid_mnb['level_6_preds'])}, ignore_index=True)\n",
        "\n",
        "\n",
        "  for col in cols:\n",
        "    acc_level = f1_score(y_valid.loc[y_valid[col]!=\"non_type\", col],y_valid.loc[y_valid[col]!=\"non_type\", f'{col}_preds'], average='weighted')\n",
        "    res = res.append({'level' : col, 'F1' : acc_level}, ignore_index=True)\n",
        "\n",
        "\n",
        "  ax = sns.barplot(x='level', y='F1', data=res)\n",
        "  plt.title('Результат обучения модели по уровням', pad=15, fontdict={'fontsize':15})\n",
        "  plt.ylabel('F1-score на уровне', fontdict={'fontsize':13})\n",
        "  plt.xlabel('Уровень', fontdict={'fontsize':13})\n",
        "  for i in ax.patches:\n",
        "    ax.text(i.get_xy()[0]+0.25, i.get_height()-0.1,\n",
        "            (i.get_height()).round(3), fontsize=12)"
      ],
      "metadata": {
        "id": "vHIRr5nSg_NQ"
      },
      "execution_count": 51,
      "outputs": []
    },
    {
      "cell_type": "code",
      "source": [
        "# результаты\n",
        "# на данном этапе оцениваем F1\n",
        "results = pd.DataFrame(columns=['Name', 'F1'])"
      ],
      "metadata": {
        "id": "qT-mMt-Xnwmr"
      },
      "execution_count": 52,
      "outputs": []
    },
    {
      "cell_type": "markdown",
      "source": [
        "## **MultinomialNB**"
      ],
      "metadata": {
        "id": "u2-jzxDBG5hT"
      }
    },
    {
      "cell_type": "code",
      "source": [
        "x_train, x_valid, y_train, y_valid = train_valid_split(train)"
      ],
      "metadata": {
        "id": "S_inudiOrACb"
      },
      "execution_count": 53,
      "outputs": []
    },
    {
      "cell_type": "code",
      "source": [
        "mnb = MultinomialNB(alpha=0.4)"
      ],
      "metadata": {
        "id": "MSGVQHhQB-yG"
      },
      "execution_count": 54,
      "outputs": []
    },
    {
      "cell_type": "code",
      "source": [
        "tf_idf = TfidfVectorizer()\n",
        "tf_idf.fit(x_train)\n"
      ],
      "metadata": {
        "colab": {
          "base_uri": "https://localhost:8080/"
        },
        "id": "zmkUAfU5M9qs",
        "outputId": "73996e11-7e88-4b64-fc80-b47782bbc794"
      },
      "execution_count": 55,
      "outputs": [
        {
          "output_type": "execute_result",
          "data": {
            "text/plain": [
              "TfidfVectorizer()"
            ]
          },
          "metadata": {},
          "execution_count": 55
        }
      ]
    },
    {
      "cell_type": "code",
      "source": [
        "y_train_parent = y_train['level_2']\n",
        "x_train_parent = tf_idf.transform(x_train)\n",
        "y_valid_parent = y_valid['level_2']\n",
        "x_valid_parent = tf_idf.transform(x_valid)\n",
        "\n",
        "mnb.fit(x_train_parent,y_train_parent)\n",
        "preds = mnb.predict(x_valid_parent)\n",
        "y_valid['level_2_preds'] = preds"
      ],
      "metadata": {
        "id": "4s3KczOSHDqI"
      },
      "execution_count": 56,
      "outputs": []
    },
    {
      "cell_type": "code",
      "source": [
        "fit_predict(mnb, 'level_2', 'level_3', x_train, x_valid, y_train, y_valid,tf_idf)\n"
      ],
      "metadata": {
        "colab": {
          "base_uri": "https://localhost:8080/"
        },
        "id": "BEoP0h7mG__L",
        "outputId": "725ace43-56d1-481b-8627-4ad24e478379"
      },
      "execution_count": 57,
      "outputs": [
        {
          "output_type": "stream",
          "name": "stderr",
          "text": [
            "100%|██████████| 5/5 [00:05<00:00,  1.10s/it]\n"
          ]
        }
      ]
    },
    {
      "cell_type": "code",
      "source": [
        "fit_predict(mnb, 'level_3', 'level_4', x_train, x_valid, y_train, y_valid,tf_idf)\n"
      ],
      "metadata": {
        "colab": {
          "base_uri": "https://localhost:8080/"
        },
        "id": "CnYybhSqGyet",
        "outputId": "6750f731-ab73-49d2-a597-a0d31270bd91"
      },
      "execution_count": 58,
      "outputs": [
        {
          "output_type": "stream",
          "name": "stderr",
          "text": [
            "100%|██████████| 50/50 [00:08<00:00,  5.78it/s]\n"
          ]
        }
      ]
    },
    {
      "cell_type": "code",
      "source": [
        "fit_predict(mnb, 'level_4', 'level_5', x_train, x_valid, y_train, y_valid,tf_idf)\n"
      ],
      "metadata": {
        "colab": {
          "base_uri": "https://localhost:8080/"
        },
        "id": "F36Vcf7GIOxG",
        "outputId": "9f7b8b00-5905-464f-ae63-896b79eb4f1b"
      },
      "execution_count": 59,
      "outputs": [
        {
          "output_type": "stream",
          "name": "stderr",
          "text": [
            "100%|██████████| 386/386 [00:26<00:00, 14.45it/s]\n"
          ]
        }
      ]
    },
    {
      "cell_type": "code",
      "source": [
        "fit_predict(mnb, 'level_5', 'level_6', x_train, x_valid, y_train, y_valid,tf_idf)"
      ],
      "metadata": {
        "colab": {
          "base_uri": "https://localhost:8080/"
        },
        "id": "HoVYrv3OIRmx",
        "outputId": "db2d08ae-86e6-43a5-887d-52ec3784dd0a"
      },
      "execution_count": 60,
      "outputs": [
        {
          "output_type": "stream",
          "name": "stderr",
          "text": [
            "100%|██████████| 981/981 [00:43<00:00, 22.75it/s]\n"
          ]
        }
      ]
    },
    {
      "cell_type": "code",
      "source": [
        "res_train(y_valid)"
      ],
      "metadata": {
        "colab": {
          "base_uri": "https://localhost:8080/",
          "height": 388
        },
        "id": "l9jynxlj4kIQ",
        "outputId": "b9a50a53-b1ab-4dfb-d99e-f08f436305c9"
      },
      "execution_count": 61,
      "outputs": [
        {
          "output_type": "display_data",
          "data": {
            "text/plain": [
              "<Figure size 576x396 with 1 Axes>"
            ],
            "image/png": "[encoded data removed]"
          },
          "metadata": {}
        }
      ]
    },
    {
      "cell_type": "code",
      "source": [
        "# здесь расположим листовые категории на одном уровне для расчета F1\n",
        "\n",
        "y_valid.loc[y_valid.level_4_preds=='non_type','level_4_preds'] = y_valid.level_3_preds\n",
        "y_valid.loc[y_valid.level_5_preds=='non_type','level_5_preds'] = y_valid.level_4_preds\n",
        "y_valid.loc[y_valid.level_6_preds=='non_type','level_6_preds'] = y_valid.level_5_preds\n",
        "\n",
        "y_valid.loc[y_valid.level_4=='non_type','level_4'] = y_valid.level_3\n",
        "y_valid.loc[y_valid.level_5=='non_type','level_5'] = y_valid.level_4\n",
        "y_valid.loc[y_valid.level_6=='non_type','level_6'] = y_valid.level_5\n"
      ],
      "metadata": {
        "id": "zTSUn_caYkQy"
      },
      "execution_count": 62,
      "outputs": []
    },
    {
      "cell_type": "code",
      "source": [
        "valid_mnb = y_valid.copy()"
      ],
      "metadata": {
        "id": "TKgAmEMclzvO"
      },
      "execution_count": 63,
      "outputs": []
    },
    {
      "cell_type": "code",
      "source": [
        "results = results.append({'Name' : 'MNB', 'F1' : f1_score(valid_mnb['level_6'], valid_mnb['level_6_preds'], average='weighted')}, ignore_index=True)\n",
        "results"
      ],
      "metadata": {
        "colab": {
          "base_uri": "https://localhost:8080/",
          "height": 81
        },
        "id": "RTKUhl1EepZ-",
        "outputId": "449782ef-75fb-4216-9413-552407e991a9"
      },
      "execution_count": 64,
      "outputs": [
        {
          "output_type": "execute_result",
          "data": {
            "text/plain": [
              "  Name        F1\n",
              "0  MNB  0.576293"
            ],
            "text/html": [
              "\n",
              "  <div id=\"df-cec6c17d-9692-453c-905f-a79ae07fdaaf\">\n",
              "    <div class=\"colab-df-container\">\n",
              "      <div>\n",
              "<style scoped>\n",
              "    .dataframe tbody tr th:only-of-type {\n",
              "        vertical-align: middle;\n",
              "    }\n",
              "\n",
              "    .dataframe tbody tr th {\n",
              "        vertical-align: top;\n",
              "    }\n",
              "\n",
              "    .dataframe thead th {\n",
              "        text-align: right;\n",
              "    }\n",
              "</style>\n",
              "<table border=\"1\" class=\"dataframe\">\n",
              "  <thead>\n",
              "    <tr style=\"text-align: right;\">\n",
              "      <th></th>\n",
              "      <th>Name</th>\n",
              "      <th>F1</th>\n",
              "    </tr>\n",
              "  </thead>\n",
              "  <tbody>\n",
              "    <tr>\n",
              "      <th>0</th>\n",
              "      <td>MNB</td>\n",
              "      <td>0.576293</td>\n",
              "    </tr>\n",
              "  </tbody>\n",
              "</table>\n",
              "</div>\n",
              "      <button class=\"colab-df-convert\" onclick=\"convertToInteractive('df-cec6c17d-9692-453c-905f-a79ae07fdaaf')\"\n",
              "              title=\"Convert this dataframe to an interactive table.\"\n",
              "              style=\"display:none;\">\n",
              "        \n",
              "  <svg xmlns=\"http://www.w3.org/2000/svg\" height=\"24px\"viewBox=\"0 0 24 24\"\n",
              "       width=\"24px\">\n",
              "    <path d=\"M0 0h24v24H0V0z\" fill=\"none\"/>\n",
              "    <path d=\"M18.56 5.44l.94 2.06.94-2.06 2.06-.94-2.06-.94-.94-2.06-.94 2.06-2.06.94zm-11 1L8.5 8.5l.94-2.06 2.06-.94-2.06-.94L8.5 2.5l-.94 2.06-2.06.94zm10 10l.94 2.06.94-2.06 2.06-.94-2.06-.94-.94-2.06-.94 2.06-2.06.94z\"/><path d=\"M17.41 7.96l-1.37-1.37c-.4-.4-.92-.59-1.43-.59-.52 0-1.04.2-1.43.59L10.3 9.45l-7.72 7.72c-.78.78-.78 2.05 0 2.83L4 21.41c.39.39.9.59 1.41.59.51 0 1.02-.2 1.41-.59l7.78-7.78 2.81-2.81c.8-.78.8-2.07 0-2.86zM5.41 20L4 18.59l7.72-7.72 1.47 1.35L5.41 20z\"/>\n",
              "  </svg>\n",
              "      </button>\n",
              "      \n",
              "  <style>\n",
              "    .colab-df-container {\n",
              "      display:flex;\n",
              "      flex-wrap:wrap;\n",
              "      gap: 12px;\n",
              "    }\n",
              "\n",
              "    .colab-df-convert {\n",
              "      background-color: #E8F0FE;\n",
              "      border: none;\n",
              "      border-radius: 50%;\n",
              "      cursor: pointer;\n",
              "      display: none;\n",
              "      fill: #1967D2;\n",
              "      height: 32px;\n",
              "      padding: 0 0 0 0;\n",
              "      width: 32px;\n",
              "    }\n",
              "\n",
              "    .colab-df-convert:hover {\n",
              "      background-color: #E2EBFA;\n",
              "      box-shadow: 0px 1px 2px rgba(60, 64, 67, 0.3), 0px 1px 3px 1px rgba(60, 64, 67, 0.15);\n",
              "      fill: #174EA6;\n",
              "    }\n",
              "\n",
              "    [theme=dark] .colab-df-convert {\n",
              "      background-color: #3B4455;\n",
              "      fill: #D2E3FC;\n",
              "    }\n",
              "\n",
              "    [theme=dark] .colab-df-convert:hover {\n",
              "      background-color: #434B5C;\n",
              "      box-shadow: 0px 1px 3px 1px rgba(0, 0, 0, 0.15);\n",
              "      filter: drop-shadow(0px 1px 2px rgba(0, 0, 0, 0.3));\n",
              "      fill: #FFFFFF;\n",
              "    }\n",
              "  </style>\n",
              "\n",
              "      <script>\n",
              "        const buttonEl =\n",
              "          document.querySelector('#df-cec6c17d-9692-453c-905f-a79ae07fdaaf button.colab-df-convert');\n",
              "        buttonEl.style.display =\n",
              "          google.colab.kernel.accessAllowed ? 'block' : 'none';\n",
              "\n",
              "        async function convertToInteractive(key) {\n",
              "          const element = document.querySelector('#df-cec6c17d-9692-453c-905f-a79ae07fdaaf');\n",
              "          const dataTable =\n",
              "            await google.colab.kernel.invokeFunction('convertToInteractive',\n",
              "                                                     [key], {});\n",
              "          if (!dataTable) return;\n",
              "\n",
              "          const docLinkHtml = 'Like what you see? Visit the ' +\n",
              "            '<a target=\"_blank\" href=https://colab.research.google.com/notebooks/data_table.ipynb>data table notebook</a>'\n",
              "            + ' to learn more about interactive tables.';\n",
              "          element.innerHTML = '';\n",
              "          dataTable['output_type'] = 'display_data';\n",
              "          await google.colab.output.renderOutput(dataTable, element);\n",
              "          const docLink = document.createElement('div');\n",
              "          docLink.innerHTML = docLinkHtml;\n",
              "          element.appendChild(docLink);\n",
              "        }\n",
              "      </script>\n",
              "    </div>\n",
              "  </div>\n",
              "  "
            ]
          },
          "metadata": {},
          "execution_count": 64
        }
      ]
    },
    {
      "cell_type": "code",
      "source": [
        ""
      ],
      "metadata": {
        "id": "uj9nKvveZZDm"
      },
      "execution_count": 64,
      "outputs": []
    },
    {
      "cell_type": "markdown",
      "source": [
        "# **Лог рег**"
      ],
      "metadata": {
        "id": "daE1ngk-IuB0"
      }
    },
    {
      "cell_type": "code",
      "source": [
        "x_train, x_valid, y_train, y_valid = train_valid_split(train)"
      ],
      "metadata": {
        "id": "PhIi7aL5kzd6"
      },
      "execution_count": 65,
      "outputs": []
    },
    {
      "cell_type": "code",
      "source": [
        "model_lr = LogisticRegression(random_state=1,\n",
        "                              max_iter=500,\n",
        "                              multi_class = 'multinomial'\n",
        "                              )"
      ],
      "metadata": {
        "id": "cWRXzxUPJ7Zn"
      },
      "execution_count": 66,
      "outputs": []
    },
    {
      "cell_type": "code",
      "source": [
        "y_train_parent = y_train['level_2']\n",
        "x_train_parent = tf_idf.transform(x_train)\n",
        "y_valid_parent = y_valid['level_2']\n",
        "x_valid_parent = tf_idf.transform(x_valid)\n",
        "\n",
        "model_lr.fit(x_train_parent,y_train_parent)\n",
        "preds = model_lr.predict(x_valid_parent)\n",
        "y_valid['level_2_preds'] = preds\n"
      ],
      "metadata": {
        "id": "MUD2aO4iNbxU"
      },
      "execution_count": 67,
      "outputs": []
    },
    {
      "cell_type": "code",
      "source": [
        "fit_predict(model_lr, 'level_2', 'level_3', x_train, x_valid, y_train, y_valid, tf_idf)"
      ],
      "metadata": {
        "id": "QNv7LUoYoKR2",
        "colab": {
          "base_uri": "https://localhost:8080/"
        },
        "outputId": "24628cb9-c5bd-47e3-cf21-0d4cb32c168b"
      },
      "execution_count": 68,
      "outputs": [
        {
          "output_type": "stream",
          "name": "stderr",
          "text": [
            "100%|██████████| 5/5 [03:07<00:00, 37.49s/it]\n"
          ]
        }
      ]
    },
    {
      "cell_type": "code",
      "source": [
        "fit_predict(model_lr, 'level_3', 'level_4', x_train, x_valid, y_train, y_valid, tf_idf)"
      ],
      "metadata": {
        "id": "VZlfgDubyXwo",
        "colab": {
          "base_uri": "https://localhost:8080/"
        },
        "outputId": "4dedf927-3ed0-4cca-d0f2-e7cdd62d3fe0"
      },
      "execution_count": 69,
      "outputs": [
        {
          "output_type": "stream",
          "name": "stderr",
          "text": [
            "100%|██████████| 50/50 [06:14<00:00,  7.50s/it]\n"
          ]
        }
      ]
    },
    {
      "cell_type": "code",
      "source": [
        "fit_predict(model_lr, 'level_4', 'level_5', x_train, x_valid, y_train, y_valid, tf_idf)"
      ],
      "metadata": {
        "id": "FmNK6oNvygjq",
        "colab": {
          "base_uri": "https://localhost:8080/"
        },
        "outputId": "14c7859c-b11d-4027-8eb6-36f75bfc45ef"
      },
      "execution_count": 70,
      "outputs": [
        {
          "output_type": "stream",
          "name": "stderr",
          "text": [
            "100%|██████████| 386/386 [09:22<00:00,  1.46s/it]\n"
          ]
        }
      ]
    },
    {
      "cell_type": "code",
      "source": [
        "fit_predict(model_lr, 'level_5', 'level_6', x_train, x_valid, y_train, y_valid, tf_idf)"
      ],
      "metadata": {
        "id": "7ubNFvdZpSNc",
        "colab": {
          "base_uri": "https://localhost:8080/"
        },
        "outputId": "e55c3d5f-a818-42c3-a786-7becbfe742c3"
      },
      "execution_count": 71,
      "outputs": [
        {
          "output_type": "stream",
          "name": "stderr",
          "text": [
            "100%|██████████| 981/981 [01:16<00:00, 12.81it/s]\n"
          ]
        }
      ]
    },
    {
      "cell_type": "code",
      "source": [
        "res_train(y_valid)"
      ],
      "metadata": {
        "colab": {
          "base_uri": "https://localhost:8080/",
          "height": 388
        },
        "id": "jcnboblb_Prm",
        "outputId": "4ca2c503-f44b-4b9e-b074-c2342b4503bc"
      },
      "execution_count": 72,
      "outputs": [
        {
          "output_type": "display_data",
          "data": {
            "text/plain": [
              "<Figure size 576x396 with 1 Axes>"
            ],
            "image/png": "[encoded data removed]"
          },
          "metadata": {}
        }
      ]
    },
    {
      "cell_type": "code",
      "source": [
        "# здесь расположим листовые категории на одном уровне для расчета F1\n",
        "\n",
        "y_valid.loc[y_valid.level_4_preds=='non_type','level_4_preds'] = y_valid.level_3_preds\n",
        "y_valid.loc[y_valid.level_5_preds=='non_type','level_5_preds'] = y_valid.level_4_preds\n",
        "y_valid.loc[y_valid.level_6_preds=='non_type','level_6_preds'] = y_valid.level_5_preds\n",
        "\n",
        "\n",
        "y_valid.loc[y_valid.level_4=='non_type','level_4'] = y_valid.level_3\n",
        "y_valid.loc[y_valid.level_5=='non_type','level_5'] = y_valid.level_4\n",
        "y_valid.loc[y_valid.level_6=='non_type','level_6'] = y_valid.level_5"
      ],
      "metadata": {
        "id": "51gvOKsmpR00"
      },
      "execution_count": 73,
      "outputs": []
    },
    {
      "cell_type": "code",
      "source": [
        "valid_lr = y_valid.copy()"
      ],
      "metadata": {
        "id": "Cu7YmGHJy-5h"
      },
      "execution_count": 74,
      "outputs": []
    },
    {
      "cell_type": "code",
      "source": [
        "results = results.append({'Name' : 'Log_reg', 'F1' : f1_score(valid_lr['level_6'], valid_lr['level_6_preds'], average='weighted')}, ignore_index=True)\n",
        "results"
      ],
      "metadata": {
        "id": "EiwO0-Pye3UE",
        "colab": {
          "base_uri": "https://localhost:8080/",
          "height": 112
        },
        "outputId": "19f6b94c-d033-4e91-f1e5-c896aad7a2c6"
      },
      "execution_count": 75,
      "outputs": [
        {
          "output_type": "execute_result",
          "data": {
            "text/plain": [
              "      Name        F1\n",
              "0      MNB  0.576293\n",
              "1  Log_reg  0.806613"
            ],
            "text/html": [
              "\n",
              "  <div id=\"df-ee1e80fa-3568-4d8e-b312-d755976ad2e3\">\n",
              "    <div class=\"colab-df-container\">\n",
              "      <div>\n",
              "<style scoped>\n",
              "    .dataframe tbody tr th:only-of-type {\n",
              "        vertical-align: middle;\n",
              "    }\n",
              "\n",
              "    .dataframe tbody tr th {\n",
              "        vertical-align: top;\n",
              "    }\n",
              "\n",
              "    .dataframe thead th {\n",
              "        text-align: right;\n",
              "    }\n",
              "</style>\n",
              "<table border=\"1\" class=\"dataframe\">\n",
              "  <thead>\n",
              "    <tr style=\"text-align: right;\">\n",
              "      <th></th>\n",
              "      <th>Name</th>\n",
              "      <th>F1</th>\n",
              "    </tr>\n",
              "  </thead>\n",
              "  <tbody>\n",
              "    <tr>\n",
              "      <th>0</th>\n",
              "      <td>MNB</td>\n",
              "      <td>0.576293</td>\n",
              "    </tr>\n",
              "    <tr>\n",
              "      <th>1</th>\n",
              "      <td>Log_reg</td>\n",
              "      <td>0.806613</td>\n",
              "    </tr>\n",
              "  </tbody>\n",
              "</table>\n",
              "</div>\n",
              "      <button class=\"colab-df-convert\" onclick=\"convertToInteractive('df-ee1e80fa-3568-4d8e-b312-d755976ad2e3')\"\n",
              "              title=\"Convert this dataframe to an interactive table.\"\n",
              "              style=\"display:none;\">\n",
              "        \n",
              "  <svg xmlns=\"http://www.w3.org/2000/svg\" height=\"24px\"viewBox=\"0 0 24 24\"\n",
              "       width=\"24px\">\n",
              "    <path d=\"M0 0h24v24H0V0z\" fill=\"none\"/>\n",
              "    <path d=\"M18.56 5.44l.94 2.06.94-2.06 2.06-.94-2.06-.94-.94-2.06-.94 2.06-2.06.94zm-11 1L8.5 8.5l.94-2.06 2.06-.94-2.06-.94L8.5 2.5l-.94 2.06-2.06.94zm10 10l.94 2.06.94-2.06 2.06-.94-2.06-.94-.94-2.06-.94 2.06-2.06.94z\"/><path d=\"M17.41 7.96l-1.37-1.37c-.4-.4-.92-.59-1.43-.59-.52 0-1.04.2-1.43.59L10.3 9.45l-7.72 7.72c-.78.78-.78 2.05 0 2.83L4 21.41c.39.39.9.59 1.41.59.51 0 1.02-.2 1.41-.59l7.78-7.78 2.81-2.81c.8-.78.8-2.07 0-2.86zM5.41 20L4 18.59l7.72-7.72 1.47 1.35L5.41 20z\"/>\n",
              "  </svg>\n",
              "      </button>\n",
              "      \n",
              "  <style>\n",
              "    .colab-df-container {\n",
              "      display:flex;\n",
              "      flex-wrap:wrap;\n",
              "      gap: 12px;\n",
              "    }\n",
              "\n",
              "    .colab-df-convert {\n",
              "      background-color: #E8F0FE;\n",
              "      border: none;\n",
              "      border-radius: 50%;\n",
              "      cursor: pointer;\n",
              "      display: none;\n",
              "      fill: #1967D2;\n",
              "      height: 32px;\n",
              "      padding: 0 0 0 0;\n",
              "      width: 32px;\n",
              "    }\n",
              "\n",
              "    .colab-df-convert:hover {\n",
              "      background-color: #E2EBFA;\n",
              "      box-shadow: 0px 1px 2px rgba(60, 64, 67, 0.3), 0px 1px 3px 1px rgba(60, 64, 67, 0.15);\n",
              "      fill: #174EA6;\n",
              "    }\n",
              "\n",
              "    [theme=dark] .colab-df-convert {\n",
              "      background-color: #3B4455;\n",
              "      fill: #D2E3FC;\n",
              "    }\n",
              "\n",
              "    [theme=dark] .colab-df-convert:hover {\n",
              "      background-color: #434B5C;\n",
              "      box-shadow: 0px 1px 3px 1px rgba(0, 0, 0, 0.15);\n",
              "      filter: drop-shadow(0px 1px 2px rgba(0, 0, 0, 0.3));\n",
              "      fill: #FFFFFF;\n",
              "    }\n",
              "  </style>\n",
              "\n",
              "      <script>\n",
              "        const buttonEl =\n",
              "          document.querySelector('#df-ee1e80fa-3568-4d8e-b312-d755976ad2e3 button.colab-df-convert');\n",
              "        buttonEl.style.display =\n",
              "          google.colab.kernel.accessAllowed ? 'block' : 'none';\n",
              "\n",
              "        async function convertToInteractive(key) {\n",
              "          const element = document.querySelector('#df-ee1e80fa-3568-4d8e-b312-d755976ad2e3');\n",
              "          const dataTable =\n",
              "            await google.colab.kernel.invokeFunction('convertToInteractive',\n",
              "                                                     [key], {});\n",
              "          if (!dataTable) return;\n",
              "\n",
              "          const docLinkHtml = 'Like what you see? Visit the ' +\n",
              "            '<a target=\"_blank\" href=https://colab.research.google.com/notebooks/data_table.ipynb>data table notebook</a>'\n",
              "            + ' to learn more about interactive tables.';\n",
              "          element.innerHTML = '';\n",
              "          dataTable['output_type'] = 'display_data';\n",
              "          await google.colab.output.renderOutput(dataTable, element);\n",
              "          const docLink = document.createElement('div');\n",
              "          docLink.innerHTML = docLinkHtml;\n",
              "          element.appendChild(docLink);\n",
              "        }\n",
              "      </script>\n",
              "    </div>\n",
              "  </div>\n",
              "  "
            ]
          },
          "metadata": {},
          "execution_count": 75
        }
      ]
    },
    {
      "cell_type": "code",
      "source": [
        ""
      ],
      "metadata": {
        "id": "3mc8bnJYJ8E-"
      },
      "execution_count": 75,
      "outputs": []
    },
    {
      "cell_type": "markdown",
      "source": [
        "# **LinearSVC**"
      ],
      "metadata": {
        "id": "y7ecfqW80PDo"
      }
    },
    {
      "cell_type": "code",
      "source": [
        "x_train, x_valid, y_train, y_valid = train_valid_split(train)"
      ],
      "metadata": {
        "id": "JfRcnbj91s1m"
      },
      "execution_count": 76,
      "outputs": []
    },
    {
      "cell_type": "code",
      "source": [
        "clf = LinearSVC()\n",
        "\n",
        "\n",
        "y_train_parent = y_train['level_2']\n",
        "x_train_parent = tf_idf.transform(x_train)\n",
        "y_valid_parent = y_valid['level_2']\n",
        "x_valid_parent = tf_idf.transform(x_valid)\n",
        "\n",
        "clf.fit(x_train_parent,y_train_parent)\n",
        "preds = clf.predict(x_valid_parent)\n",
        "y_valid['level_2_preds'] = preds"
      ],
      "metadata": {
        "id": "83_yGrSL0NO-"
      },
      "execution_count": 77,
      "outputs": []
    },
    {
      "cell_type": "code",
      "source": [
        "\n",
        "fit_predict(clf, 'level_2', 'level_3', x_train, x_valid, y_train, y_valid, tf_idf)"
      ],
      "metadata": {
        "colab": {
          "base_uri": "https://localhost:8080/"
        },
        "id": "V6rfT9Q40NUZ",
        "outputId": "f1782ef4-aa05-4443-992d-febb6d0a0667"
      },
      "execution_count": 78,
      "outputs": [
        {
          "output_type": "stream",
          "name": "stderr",
          "text": [
            "100%|██████████| 5/5 [00:07<00:00,  1.59s/it]\n"
          ]
        }
      ]
    },
    {
      "cell_type": "code",
      "source": [
        "fit_predict(clf, 'level_3', 'level_4', x_train, x_valid, y_train, y_valid, tf_idf)"
      ],
      "metadata": {
        "colab": {
          "base_uri": "https://localhost:8080/"
        },
        "id": "5Ah3kdXb0Ndf",
        "outputId": "b4273b1b-714f-44f9-c355-f8f942b7ca0b"
      },
      "execution_count": 79,
      "outputs": [
        {
          "output_type": "stream",
          "name": "stderr",
          "text": [
            "100%|██████████| 50/50 [00:10<00:00,  4.97it/s]\n"
          ]
        }
      ]
    },
    {
      "cell_type": "code",
      "source": [
        "fit_predict(clf, 'level_4', 'level_5', x_train, x_valid, y_train, y_valid, tf_idf)"
      ],
      "metadata": {
        "colab": {
          "base_uri": "https://localhost:8080/"
        },
        "id": "9Cn05G_K0Ni3",
        "outputId": "a5ea0c66-34d9-46a5-da91-76fef1b6e3dd"
      },
      "execution_count": 80,
      "outputs": [
        {
          "output_type": "stream",
          "name": "stderr",
          "text": [
            "100%|██████████| 386/386 [00:27<00:00, 14.25it/s]\n"
          ]
        }
      ]
    },
    {
      "cell_type": "code",
      "source": [
        "fit_predict(clf, 'level_5', 'level_6', x_train, x_valid, y_train, y_valid, tf_idf)"
      ],
      "metadata": {
        "colab": {
          "base_uri": "https://localhost:8080/"
        },
        "id": "HDI1jpEp0NoM",
        "outputId": "19d486fa-1d26-4fab-d49d-cbe98c2a52d7"
      },
      "execution_count": 81,
      "outputs": [
        {
          "output_type": "stream",
          "name": "stderr",
          "text": [
            "100%|██████████| 981/981 [00:51<00:00, 19.09it/s]\n"
          ]
        }
      ]
    },
    {
      "cell_type": "code",
      "source": [
        "res_train(y_valid)"
      ],
      "metadata": {
        "colab": {
          "base_uri": "https://localhost:8080/",
          "height": 388
        },
        "id": "z0YtSe7T-pyp",
        "outputId": "a1fcc53f-b293-4fe0-b0df-5ed72dd36daa"
      },
      "execution_count": 82,
      "outputs": [
        {
          "output_type": "display_data",
          "data": {
            "text/plain": [
              "<Figure size 576x396 with 1 Axes>"
            ],
            "image/png": "[encoded data removed]"
          },
          "metadata": {}
        }
      ]
    },
    {
      "cell_type": "code",
      "source": [
        "# здесь расположим листовые категории на одном уровне для расчета F1\n",
        "y_valid.loc[y_valid.level_4_preds=='non_type','level_4_preds'] = y_valid.level_3_preds\n",
        "y_valid.loc[y_valid.level_5_preds=='non_type','level_5_preds'] = y_valid.level_4_preds\n",
        "y_valid.loc[y_valid.level_6_preds=='non_type','level_6_preds'] = y_valid.level_5_preds\n",
        "\n",
        "\n",
        "y_valid.loc[y_valid.level_4=='non_type','level_4'] = y_valid.level_3\n",
        "y_valid.loc[y_valid.level_5=='non_type','level_5'] = y_valid.level_4\n",
        "y_valid.loc[y_valid.level_6=='non_type','level_6'] = y_valid.level_5"
      ],
      "metadata": {
        "id": "j-HnYoLOTWTC"
      },
      "execution_count": 83,
      "outputs": []
    },
    {
      "cell_type": "code",
      "source": [
        "valid_lsvc = y_valid.copy()"
      ],
      "metadata": {
        "id": "J-kr_fbeJiyw"
      },
      "execution_count": 84,
      "outputs": []
    },
    {
      "cell_type": "code",
      "source": [
        "results = results.append({'Name' : 'LinearSVC', 'F1' : f1_score(valid_lsvc['level_6'], valid_lsvc['level_6_preds'], average='weighted')}, ignore_index=True)\n",
        "results"
      ],
      "metadata": {
        "colab": {
          "base_uri": "https://localhost:8080/",
          "height": 143
        },
        "id": "c0JFwSpt0Nyb",
        "outputId": "b99de36f-47f0-4cdc-c201-05d469d12a7e"
      },
      "execution_count": 85,
      "outputs": [
        {
          "output_type": "execute_result",
          "data": {
            "text/plain": [
              "        Name        F1\n",
              "0        MNB  0.576293\n",
              "1    Log_reg  0.806613\n",
              "2  LinearSVC  0.837763"
            ],
            "text/html": [
              "\n",
              "  <div id=\"df-ba36ad11-6163-4b7c-aad9-6debd728db20\">\n",
              "    <div class=\"colab-df-container\">\n",
              "      <div>\n",
              "<style scoped>\n",
              "    .dataframe tbody tr th:only-of-type {\n",
              "        vertical-align: middle;\n",
              "    }\n",
              "\n",
              "    .dataframe tbody tr th {\n",
              "        vertical-align: top;\n",
              "    }\n",
              "\n",
              "    .dataframe thead th {\n",
              "        text-align: right;\n",
              "    }\n",
              "</style>\n",
              "<table border=\"1\" class=\"dataframe\">\n",
              "  <thead>\n",
              "    <tr style=\"text-align: right;\">\n",
              "      <th></th>\n",
              "      <th>Name</th>\n",
              "      <th>F1</th>\n",
              "    </tr>\n",
              "  </thead>\n",
              "  <tbody>\n",
              "    <tr>\n",
              "      <th>0</th>\n",
              "      <td>MNB</td>\n",
              "      <td>0.576293</td>\n",
              "    </tr>\n",
              "    <tr>\n",
              "      <th>1</th>\n",
              "      <td>Log_reg</td>\n",
              "      <td>0.806613</td>\n",
              "    </tr>\n",
              "    <tr>\n",
              "      <th>2</th>\n",
              "      <td>LinearSVC</td>\n",
              "      <td>0.837763</td>\n",
              "    </tr>\n",
              "  </tbody>\n",
              "</table>\n",
              "</div>\n",
              "      <button class=\"colab-df-convert\" onclick=\"convertToInteractive('df-ba36ad11-6163-4b7c-aad9-6debd728db20')\"\n",
              "              title=\"Convert this dataframe to an interactive table.\"\n",
              "              style=\"display:none;\">\n",
              "        \n",
              "  <svg xmlns=\"http://www.w3.org/2000/svg\" height=\"24px\"viewBox=\"0 0 24 24\"\n",
              "       width=\"24px\">\n",
              "    <path d=\"M0 0h24v24H0V0z\" fill=\"none\"/>\n",
              "    <path d=\"M18.56 5.44l.94 2.06.94-2.06 2.06-.94-2.06-.94-.94-2.06-.94 2.06-2.06.94zm-11 1L8.5 8.5l.94-2.06 2.06-.94-2.06-.94L8.5 2.5l-.94 2.06-2.06.94zm10 10l.94 2.06.94-2.06 2.06-.94-2.06-.94-.94-2.06-.94 2.06-2.06.94z\"/><path d=\"M17.41 7.96l-1.37-1.37c-.4-.4-.92-.59-1.43-.59-.52 0-1.04.2-1.43.59L10.3 9.45l-7.72 7.72c-.78.78-.78 2.05 0 2.83L4 21.41c.39.39.9.59 1.41.59.51 0 1.02-.2 1.41-.59l7.78-7.78 2.81-2.81c.8-.78.8-2.07 0-2.86zM5.41 20L4 18.59l7.72-7.72 1.47 1.35L5.41 20z\"/>\n",
              "  </svg>\n",
              "      </button>\n",
              "      \n",
              "  <style>\n",
              "    .colab-df-container {\n",
              "      display:flex;\n",
              "      flex-wrap:wrap;\n",
              "      gap: 12px;\n",
              "    }\n",
              "\n",
              "    .colab-df-convert {\n",
              "      background-color: #E8F0FE;\n",
              "      border: none;\n",
              "      border-radius: 50%;\n",
              "      cursor: pointer;\n",
              "      display: none;\n",
              "      fill: #1967D2;\n",
              "      height: 32px;\n",
              "      padding: 0 0 0 0;\n",
              "      width: 32px;\n",
              "    }\n",
              "\n",
              "    .colab-df-convert:hover {\n",
              "      background-color: #E2EBFA;\n",
              "      box-shadow: 0px 1px 2px rgba(60, 64, 67, 0.3), 0px 1px 3px 1px rgba(60, 64, 67, 0.15);\n",
              "      fill: #174EA6;\n",
              "    }\n",
              "\n",
              "    [theme=dark] .colab-df-convert {\n",
              "      background-color: #3B4455;\n",
              "      fill: #D2E3FC;\n",
              "    }\n",
              "\n",
              "    [theme=dark] .colab-df-convert:hover {\n",
              "      background-color: #434B5C;\n",
              "      box-shadow: 0px 1px 3px 1px rgba(0, 0, 0, 0.15);\n",
              "      filter: drop-shadow(0px 1px 2px rgba(0, 0, 0, 0.3));\n",
              "      fill: #FFFFFF;\n",
              "    }\n",
              "  </style>\n",
              "\n",
              "      <script>\n",
              "        const buttonEl =\n",
              "          document.querySelector('#df-ba36ad11-6163-4b7c-aad9-6debd728db20 button.colab-df-convert');\n",
              "        buttonEl.style.display =\n",
              "          google.colab.kernel.accessAllowed ? 'block' : 'none';\n",
              "\n",
              "        async function convertToInteractive(key) {\n",
              "          const element = document.querySelector('#df-ba36ad11-6163-4b7c-aad9-6debd728db20');\n",
              "          const dataTable =\n",
              "            await google.colab.kernel.invokeFunction('convertToInteractive',\n",
              "                                                     [key], {});\n",
              "          if (!dataTable) return;\n",
              "\n",
              "          const docLinkHtml = 'Like what you see? Visit the ' +\n",
              "            '<a target=\"_blank\" href=https://colab.research.google.com/notebooks/data_table.ipynb>data table notebook</a>'\n",
              "            + ' to learn more about interactive tables.';\n",
              "          element.innerHTML = '';\n",
              "          dataTable['output_type'] = 'display_data';\n",
              "          await google.colab.output.renderOutput(dataTable, element);\n",
              "          const docLink = document.createElement('div');\n",
              "          docLink.innerHTML = docLinkHtml;\n",
              "          element.appendChild(docLink);\n",
              "        }\n",
              "      </script>\n",
              "    </div>\n",
              "  </div>\n",
              "  "
            ]
          },
          "metadata": {},
          "execution_count": 85
        }
      ]
    },
    {
      "cell_type": "code",
      "source": [
        "\n",
        "ax = sns.barplot(x='Name', y='F1', data=results)\n",
        "plt.title('Результат обучения моделей', pad=15, fontdict={'fontsize':15})\n",
        "plt.ylabel('F1-score на последнем листе', fontdict={'fontsize':13})\n",
        "plt.xlabel('Модель', fontdict={'fontsize':13})\n",
        "for i in ax.patches:\n",
        "  ax.text(i.get_xy()[0]+0.25, i.get_height()-0.1,\n",
        "          (i.get_height()).round(3), fontsize=12)\n",
        "  \n"
      ],
      "metadata": {
        "colab": {
          "base_uri": "https://localhost:8080/",
          "height": 388
        },
        "id": "_tjH2tfe0N3e",
        "outputId": "3a786278-4a6e-4f9b-bc0c-3cf9a408ca3c"
      },
      "execution_count": 86,
      "outputs": [
        {
          "output_type": "display_data",
          "data": {
            "text/plain": [
              "<Figure size 576x396 with 1 Axes>"
            ],
            "image/png": "[encoded data removed]"
          },
          "metadata": {}
        }
      ]
    },
    {
      "cell_type": "markdown",
      "source": [
        "# **RidgeClassifier**"
      ],
      "metadata": {
        "id": "ksY-7koWAZNH"
      }
    },
    {
      "cell_type": "code",
      "source": [
        "x_train, x_valid, y_train, y_valid = train_valid_split(train)"
      ],
      "metadata": {
        "id": "l0Cb2Mo-AYbC"
      },
      "execution_count": 87,
      "outputs": []
    },
    {
      "cell_type": "code",
      "source": [
        "r_clf = RidgeClassifier()"
      ],
      "metadata": {
        "id": "AdIqNxpoAYLW"
      },
      "execution_count": 88,
      "outputs": []
    },
    {
      "cell_type": "code",
      "source": [
        "y_train_parent = y_train['level_2']\n",
        "x_train_parent = tf_idf.transform(x_train)\n",
        "y_valid_parent = y_valid['level_2']\n",
        "x_valid_parent = tf_idf.transform(x_valid)\n",
        "\n",
        "r_clf.fit(x_train_parent,y_train_parent)\n",
        "preds = r_clf.predict(x_valid_parent)\n",
        "y_valid['level_2_preds'] = preds\n"
      ],
      "metadata": {
        "id": "JTMYdzvjAX8A"
      },
      "execution_count": 89,
      "outputs": []
    },
    {
      "cell_type": "code",
      "source": [
        "fit_predict(r_clf, 'level_2', 'level_3', x_train, x_valid, y_train, y_valid, tf_idf)"
      ],
      "metadata": {
        "id": "ykMn4XUaAXt7",
        "colab": {
          "base_uri": "https://localhost:8080/"
        },
        "outputId": "0def92c8-1459-4e8d-fce6-7a793b29ff2a"
      },
      "execution_count": 90,
      "outputs": [
        {
          "output_type": "stream",
          "name": "stderr",
          "text": [
            "100%|██████████| 5/5 [00:25<00:00,  5.07s/it]\n"
          ]
        }
      ]
    },
    {
      "cell_type": "code",
      "source": [
        "fit_predict(r_clf, 'level_3', 'level_4', x_train, x_valid, y_train, y_valid, tf_idf)"
      ],
      "metadata": {
        "id": "ug6vtIYIAXf1",
        "colab": {
          "base_uri": "https://localhost:8080/"
        },
        "outputId": "d9dd4f42-f288-4c97-a1aa-948f1f4a5065"
      },
      "execution_count": 91,
      "outputs": [
        {
          "output_type": "stream",
          "name": "stderr",
          "text": [
            "100%|██████████| 50/50 [00:27<00:00,  1.79it/s]\n"
          ]
        }
      ]
    },
    {
      "cell_type": "code",
      "source": [
        "fit_predict(r_clf, 'level_4', 'level_5', x_train, x_valid, y_train, y_valid, tf_idf)"
      ],
      "metadata": {
        "id": "dnmNNPJ3AXRi",
        "colab": {
          "base_uri": "https://localhost:8080/"
        },
        "outputId": "77e18e23-883c-43d3-a97e-40659571ede4"
      },
      "execution_count": 92,
      "outputs": [
        {
          "output_type": "stream",
          "name": "stderr",
          "text": [
            "100%|██████████| 386/386 [00:53<00:00,  7.20it/s]\n"
          ]
        }
      ]
    },
    {
      "cell_type": "code",
      "source": [
        "fit_predict(r_clf, 'level_5', 'level_6', x_train, x_valid, y_train, y_valid, tf_idf)"
      ],
      "metadata": {
        "id": "8pVnEvDZAXBt",
        "colab": {
          "base_uri": "https://localhost:8080/"
        },
        "outputId": "ca368d73-89ba-472f-853d-56c1ddf3dd42"
      },
      "execution_count": 93,
      "outputs": [
        {
          "output_type": "stream",
          "name": "stderr",
          "text": [
            "100%|██████████| 981/981 [00:56<00:00, 17.29it/s]\n"
          ]
        }
      ]
    },
    {
      "cell_type": "code",
      "source": [
        "res_train(y_valid)"
      ],
      "metadata": {
        "colab": {
          "base_uri": "https://localhost:8080/",
          "height": 388
        },
        "id": "UmIf0K6t-yjo",
        "outputId": "c9f67ccc-e2c5-4aa7-82f2-1a94556a0fc2"
      },
      "execution_count": 94,
      "outputs": [
        {
          "output_type": "display_data",
          "data": {
            "text/plain": [
              "<Figure size 576x396 with 1 Axes>"
            ],
            "image/png": "[encoded data removed]"
          },
          "metadata": {}
        }
      ]
    },
    {
      "cell_type": "code",
      "source": [
        "# здесь расположим листовые категории на одном уровне для расчета F1\n",
        "y_valid.loc[y_valid.level_4_preds=='non_type','level_4_preds'] = y_valid.level_3_preds\n",
        "y_valid.loc[y_valid.level_5_preds=='non_type','level_5_preds'] = y_valid.level_4_preds\n",
        "y_valid.loc[y_valid.level_6_preds=='non_type','level_6_preds'] = y_valid.level_5_preds\n",
        "\n",
        "\n",
        "y_valid.loc[y_valid.level_4=='non_type','level_4'] = y_valid.level_3\n",
        "y_valid.loc[y_valid.level_5=='non_type','level_5'] = y_valid.level_4\n",
        "y_valid.loc[y_valid.level_6=='non_type','level_6'] = y_valid.level_5"
      ],
      "metadata": {
        "id": "_RIVlfvhAWvl"
      },
      "execution_count": 95,
      "outputs": []
    },
    {
      "cell_type": "code",
      "source": [
        "valid_rclf = y_valid.copy()"
      ],
      "metadata": {
        "id": "amulpXU6KElQ"
      },
      "execution_count": 96,
      "outputs": []
    },
    {
      "cell_type": "code",
      "source": [
        "results = results.append({'Name' : 'RidgeClassifier', 'F1' : f1_score(valid_rclf['level_6'], valid_rclf['level_6_preds'], average='weighted')}, ignore_index=True)\n",
        "results"
      ],
      "metadata": {
        "id": "4EylMrJHS2Kx",
        "colab": {
          "base_uri": "https://localhost:8080/",
          "height": 175
        },
        "outputId": "7bbffe0b-a8c5-4533-bc7e-bbd6656d0ff9"
      },
      "execution_count": 97,
      "outputs": [
        {
          "output_type": "execute_result",
          "data": {
            "text/plain": [
              "              Name        F1\n",
              "0              MNB  0.576293\n",
              "1          Log_reg  0.806613\n",
              "2        LinearSVC  0.837763\n",
              "3  RidgeClassifier  0.815001"
            ],
            "text/html": [
              "\n",
              "  <div id=\"df-43b131d6-fbcf-49a2-837d-d275cce766c1\">\n",
              "    <div class=\"colab-df-container\">\n",
              "      <div>\n",
              "<style scoped>\n",
              "    .dataframe tbody tr th:only-of-type {\n",
              "        vertical-align: middle;\n",
              "    }\n",
              "\n",
              "    .dataframe tbody tr th {\n",
              "        vertical-align: top;\n",
              "    }\n",
              "\n",
              "    .dataframe thead th {\n",
              "        text-align: right;\n",
              "    }\n",
              "</style>\n",
              "<table border=\"1\" class=\"dataframe\">\n",
              "  <thead>\n",
              "    <tr style=\"text-align: right;\">\n",
              "      <th></th>\n",
              "      <th>Name</th>\n",
              "      <th>F1</th>\n",
              "    </tr>\n",
              "  </thead>\n",
              "  <tbody>\n",
              "    <tr>\n",
              "      <th>0</th>\n",
              "      <td>MNB</td>\n",
              "      <td>0.576293</td>\n",
              "    </tr>\n",
              "    <tr>\n",
              "      <th>1</th>\n",
              "      <td>Log_reg</td>\n",
              "      <td>0.806613</td>\n",
              "    </tr>\n",
              "    <tr>\n",
              "      <th>2</th>\n",
              "      <td>LinearSVC</td>\n",
              "      <td>0.837763</td>\n",
              "    </tr>\n",
              "    <tr>\n",
              "      <th>3</th>\n",
              "      <td>RidgeClassifier</td>\n",
              "      <td>0.815001</td>\n",
              "    </tr>\n",
              "  </tbody>\n",
              "</table>\n",
              "</div>\n",
              "      <button class=\"colab-df-convert\" onclick=\"convertToInteractive('df-43b131d6-fbcf-49a2-837d-d275cce766c1')\"\n",
              "              title=\"Convert this dataframe to an interactive table.\"\n",
              "              style=\"display:none;\">\n",
              "        \n",
              "  <svg xmlns=\"http://www.w3.org/2000/svg\" height=\"24px\"viewBox=\"0 0 24 24\"\n",
              "       width=\"24px\">\n",
              "    <path d=\"M0 0h24v24H0V0z\" fill=\"none\"/>\n",
              "    <path d=\"M18.56 5.44l.94 2.06.94-2.06 2.06-.94-2.06-.94-.94-2.06-.94 2.06-2.06.94zm-11 1L8.5 8.5l.94-2.06 2.06-.94-2.06-.94L8.5 2.5l-.94 2.06-2.06.94zm10 10l.94 2.06.94-2.06 2.06-.94-2.06-.94-.94-2.06-.94 2.06-2.06.94z\"/><path d=\"M17.41 7.96l-1.37-1.37c-.4-.4-.92-.59-1.43-.59-.52 0-1.04.2-1.43.59L10.3 9.45l-7.72 7.72c-.78.78-.78 2.05 0 2.83L4 21.41c.39.39.9.59 1.41.59.51 0 1.02-.2 1.41-.59l7.78-7.78 2.81-2.81c.8-.78.8-2.07 0-2.86zM5.41 20L4 18.59l7.72-7.72 1.47 1.35L5.41 20z\"/>\n",
              "  </svg>\n",
              "      </button>\n",
              "      \n",
              "  <style>\n",
              "    .colab-df-container {\n",
              "      display:flex;\n",
              "      flex-wrap:wrap;\n",
              "      gap: 12px;\n",
              "    }\n",
              "\n",
              "    .colab-df-convert {\n",
              "      background-color: #E8F0FE;\n",
              "      border: none;\n",
              "      border-radius: 50%;\n",
              "      cursor: pointer;\n",
              "      display: none;\n",
              "      fill: #1967D2;\n",
              "      height: 32px;\n",
              "      padding: 0 0 0 0;\n",
              "      width: 32px;\n",
              "    }\n",
              "\n",
              "    .colab-df-convert:hover {\n",
              "      background-color: #E2EBFA;\n",
              "      box-shadow: 0px 1px 2px rgba(60, 64, 67, 0.3), 0px 1px 3px 1px rgba(60, 64, 67, 0.15);\n",
              "      fill: #174EA6;\n",
              "    }\n",
              "\n",
              "    [theme=dark] .colab-df-convert {\n",
              "      background-color: #3B4455;\n",
              "      fill: #D2E3FC;\n",
              "    }\n",
              "\n",
              "    [theme=dark] .colab-df-convert:hover {\n",
              "      background-color: #434B5C;\n",
              "      box-shadow: 0px 1px 3px 1px rgba(0, 0, 0, 0.15);\n",
              "      filter: drop-shadow(0px 1px 2px rgba(0, 0, 0, 0.3));\n",
              "      fill: #FFFFFF;\n",
              "    }\n",
              "  </style>\n",
              "\n",
              "      <script>\n",
              "        const buttonEl =\n",
              "          document.querySelector('#df-43b131d6-fbcf-49a2-837d-d275cce766c1 button.colab-df-convert');\n",
              "        buttonEl.style.display =\n",
              "          google.colab.kernel.accessAllowed ? 'block' : 'none';\n",
              "\n",
              "        async function convertToInteractive(key) {\n",
              "          const element = document.querySelector('#df-43b131d6-fbcf-49a2-837d-d275cce766c1');\n",
              "          const dataTable =\n",
              "            await google.colab.kernel.invokeFunction('convertToInteractive',\n",
              "                                                     [key], {});\n",
              "          if (!dataTable) return;\n",
              "\n",
              "          const docLinkHtml = 'Like what you see? Visit the ' +\n",
              "            '<a target=\"_blank\" href=https://colab.research.google.com/notebooks/data_table.ipynb>data table notebook</a>'\n",
              "            + ' to learn more about interactive tables.';\n",
              "          element.innerHTML = '';\n",
              "          dataTable['output_type'] = 'display_data';\n",
              "          await google.colab.output.renderOutput(dataTable, element);\n",
              "          const docLink = document.createElement('div');\n",
              "          docLink.innerHTML = docLinkHtml;\n",
              "          element.appendChild(docLink);\n",
              "        }\n",
              "      </script>\n",
              "    </div>\n",
              "  </div>\n",
              "  "
            ]
          },
          "metadata": {},
          "execution_count": 97
        }
      ]
    },
    {
      "cell_type": "code",
      "source": [
        "\n",
        "ax = sns.barplot(x='Name', y='F1', data=results)\n",
        "plt.title('Результат обучения моделей', pad=15, fontdict={'fontsize':15})\n",
        "plt.ylabel('F1-score на последнем листе', fontdict={'fontsize':13})\n",
        "plt.xlabel('Модель', fontdict={'fontsize':13})\n",
        "for i in ax.patches:\n",
        "  ax.text(i.get_xy()[0]+0.25, i.get_height()-0.1,\n",
        "          (i.get_height()).round(3), fontsize=12)"
      ],
      "metadata": {
        "id": "8s0eDbJ0AWOE",
        "colab": {
          "base_uri": "https://localhost:8080/",
          "height": 388
        },
        "outputId": "3eab7a83-cde1-40fd-adda-ce7d928ab504"
      },
      "execution_count": 98,
      "outputs": [
        {
          "output_type": "display_data",
          "data": {
            "text/plain": [
              "<Figure size 576x396 with 1 Axes>"
            ],
            "image/png": "[encoded data removed]"
          },
          "metadata": {}
        }
      ]
    },
    {
      "cell_type": "code",
      "source": [
        ""
      ],
      "metadata": {
        "id": "E7pjZGlITB1_"
      },
      "execution_count": 98,
      "outputs": []
    },
    {
      "cell_type": "markdown",
      "source": [
        "Кросс-валидация"
      ],
      "metadata": {
        "id": "VbN_E88iDmJC"
      }
    },
    {
      "cell_type": "code",
      "source": [
        "# from sklearn.model_selection import KFold\n",
        "\n",
        "# clf = LinearSVC(dual=False)\n",
        "\n",
        "# kf = KFold(n_splits=5, shuffle=True, random_state=12)\n",
        "# tf_idf = TfidfVectorizer()\n",
        "#     # ngram_range=(1,2)\n",
        "# f_scores = []\n",
        "# for train_idx, val_idx in kf.split(train):\n",
        "#     # векторизация\n",
        "\n",
        "#     x_train = train.iloc[train_idx]['title_all']\n",
        "#     x_valid = train.iloc[val_idx]['title_all']\n",
        "\n",
        "#     y_train = train.iloc[train_idx]\n",
        "#     y_valid = train.iloc[val_idx]\n",
        "\n",
        "#     x_train_1 = tf_idf.fit_transform(x_train)\n",
        "#     x_valid_1 = tf_idf.transform(x_valid)\n",
        "\n",
        "    \n",
        "\n",
        "#     clf.fit(x_train_1,y_train['level_2'])\n",
        "#     preds = clf.predict(x_valid_1)\n",
        "#     y_valid['level_2_preds'] = preds\n",
        "\n",
        "#     fit_predict(clf, 'level_2', 'level_3', x_train, x_valid, y_train, y_valid, tf_idf)\n",
        "#     fit_predict(clf, 'level_3', 'level_4', x_train, x_valid, y_train, y_valid, tf_idf)\n",
        "#     fit_predict(clf, 'level_4', 'level_5', x_train, x_valid, y_train, y_valid, tf_idf)\n",
        "#     fit_predict(clf, 'level_5', 'level_6', x_train, x_valid, y_train, y_valid, tf_idf)\n",
        "\n",
        "#     y_valid.loc[y_valid.level_4_preds=='non_type','level_4_preds'] = y_valid.level_3_preds\n",
        "#     y_valid.loc[y_valid.level_5_preds=='non_type','level_5_preds'] = y_valid.level_4_preds\n",
        "#     y_valid.loc[y_valid.level_6_preds=='non_type','level_6_preds'] = y_valid.level_5_preds\n",
        "\n",
        "\n",
        "#     y_valid.loc[y_valid.level_4=='non_type','level_4'] = y_valid.level_3\n",
        "#     y_valid.loc[y_valid.level_5=='non_type','level_5'] = y_valid.level_4\n",
        "#     y_valid.loc[y_valid.level_6=='non_type','level_6'] = y_valid.level_5\n",
        "    \n",
        "    \n",
        "    \n",
        "    \n",
        "#     f1 = f1_score(y_valid['level_6'], y_valid['level_6_preds'], average='weighted')\n",
        "\n",
        "\n",
        "\n",
        "\n",
        "\n",
        "#     f_scores.append(f1)\n",
        "\n",
        "# f_scores"
      ],
      "metadata": {
        "id": "oM03jJrMTBxW"
      },
      "execution_count": 99,
      "outputs": []
    },
    {
      "cell_type": "code",
      "source": [
        ""
      ],
      "metadata": {
        "id": "4BfObYe9rAet"
      },
      "execution_count": 99,
      "outputs": []
    },
    {
      "cell_type": "markdown",
      "source": [
        "## **DecisionTreeClassifier**"
      ],
      "metadata": {
        "id": "J6YIyyGfk-Vm"
      }
    },
    {
      "cell_type": "code",
      "source": [
        "tree_clf = DecisionTreeClassifier(random_state=0)"
      ],
      "metadata": {
        "id": "58TzOeZdso-I"
      },
      "execution_count": 100,
      "outputs": []
    },
    {
      "cell_type": "code",
      "source": [
        "x_train, x_valid, y_train, y_valid = train_valid_split(train)"
      ],
      "metadata": {
        "id": "CDfoWZpgtCSe"
      },
      "execution_count": 101,
      "outputs": []
    },
    {
      "cell_type": "code",
      "source": [
        "y_train_parent = y_train['level_2']\n",
        "x_train_parent = tf_idf.transform(x_train)\n",
        "y_valid_parent = y_valid['level_2']\n",
        "x_valid_parent = tf_idf.transform(x_valid)\n",
        "\n",
        "tree_clf.fit(x_train_parent,y_train_parent)\n",
        "preds = tree_clf.predict(x_valid_parent)\n",
        "y_valid['level_2_preds'] = preds"
      ],
      "metadata": {
        "id": "i7bv8PaKsou4"
      },
      "execution_count": 102,
      "outputs": []
    },
    {
      "cell_type": "code",
      "source": [
        "fit_predict(tree_clf, 'level_2', 'level_3', x_train, x_valid, y_train, y_valid, tf_idf)"
      ],
      "metadata": {
        "id": "PbFblUVYsocR",
        "colab": {
          "base_uri": "https://localhost:8080/"
        },
        "outputId": "a01cbc71-17e8-4fe8-e1a5-e3ffbddba82d"
      },
      "execution_count": 103,
      "outputs": [
        {
          "output_type": "stream",
          "name": "stderr",
          "text": [
            "100%|██████████| 5/5 [00:50<00:00, 10.03s/it]\n"
          ]
        }
      ]
    },
    {
      "cell_type": "code",
      "source": [
        "fit_predict(tree_clf, 'level_3', 'level_4', x_train, x_valid, y_train, y_valid, tf_idf)"
      ],
      "metadata": {
        "id": "u9BaZ6S-soN6",
        "colab": {
          "base_uri": "https://localhost:8080/"
        },
        "outputId": "b8f2902d-21bd-4da7-8d80-6c5ea89cb2ef"
      },
      "execution_count": 104,
      "outputs": [
        {
          "output_type": "stream",
          "name": "stderr",
          "text": [
            "100%|██████████| 50/50 [00:31<00:00,  1.59it/s]\n"
          ]
        }
      ]
    },
    {
      "cell_type": "code",
      "source": [
        "fit_predict(tree_clf, 'level_4', 'level_5', x_train, x_valid, y_train, y_valid, tf_idf)"
      ],
      "metadata": {
        "id": "Qq8PCFo8soB_",
        "colab": {
          "base_uri": "https://localhost:8080/"
        },
        "outputId": "c26e9524-fd95-4cba-91ca-56ef95f20b4a"
      },
      "execution_count": 105,
      "outputs": [
        {
          "output_type": "stream",
          "name": "stderr",
          "text": [
            "100%|██████████| 386/386 [00:39<00:00,  9.77it/s]\n"
          ]
        }
      ]
    },
    {
      "cell_type": "code",
      "source": [
        "fit_predict(tree_clf, 'level_5', 'level_6', x_train, x_valid, y_train, y_valid, tf_idf)"
      ],
      "metadata": {
        "id": "gpGL8iegsnys",
        "colab": {
          "base_uri": "https://localhost:8080/"
        },
        "outputId": "956aaf30-8b59-41c8-dfb1-8c38a5bcaa15"
      },
      "execution_count": 106,
      "outputs": [
        {
          "output_type": "stream",
          "name": "stderr",
          "text": [
            "100%|██████████| 981/981 [00:52<00:00, 18.64it/s]\n"
          ]
        }
      ]
    },
    {
      "cell_type": "code",
      "source": [
        "res_train(y_valid)"
      ],
      "metadata": {
        "colab": {
          "base_uri": "https://localhost:8080/",
          "height": 388
        },
        "id": "38jgI1VS-12E",
        "outputId": "76dd7ec3-36f8-4ec1-bf7a-cb2b0e23fa4a"
      },
      "execution_count": 107,
      "outputs": [
        {
          "output_type": "display_data",
          "data": {
            "text/plain": [
              "<Figure size 576x396 with 1 Axes>"
            ],
            "image/png": "[encoded data removed]"
          },
          "metadata": {}
        }
      ]
    },
    {
      "cell_type": "code",
      "source": [
        "y_valid.loc[y_valid.level_4_preds=='non_type','level_4_preds'] = y_valid.level_3_preds\n",
        "y_valid.loc[y_valid.level_5_preds=='non_type','level_5_preds'] = y_valid.level_4_preds\n",
        "y_valid.loc[y_valid.level_6_preds=='non_type','level_6_preds'] = y_valid.level_5_preds\n",
        "\n",
        "y_valid.loc[y_valid.level_4=='non_type','level_4'] = y_valid.level_3\n",
        "y_valid.loc[y_valid.level_5=='non_type','level_5'] = y_valid.level_4\n",
        "y_valid.loc[y_valid.level_6=='non_type','level_6'] = y_valid.level_5"
      ],
      "metadata": {
        "id": "J5gJjZsDuxQr"
      },
      "execution_count": 108,
      "outputs": []
    },
    {
      "cell_type": "code",
      "source": [
        "valid_dt = y_valid.copy()"
      ],
      "metadata": {
        "id": "6ySV-Tc2ut8b"
      },
      "execution_count": 109,
      "outputs": []
    },
    {
      "cell_type": "code",
      "source": [
        "results = results.append({'Name' : 'DecisionTreeClassifier', 'F1' : f1_score(valid_dt['level_6'], valid_dt['level_6_preds'], average='weighted')}, ignore_index=True)\n",
        "results"
      ],
      "metadata": {
        "id": "Gknwuv5fTvfw",
        "colab": {
          "base_uri": "https://localhost:8080/",
          "height": 206
        },
        "outputId": "c4609da7-ddbe-429d-e3d5-8a18e735bc52"
      },
      "execution_count": 110,
      "outputs": [
        {
          "output_type": "execute_result",
          "data": {
            "text/plain": [
              "                     Name        F1\n",
              "0                     MNB  0.576293\n",
              "1                 Log_reg  0.806613\n",
              "2               LinearSVC  0.837763\n",
              "3         RidgeClassifier  0.815001\n",
              "4  DecisionTreeClassifier  0.789956"
            ],
            "text/html": [
              "\n",
              "  <div id=\"df-3aa67429-ba45-4318-b91b-39d1b2b55dae\">\n",
              "    <div class=\"colab-df-container\">\n",
              "      <div>\n",
              "<style scoped>\n",
              "    .dataframe tbody tr th:only-of-type {\n",
              "        vertical-align: middle;\n",
              "    }\n",
              "\n",
              "    .dataframe tbody tr th {\n",
              "        vertical-align: top;\n",
              "    }\n",
              "\n",
              "    .dataframe thead th {\n",
              "        text-align: right;\n",
              "    }\n",
              "</style>\n",
              "<table border=\"1\" class=\"dataframe\">\n",
              "  <thead>\n",
              "    <tr style=\"text-align: right;\">\n",
              "      <th></th>\n",
              "      <th>Name</th>\n",
              "      <th>F1</th>\n",
              "    </tr>\n",
              "  </thead>\n",
              "  <tbody>\n",
              "    <tr>\n",
              "      <th>0</th>\n",
              "      <td>MNB</td>\n",
              "      <td>0.576293</td>\n",
              "    </tr>\n",
              "    <tr>\n",
              "      <th>1</th>\n",
              "      <td>Log_reg</td>\n",
              "      <td>0.806613</td>\n",
              "    </tr>\n",
              "    <tr>\n",
              "      <th>2</th>\n",
              "      <td>LinearSVC</td>\n",
              "      <td>0.837763</td>\n",
              "    </tr>\n",
              "    <tr>\n",
              "      <th>3</th>\n",
              "      <td>RidgeClassifier</td>\n",
              "      <td>0.815001</td>\n",
              "    </tr>\n",
              "    <tr>\n",
              "      <th>4</th>\n",
              "      <td>DecisionTreeClassifier</td>\n",
              "      <td>0.789956</td>\n",
              "    </tr>\n",
              "  </tbody>\n",
              "</table>\n",
              "</div>\n",
              "      <button class=\"colab-df-convert\" onclick=\"convertToInteractive('df-3aa67429-ba45-4318-b91b-39d1b2b55dae')\"\n",
              "              title=\"Convert this dataframe to an interactive table.\"\n",
              "              style=\"display:none;\">\n",
              "        \n",
              "  <svg xmlns=\"http://www.w3.org/2000/svg\" height=\"24px\"viewBox=\"0 0 24 24\"\n",
              "       width=\"24px\">\n",
              "    <path d=\"M0 0h24v24H0V0z\" fill=\"none\"/>\n",
              "    <path d=\"M18.56 5.44l.94 2.06.94-2.06 2.06-.94-2.06-.94-.94-2.06-.94 2.06-2.06.94zm-11 1L8.5 8.5l.94-2.06 2.06-.94-2.06-.94L8.5 2.5l-.94 2.06-2.06.94zm10 10l.94 2.06.94-2.06 2.06-.94-2.06-.94-.94-2.06-.94 2.06-2.06.94z\"/><path d=\"M17.41 7.96l-1.37-1.37c-.4-.4-.92-.59-1.43-.59-.52 0-1.04.2-1.43.59L10.3 9.45l-7.72 7.72c-.78.78-.78 2.05 0 2.83L4 21.41c.39.39.9.59 1.41.59.51 0 1.02-.2 1.41-.59l7.78-7.78 2.81-2.81c.8-.78.8-2.07 0-2.86zM5.41 20L4 18.59l7.72-7.72 1.47 1.35L5.41 20z\"/>\n",
              "  </svg>\n",
              "      </button>\n",
              "      \n",
              "  <style>\n",
              "    .colab-df-container {\n",
              "      display:flex;\n",
              "      flex-wrap:wrap;\n",
              "      gap: 12px;\n",
              "    }\n",
              "\n",
              "    .colab-df-convert {\n",
              "      background-color: #E8F0FE;\n",
              "      border: none;\n",
              "      border-radius: 50%;\n",
              "      cursor: pointer;\n",
              "      display: none;\n",
              "      fill: #1967D2;\n",
              "      height: 32px;\n",
              "      padding: 0 0 0 0;\n",
              "      width: 32px;\n",
              "    }\n",
              "\n",
              "    .colab-df-convert:hover {\n",
              "      background-color: #E2EBFA;\n",
              "      box-shadow: 0px 1px 2px rgba(60, 64, 67, 0.3), 0px 1px 3px 1px rgba(60, 64, 67, 0.15);\n",
              "      fill: #174EA6;\n",
              "    }\n",
              "\n",
              "    [theme=dark] .colab-df-convert {\n",
              "      background-color: #3B4455;\n",
              "      fill: #D2E3FC;\n",
              "    }\n",
              "\n",
              "    [theme=dark] .colab-df-convert:hover {\n",
              "      background-color: #434B5C;\n",
              "      box-shadow: 0px 1px 3px 1px rgba(0, 0, 0, 0.15);\n",
              "      filter: drop-shadow(0px 1px 2px rgba(0, 0, 0, 0.3));\n",
              "      fill: #FFFFFF;\n",
              "    }\n",
              "  </style>\n",
              "\n",
              "      <script>\n",
              "        const buttonEl =\n",
              "          document.querySelector('#df-3aa67429-ba45-4318-b91b-39d1b2b55dae button.colab-df-convert');\n",
              "        buttonEl.style.display =\n",
              "          google.colab.kernel.accessAllowed ? 'block' : 'none';\n",
              "\n",
              "        async function convertToInteractive(key) {\n",
              "          const element = document.querySelector('#df-3aa67429-ba45-4318-b91b-39d1b2b55dae');\n",
              "          const dataTable =\n",
              "            await google.colab.kernel.invokeFunction('convertToInteractive',\n",
              "                                                     [key], {});\n",
              "          if (!dataTable) return;\n",
              "\n",
              "          const docLinkHtml = 'Like what you see? Visit the ' +\n",
              "            '<a target=\"_blank\" href=https://colab.research.google.com/notebooks/data_table.ipynb>data table notebook</a>'\n",
              "            + ' to learn more about interactive tables.';\n",
              "          element.innerHTML = '';\n",
              "          dataTable['output_type'] = 'display_data';\n",
              "          await google.colab.output.renderOutput(dataTable, element);\n",
              "          const docLink = document.createElement('div');\n",
              "          docLink.innerHTML = docLinkHtml;\n",
              "          element.appendChild(docLink);\n",
              "        }\n",
              "      </script>\n",
              "    </div>\n",
              "  </div>\n",
              "  "
            ]
          },
          "metadata": {},
          "execution_count": 110
        }
      ]
    },
    {
      "cell_type": "code",
      "source": [
        "ax = sns.barplot(x='Name', y='F1', data=results)\n",
        "plt.title('Результат обучения моделей', pad=15, fontdict={'fontsize':15})\n",
        "plt.ylabel('F1-score на последнем листе', fontdict={'fontsize':13})\n",
        "plt.xlabel('Модель', fontdict={'fontsize':13})\n",
        "for i in ax.patches:\n",
        "  ax.text(i.get_xy()[0]+0.25, i.get_height()-0.1,\n",
        "          (i.get_height()).round(3), fontsize=12)"
      ],
      "metadata": {
        "id": "OecfKUk9Tvte",
        "colab": {
          "base_uri": "https://localhost:8080/",
          "height": 388
        },
        "outputId": "41e29cea-1624-4017-b849-49724d325100"
      },
      "execution_count": 111,
      "outputs": [
        {
          "output_type": "display_data",
          "data": {
            "text/plain": [
              "<Figure size 576x396 with 1 Axes>"
            ],
            "image/png": "[encoded data removed]"
          },
          "metadata": {}
        }
      ]
    },
    {
      "cell_type": "code",
      "source": [
        ""
      ],
      "metadata": {
        "id": "LfROF8ZBt2OG"
      },
      "execution_count": 111,
      "outputs": []
    },
    {
      "cell_type": "markdown",
      "source": [
        "## **Подберем ngram_range**\n",
        "\n",
        "Лучший результат показала модель LinearSVC, для нее и подберем ngram_range"
      ],
      "metadata": {
        "id": "Y6OtR7CrmHjb"
      }
    },
    {
      "cell_type": "code",
      "source": [
        "tf_idf = TfidfVectorizer(ngram_range=(1,2))\n",
        "tf_idf.fit(x_train)\n"
      ],
      "metadata": {
        "colab": {
          "base_uri": "https://localhost:8080/"
        },
        "id": "D8ONCGOao1gu",
        "outputId": "0cc44434-598f-4971-8673-4f35cdfb2b20"
      },
      "execution_count": 112,
      "outputs": [
        {
          "output_type": "execute_result",
          "data": {
            "text/plain": [
              "TfidfVectorizer(ngram_range=(1, 2))"
            ]
          },
          "metadata": {},
          "execution_count": 112
        }
      ]
    },
    {
      "cell_type": "code",
      "source": [
        "x_train, x_valid, y_train, y_valid = train_valid_split(train)"
      ],
      "metadata": {
        "id": "D4t5ZyKCpm_w"
      },
      "execution_count": 113,
      "outputs": []
    },
    {
      "cell_type": "code",
      "source": [
        "clf = LinearSVC()\n",
        "\n",
        "\n",
        "y_train_parent = y_train['level_2']\n",
        "x_train_parent = tf_idf.transform(x_train)\n",
        "y_valid_parent = y_valid['level_2']\n",
        "x_valid_parent = tf_idf.transform(x_valid)\n",
        "\n",
        "clf.fit(x_train_parent,y_train_parent)\n",
        "preds = clf.predict(x_valid_parent)\n",
        "y_valid['level_2_preds'] = preds"
      ],
      "metadata": {
        "id": "3VEZH4JRt19i"
      },
      "execution_count": 114,
      "outputs": []
    },
    {
      "cell_type": "code",
      "source": [
        "fit_predict(clf, 'level_2', 'level_3', x_train, x_valid, y_train, y_valid, tf_idf)"
      ],
      "metadata": {
        "colab": {
          "base_uri": "https://localhost:8080/"
        },
        "id": "6aYfnVOGmGGE",
        "outputId": "6a7cea84-d310-421e-e742-b2100c1510c7"
      },
      "execution_count": 115,
      "outputs": [
        {
          "output_type": "stream",
          "name": "stderr",
          "text": [
            "100%|██████████| 5/5 [00:14<00:00,  2.90s/it]\n"
          ]
        }
      ]
    },
    {
      "cell_type": "code",
      "source": [
        "fit_predict(clf, 'level_3', 'level_4', x_train, x_valid, y_train, y_valid, tf_idf)"
      ],
      "metadata": {
        "colab": {
          "base_uri": "https://localhost:8080/"
        },
        "id": "mfHbLihcmGKe",
        "outputId": "9bc13be9-bb54-478d-82f5-757410e8c15a"
      },
      "execution_count": 116,
      "outputs": [
        {
          "output_type": "stream",
          "name": "stderr",
          "text": [
            "100%|██████████| 50/50 [00:20<00:00,  2.48it/s]\n"
          ]
        }
      ]
    },
    {
      "cell_type": "code",
      "source": [
        "fit_predict(clf, 'level_4', 'level_5', x_train, x_valid, y_train, y_valid, tf_idf)"
      ],
      "metadata": {
        "colab": {
          "base_uri": "https://localhost:8080/"
        },
        "id": "jiGQUVapmGON",
        "outputId": "a98e3d38-8628-4aac-8873-0f845d86d462"
      },
      "execution_count": 117,
      "outputs": [
        {
          "output_type": "stream",
          "name": "stderr",
          "text": [
            "100%|██████████| 386/386 [00:44<00:00,  8.67it/s]\n"
          ]
        }
      ]
    },
    {
      "cell_type": "code",
      "source": [
        "fit_predict(clf, 'level_5', 'level_6', x_train, x_valid, y_train, y_valid, tf_idf)"
      ],
      "metadata": {
        "colab": {
          "base_uri": "https://localhost:8080/"
        },
        "id": "hHmVqAUvmGSS",
        "outputId": "39f2cdfc-5921-43c2-8a4d-3c7ad5ecf721"
      },
      "execution_count": 118,
      "outputs": [
        {
          "output_type": "stream",
          "name": "stderr",
          "text": [
            "100%|██████████| 981/981 [01:08<00:00, 14.27it/s]\n"
          ]
        }
      ]
    },
    {
      "cell_type": "code",
      "source": [
        "res_train(y_valid)"
      ],
      "metadata": {
        "colab": {
          "base_uri": "https://localhost:8080/",
          "height": 388
        },
        "id": "eGaJJt6MmGVo",
        "outputId": "f0698ddd-8a8f-4cd5-97c2-4a39c8aa8961"
      },
      "execution_count": 119,
      "outputs": [
        {
          "output_type": "display_data",
          "data": {
            "text/plain": [
              "<Figure size 576x396 with 1 Axes>"
            ],
            "image/png": "[encoded data removed]"
          },
          "metadata": {}
        }
      ]
    },
    {
      "cell_type": "code",
      "source": [
        "valid_lsvc = y_valid.copy()"
      ],
      "metadata": {
        "id": "XqqPMJuSEluN"
      },
      "execution_count": 120,
      "outputs": []
    },
    {
      "cell_type": "code",
      "source": [
        "y_valid.loc[y_valid.level_4_preds=='non_type','level_4_preds'] = y_valid.level_3_preds\n",
        "y_valid.loc[y_valid.level_5_preds=='non_type','level_5_preds'] = y_valid.level_4_preds\n",
        "y_valid.loc[y_valid.level_6_preds=='non_type','level_6_preds'] = y_valid.level_5_preds\n",
        "\n",
        "y_valid.loc[y_valid.level_4=='non_type','level_4'] = y_valid.level_3\n",
        "y_valid.loc[y_valid.level_5=='non_type','level_5'] = y_valid.level_4\n",
        "y_valid.loc[y_valid.level_6=='non_type','level_6'] = y_valid.level_5"
      ],
      "metadata": {
        "id": "PVGH36gmpvQq"
      },
      "execution_count": 121,
      "outputs": []
    },
    {
      "cell_type": "code",
      "source": [
        "results = results.append({'Name' : 'LinearSVC_ngram_1_2', 'F1' : f1_score(y_valid['level_6'], y_valid['level_6_preds'], average='weighted')}, ignore_index=True)\n",
        "results"
      ],
      "metadata": {
        "colab": {
          "base_uri": "https://localhost:8080/",
          "height": 237
        },
        "id": "WEESliLYpvXi",
        "outputId": "7ddf14a7-9004-4504-cf2a-4547da768b91"
      },
      "execution_count": 122,
      "outputs": [
        {
          "output_type": "execute_result",
          "data": {
            "text/plain": [
              "                     Name        F1\n",
              "0                     MNB  0.576293\n",
              "1                 Log_reg  0.806613\n",
              "2               LinearSVC  0.837763\n",
              "3         RidgeClassifier  0.815001\n",
              "4  DecisionTreeClassifier  0.789956\n",
              "5     LinearSVC_ngram_1_2  0.852554"
            ],
            "text/html": [
              "\n",
              "  <div id=\"df-4bda3095-af7a-402d-ab8e-5ced8d5bbebc\">\n",
              "    <div class=\"colab-df-container\">\n",
              "      <div>\n",
              "<style scoped>\n",
              "    .dataframe tbody tr th:only-of-type {\n",
              "        vertical-align: middle;\n",
              "    }\n",
              "\n",
              "    .dataframe tbody tr th {\n",
              "        vertical-align: top;\n",
              "    }\n",
              "\n",
              "    .dataframe thead th {\n",
              "        text-align: right;\n",
              "    }\n",
              "</style>\n",
              "<table border=\"1\" class=\"dataframe\">\n",
              "  <thead>\n",
              "    <tr style=\"text-align: right;\">\n",
              "      <th></th>\n",
              "      <th>Name</th>\n",
              "      <th>F1</th>\n",
              "    </tr>\n",
              "  </thead>\n",
              "  <tbody>\n",
              "    <tr>\n",
              "      <th>0</th>\n",
              "      <td>MNB</td>\n",
              "      <td>0.576293</td>\n",
              "    </tr>\n",
              "    <tr>\n",
              "      <th>1</th>\n",
              "      <td>Log_reg</td>\n",
              "      <td>0.806613</td>\n",
              "    </tr>\n",
              "    <tr>\n",
              "      <th>2</th>\n",
              "      <td>LinearSVC</td>\n",
              "      <td>0.837763</td>\n",
              "    </tr>\n",
              "    <tr>\n",
              "      <th>3</th>\n",
              "      <td>RidgeClassifier</td>\n",
              "      <td>0.815001</td>\n",
              "    </tr>\n",
              "    <tr>\n",
              "      <th>4</th>\n",
              "      <td>DecisionTreeClassifier</td>\n",
              "      <td>0.789956</td>\n",
              "    </tr>\n",
              "    <tr>\n",
              "      <th>5</th>\n",
              "      <td>LinearSVC_ngram_1_2</td>\n",
              "      <td>0.852554</td>\n",
              "    </tr>\n",
              "  </tbody>\n",
              "</table>\n",
              "</div>\n",
              "      <button class=\"colab-df-convert\" onclick=\"convertToInteractive('df-4bda3095-af7a-402d-ab8e-5ced8d5bbebc')\"\n",
              "              title=\"Convert this dataframe to an interactive table.\"\n",
              "              style=\"display:none;\">\n",
              "        \n",
              "  <svg xmlns=\"http://www.w3.org/2000/svg\" height=\"24px\"viewBox=\"0 0 24 24\"\n",
              "       width=\"24px\">\n",
              "    <path d=\"M0 0h24v24H0V0z\" fill=\"none\"/>\n",
              "    <path d=\"M18.56 5.44l.94 2.06.94-2.06 2.06-.94-2.06-.94-.94-2.06-.94 2.06-2.06.94zm-11 1L8.5 8.5l.94-2.06 2.06-.94-2.06-.94L8.5 2.5l-.94 2.06-2.06.94zm10 10l.94 2.06.94-2.06 2.06-.94-2.06-.94-.94-2.06-.94 2.06-2.06.94z\"/><path d=\"M17.41 7.96l-1.37-1.37c-.4-.4-.92-.59-1.43-.59-.52 0-1.04.2-1.43.59L10.3 9.45l-7.72 7.72c-.78.78-.78 2.05 0 2.83L4 21.41c.39.39.9.59 1.41.59.51 0 1.02-.2 1.41-.59l7.78-7.78 2.81-2.81c.8-.78.8-2.07 0-2.86zM5.41 20L4 18.59l7.72-7.72 1.47 1.35L5.41 20z\"/>\n",
              "  </svg>\n",
              "      </button>\n",
              "      \n",
              "  <style>\n",
              "    .colab-df-container {\n",
              "      display:flex;\n",
              "      flex-wrap:wrap;\n",
              "      gap: 12px;\n",
              "    }\n",
              "\n",
              "    .colab-df-convert {\n",
              "      background-color: #E8F0FE;\n",
              "      border: none;\n",
              "      border-radius: 50%;\n",
              "      cursor: pointer;\n",
              "      display: none;\n",
              "      fill: #1967D2;\n",
              "      height: 32px;\n",
              "      padding: 0 0 0 0;\n",
              "      width: 32px;\n",
              "    }\n",
              "\n",
              "    .colab-df-convert:hover {\n",
              "      background-color: #E2EBFA;\n",
              "      box-shadow: 0px 1px 2px rgba(60, 64, 67, 0.3), 0px 1px 3px 1px rgba(60, 64, 67, 0.15);\n",
              "      fill: #174EA6;\n",
              "    }\n",
              "\n",
              "    [theme=dark] .colab-df-convert {\n",
              "      background-color: #3B4455;\n",
              "      fill: #D2E3FC;\n",
              "    }\n",
              "\n",
              "    [theme=dark] .colab-df-convert:hover {\n",
              "      background-color: #434B5C;\n",
              "      box-shadow: 0px 1px 3px 1px rgba(0, 0, 0, 0.15);\n",
              "      filter: drop-shadow(0px 1px 2px rgba(0, 0, 0, 0.3));\n",
              "      fill: #FFFFFF;\n",
              "    }\n",
              "  </style>\n",
              "\n",
              "      <script>\n",
              "        const buttonEl =\n",
              "          document.querySelector('#df-4bda3095-af7a-402d-ab8e-5ced8d5bbebc button.colab-df-convert');\n",
              "        buttonEl.style.display =\n",
              "          google.colab.kernel.accessAllowed ? 'block' : 'none';\n",
              "\n",
              "        async function convertToInteractive(key) {\n",
              "          const element = document.querySelector('#df-4bda3095-af7a-402d-ab8e-5ced8d5bbebc');\n",
              "          const dataTable =\n",
              "            await google.colab.kernel.invokeFunction('convertToInteractive',\n",
              "                                                     [key], {});\n",
              "          if (!dataTable) return;\n",
              "\n",
              "          const docLinkHtml = 'Like what you see? Visit the ' +\n",
              "            '<a target=\"_blank\" href=https://colab.research.google.com/notebooks/data_table.ipynb>data table notebook</a>'\n",
              "            + ' to learn more about interactive tables.';\n",
              "          element.innerHTML = '';\n",
              "          dataTable['output_type'] = 'display_data';\n",
              "          await google.colab.output.renderOutput(dataTable, element);\n",
              "          const docLink = document.createElement('div');\n",
              "          docLink.innerHTML = docLinkHtml;\n",
              "          element.appendChild(docLink);\n",
              "        }\n",
              "      </script>\n",
              "    </div>\n",
              "  </div>\n",
              "  "
            ]
          },
          "metadata": {},
          "execution_count": 122
        }
      ]
    },
    {
      "cell_type": "code",
      "source": [
        "ax = sns.barplot(x='Name', y='F1', data=results)\n",
        "plt.title('Результат обучения моделей', pad=15, fontdict={'fontsize':15})\n",
        "plt.ylabel('F1-score на последнем листе', fontdict={'fontsize':13})\n",
        "plt.xlabel('Модель', fontdict={'fontsize':13})\n",
        "ax.set_xticklabels(ax.get_xticklabels(),rotation = 30)\n",
        "for i in ax.patches:\n",
        "  ax.text(i.get_xy()[0]+0.25, i.get_height()-0.1,\n",
        "          (i.get_height()).round(3), fontsize=12)"
      ],
      "metadata": {
        "colab": {
          "base_uri": "https://localhost:8080/",
          "height": 440
        },
        "id": "2nBg2QFDpvcD",
        "outputId": "db3fe7d4-025c-40fe-a2e7-d52f09bddd34"
      },
      "execution_count": 123,
      "outputs": [
        {
          "output_type": "display_data",
          "data": {
            "text/plain": [
              "<Figure size 576x396 with 1 Axes>"
            ],
            "image/png": "[encoded data removed]"
          },
          "metadata": {}
        }
      ]
    },
    {
      "cell_type": "markdown",
      "source": [
        "### **Вывод**\n",
        "Лучший результат при ngram_range=(1,2)"
      ],
      "metadata": {
        "id": "yv0GkskoESMG"
      }
    },
    {
      "cell_type": "markdown",
      "source": [
        "## **Расчет hF**\n",
        "Здесь рассчитаем иерархический F1. Рассчитаем три версии:\n",
        " - невзвешенный;\n",
        " - взвешенный на этапе расчета F1;\n",
        " - взвешенный на этапе расчета precision-recall."
      ],
      "metadata": {
        "id": "9MHjpCb3UpJX"
      }
    },
    {
      "cell_type": "code",
      "source": [
        "\n",
        "# функция возвращает списки значений для расчета hF\n",
        "def hierarchical_f1(id, y_valid):\n",
        "\n",
        "  list_cols = ['level_2', 'level_3', 'level_4', 'level_5', 'level_6']\n",
        "  for i in list_cols:\n",
        "    if y_valid[i].isin([id]).any():\n",
        "      n = list_cols.index(i) + 1\n",
        "      break\n",
        "\n",
        "  list_cols_preds = [f'{x}_preds' for x in list_cols[:n]]\n",
        "  true_path = y_valid[y_valid[f'level_{n+1}']==id].iloc[0][:n].to_list()\n",
        "\n",
        "\n",
        "  t = (y_valid[list_cols[:n]]==true_path).sum(axis=1).sum()\n",
        "  p = (y_valid[list_cols_preds[:n]]==true_path).sum(axis=1).sum()\n",
        "\n",
        "  a = (y_valid[list_cols[:n]]==true_path)\n",
        "  b = (y_valid[list_cols_preds[:n]]==true_path)\n",
        "  pxt = ((np.array(a)==True) & (np.array(b)==True)).sum(axis=1).sum()\n",
        "  count_id = y_valid[f'level_{n+1}'].value_counts()[id]\n",
        " \n",
        "  return p, t, pxt, count_id"
      ],
      "metadata": {
        "id": "Nc4PLQkae9uT"
      },
      "execution_count": 124,
      "outputs": []
    },
    {
      "cell_type": "code",
      "source": [
        "%%time\n",
        "list_p = []\n",
        "list_t = []\n",
        "list_pxt = []\n",
        "list_count = []\n",
        "for i in y_valid['level_6'].unique():\n",
        "    p,t, pxt, count_id = hierarchical_f1(i, valid_lsvc)\n",
        "    list_p.append(p)\n",
        "    list_t.append(t)\n",
        "    list_pxt.append(pxt)\n",
        "    list_count.append(count_id)\n"
      ],
      "metadata": {
        "id": "hwYJqOZyT0GJ",
        "colab": {
          "base_uri": "https://localhost:8080/"
        },
        "outputId": "b48b3a5b-ff61-4136-f9ee-f00123c8fe98"
      },
      "execution_count": 125,
      "outputs": [
        {
          "output_type": "stream",
          "name": "stdout",
          "text": [
            "CPU times: user 5min 34s, sys: 2.08 s, total: 5min 36s\n",
            "Wall time: 5min 35s\n"
          ]
        }
      ]
    },
    {
      "cell_type": "code",
      "source": [
        "f1_res = pd.DataFrame(columns=['Name', 'Value'])"
      ],
      "metadata": {
        "id": "fik2ZMEJt6Y_"
      },
      "execution_count": 126,
      "outputs": []
    },
    {
      "cell_type": "code",
      "source": [
        "# невзвешенный F1\n",
        "hpxt = sum(list_pxt)\n",
        "hp = sum(list_p)\n",
        "ht = sum(list_t)\n",
        "\n",
        "hP = hpxt/hp\n",
        "hR = hpxt/ht\n",
        "\n",
        "hF = 2*hR*hP/(hR+hP)\n",
        "\n",
        "f1_res = f1_res.append({'Name' : 'hF невзвешенный', 'Value' : hF}, ignore_index=True)\n"
      ],
      "metadata": {
        "id": "SI8d8qExbUrX"
      },
      "execution_count": 127,
      "outputs": []
    },
    {
      "cell_type": "code",
      "source": [
        "# взвешенный на этапе расчета F1\n",
        "\n",
        "sum_f1 = []\n",
        "for i, val in enumerate(list_pxt):\n",
        "  pp = val/list_p[i]\n",
        "  rr = val/list_t[i]\n",
        "\n",
        "  ff = list_count[i]*2*pp*rr/(pp+rr)\n",
        "\n",
        "  sum_f1.append(ff)\n",
        "\n",
        "hF = sum(sum_f1)/sum(list_count)\n",
        "f1_res = f1_res.append({'Name' : 'hF взвешенный (F1)', 'Value' : hF}, ignore_index=True)"
      ],
      "metadata": {
        "id": "5XFbyOqWgk5V"
      },
      "execution_count": 128,
      "outputs": []
    },
    {
      "cell_type": "code",
      "source": [
        "# взвешенный на этапе расчета precision-recall\n",
        "\n",
        "sum_pp = []\n",
        "sum_rr = []\n",
        "for i, val in enumerate(list_pxt):\n",
        "  pp = list_count[i]*val/list_p[i]\n",
        "  rr = list_count[i]*val/list_t[i]\n",
        "  sum_pp.append(pp)\n",
        "  sum_rr.append(rr)\n",
        "\n",
        "pp = sum(sum_pp)/sum(list_count)\n",
        "rr = sum(sum_rr)/sum(list_count)\n",
        "hF = 2*pp*rr/(pp+rr)\n",
        "\n",
        "\n",
        "f1_res = f1_res.append({'Name' : 'hF взвешенный (precision-recall)', 'Value' : hF}, ignore_index=True)"
      ],
      "metadata": {
        "id": "l6vxHWP4mlfi"
      },
      "execution_count": 129,
      "outputs": []
    },
    {
      "cell_type": "code",
      "source": [
        "f1_res"
      ],
      "metadata": {
        "colab": {
          "base_uri": "https://localhost:8080/",
          "height": 143
        },
        "id": "3FXwS3dmNkmU",
        "outputId": "4b27e91f-e470-4d06-bcc6-7ae8b9f41705"
      },
      "execution_count": 130,
      "outputs": [
        {
          "output_type": "execute_result",
          "data": {
            "text/plain": [
              "                               Name     Value\n",
              "0                   hF невзвешенный  0.974483\n",
              "1                hF взвешенный (F1)  0.972659\n",
              "2  hF взвешенный (precision-recall)  0.972696"
            ],
            "text/html": [
              "\n",
              "  <div id=\"df-5b4388b9-b62c-486d-9c2c-d50e9d56b32b\">\n",
              "    <div class=\"colab-df-container\">\n",
              "      <div>\n",
              "<style scoped>\n",
              "    .dataframe tbody tr th:only-of-type {\n",
              "        vertical-align: middle;\n",
              "    }\n",
              "\n",
              "    .dataframe tbody tr th {\n",
              "        vertical-align: top;\n",
              "    }\n",
              "\n",
              "    .dataframe thead th {\n",
              "        text-align: right;\n",
              "    }\n",
              "</style>\n",
              "<table border=\"1\" class=\"dataframe\">\n",
              "  <thead>\n",
              "    <tr style=\"text-align: right;\">\n",
              "      <th></th>\n",
              "      <th>Name</th>\n",
              "      <th>Value</th>\n",
              "    </tr>\n",
              "  </thead>\n",
              "  <tbody>\n",
              "    <tr>\n",
              "      <th>0</th>\n",
              "      <td>hF невзвешенный</td>\n",
              "      <td>0.974483</td>\n",
              "    </tr>\n",
              "    <tr>\n",
              "      <th>1</th>\n",
              "      <td>hF взвешенный (F1)</td>\n",
              "      <td>0.972659</td>\n",
              "    </tr>\n",
              "    <tr>\n",
              "      <th>2</th>\n",
              "      <td>hF взвешенный (precision-recall)</td>\n",
              "      <td>0.972696</td>\n",
              "    </tr>\n",
              "  </tbody>\n",
              "</table>\n",
              "</div>\n",
              "      <button class=\"colab-df-convert\" onclick=\"convertToInteractive('df-5b4388b9-b62c-486d-9c2c-d50e9d56b32b')\"\n",
              "              title=\"Convert this dataframe to an interactive table.\"\n",
              "              style=\"display:none;\">\n",
              "        \n",
              "  <svg xmlns=\"http://www.w3.org/2000/svg\" height=\"24px\"viewBox=\"0 0 24 24\"\n",
              "       width=\"24px\">\n",
              "    <path d=\"M0 0h24v24H0V0z\" fill=\"none\"/>\n",
              "    <path d=\"M18.56 5.44l.94 2.06.94-2.06 2.06-.94-2.06-.94-.94-2.06-.94 2.06-2.06.94zm-11 1L8.5 8.5l.94-2.06 2.06-.94-2.06-.94L8.5 2.5l-.94 2.06-2.06.94zm10 10l.94 2.06.94-2.06 2.06-.94-2.06-.94-.94-2.06-.94 2.06-2.06.94z\"/><path d=\"M17.41 7.96l-1.37-1.37c-.4-.4-.92-.59-1.43-.59-.52 0-1.04.2-1.43.59L10.3 9.45l-7.72 7.72c-.78.78-.78 2.05 0 2.83L4 21.41c.39.39.9.59 1.41.59.51 0 1.02-.2 1.41-.59l7.78-7.78 2.81-2.81c.8-.78.8-2.07 0-2.86zM5.41 20L4 18.59l7.72-7.72 1.47 1.35L5.41 20z\"/>\n",
              "  </svg>\n",
              "      </button>\n",
              "      \n",
              "  <style>\n",
              "    .colab-df-container {\n",
              "      display:flex;\n",
              "      flex-wrap:wrap;\n",
              "      gap: 12px;\n",
              "    }\n",
              "\n",
              "    .colab-df-convert {\n",
              "      background-color: #E8F0FE;\n",
              "      border: none;\n",
              "      border-radius: 50%;\n",
              "      cursor: pointer;\n",
              "      display: none;\n",
              "      fill: #1967D2;\n",
              "      height: 32px;\n",
              "      padding: 0 0 0 0;\n",
              "      width: 32px;\n",
              "    }\n",
              "\n",
              "    .colab-df-convert:hover {\n",
              "      background-color: #E2EBFA;\n",
              "      box-shadow: 0px 1px 2px rgba(60, 64, 67, 0.3), 0px 1px 3px 1px rgba(60, 64, 67, 0.15);\n",
              "      fill: #174EA6;\n",
              "    }\n",
              "\n",
              "    [theme=dark] .colab-df-convert {\n",
              "      background-color: #3B4455;\n",
              "      fill: #D2E3FC;\n",
              "    }\n",
              "\n",
              "    [theme=dark] .colab-df-convert:hover {\n",
              "      background-color: #434B5C;\n",
              "      box-shadow: 0px 1px 3px 1px rgba(0, 0, 0, 0.15);\n",
              "      filter: drop-shadow(0px 1px 2px rgba(0, 0, 0, 0.3));\n",
              "      fill: #FFFFFF;\n",
              "    }\n",
              "  </style>\n",
              "\n",
              "      <script>\n",
              "        const buttonEl =\n",
              "          document.querySelector('#df-5b4388b9-b62c-486d-9c2c-d50e9d56b32b button.colab-df-convert');\n",
              "        buttonEl.style.display =\n",
              "          google.colab.kernel.accessAllowed ? 'block' : 'none';\n",
              "\n",
              "        async function convertToInteractive(key) {\n",
              "          const element = document.querySelector('#df-5b4388b9-b62c-486d-9c2c-d50e9d56b32b');\n",
              "          const dataTable =\n",
              "            await google.colab.kernel.invokeFunction('convertToInteractive',\n",
              "                                                     [key], {});\n",
              "          if (!dataTable) return;\n",
              "\n",
              "          const docLinkHtml = 'Like what you see? Visit the ' +\n",
              "            '<a target=\"_blank\" href=https://colab.research.google.com/notebooks/data_table.ipynb>data table notebook</a>'\n",
              "            + ' to learn more about interactive tables.';\n",
              "          element.innerHTML = '';\n",
              "          dataTable['output_type'] = 'display_data';\n",
              "          await google.colab.output.renderOutput(dataTable, element);\n",
              "          const docLink = document.createElement('div');\n",
              "          docLink.innerHTML = docLinkHtml;\n",
              "          element.appendChild(docLink);\n",
              "        }\n",
              "      </script>\n",
              "    </div>\n",
              "  </div>\n",
              "  "
            ]
          },
          "metadata": {},
          "execution_count": 130
        }
      ]
    },
    {
      "cell_type": "code",
      "source": [
        ""
      ],
      "metadata": {
        "id": "UteFbiMOas0R"
      },
      "execution_count": 130,
      "outputs": []
    },
    {
      "cell_type": "markdown",
      "source": [
        "# Классификация тестовой выборки"
      ],
      "metadata": {
        "id": "cMFMpDrKYky-"
      }
    },
    {
      "cell_type": "markdown",
      "source": [
        "## Подготовка данных"
      ],
      "metadata": {
        "id": "ofviMHuxZtO4"
      }
    },
    {
      "cell_type": "code",
      "source": [
        "df_test.head()"
      ],
      "metadata": {
        "colab": {
          "base_uri": "https://localhost:8080/",
          "height": 461
        },
        "id": "TxkppHTkaNk5",
        "outputId": "bab40f01-0b4b-47cd-b9e2-907fcaeaa62c"
      },
      "execution_count": 131,
      "outputs": [
        {
          "output_type": "execute_result",
          "data": {
            "text/plain": [
              "        id                                              title  \\\n",
              "0  1070974                Браслет из натуральных камней LOTUS   \n",
              "1   450413  Fusion Life - Шампунь для сухих и окрашенных в...   \n",
              "2   126857         Микрофон для ПК jack 3,5мм всенаправленный   \n",
              "3  1577569                             Серьги гвоздики сердце   \n",
              "4   869328  Чёрно-красная стильная брошь \"Тюльпаны\" из акр...   \n",
              "\n",
              "                                   short_description  \\\n",
              "0                                               None   \n",
              "1                                               None   \n",
              "2     универсальный 3,5 мм микрофон запишет ваш звук   \n",
              "3                             Серьги гвоздики сердце   \n",
              "4  Стильная и яркая брошь ручной работы! Великоле...   \n",
              "\n",
              "  name_value_characteristics    rating  feedback_quantity  \n",
              "0                       None  0.000000                  0  \n",
              "1                       None  4.333333                  6  \n",
              "2                       None  3.708333                 24  \n",
              "3                       None  0.000000                  0  \n",
              "4                       None  0.000000                  0  "
            ],
            "text/html": [
              "\n",
              "  <div id=\"df-a5fc5e38-53c0-431a-baeb-883c9efc716c\">\n",
              "    <div class=\"colab-df-container\">\n",
              "      <div>\n",
              "<style scoped>\n",
              "    .dataframe tbody tr th:only-of-type {\n",
              "        vertical-align: middle;\n",
              "    }\n",
              "\n",
              "    .dataframe tbody tr th {\n",
              "        vertical-align: top;\n",
              "    }\n",
              "\n",
              "    .dataframe thead th {\n",
              "        text-align: right;\n",
              "    }\n",
              "</style>\n",
              "<table border=\"1\" class=\"dataframe\">\n",
              "  <thead>\n",
              "    <tr style=\"text-align: right;\">\n",
              "      <th></th>\n",
              "      <th>id</th>\n",
              "      <th>title</th>\n",
              "      <th>short_description</th>\n",
              "      <th>name_value_characteristics</th>\n",
              "      <th>rating</th>\n",
              "      <th>feedback_quantity</th>\n",
              "    </tr>\n",
              "  </thead>\n",
              "  <tbody>\n",
              "    <tr>\n",
              "      <th>0</th>\n",
              "      <td>1070974</td>\n",
              "      <td>Браслет из натуральных камней LOTUS</td>\n",
              "      <td>None</td>\n",
              "      <td>None</td>\n",
              "      <td>0.000000</td>\n",
              "      <td>0</td>\n",
              "    </tr>\n",
              "    <tr>\n",
              "      <th>1</th>\n",
              "      <td>450413</td>\n",
              "      <td>Fusion Life - Шампунь для сухих и окрашенных в...</td>\n",
              "      <td>None</td>\n",
              "      <td>None</td>\n",
              "      <td>4.333333</td>\n",
              "      <td>6</td>\n",
              "    </tr>\n",
              "    <tr>\n",
              "      <th>2</th>\n",
              "      <td>126857</td>\n",
              "      <td>Микрофон для ПК jack 3,5мм всенаправленный</td>\n",
              "      <td>универсальный 3,5 мм микрофон запишет ваш звук</td>\n",
              "      <td>None</td>\n",
              "      <td>3.708333</td>\n",
              "      <td>24</td>\n",
              "    </tr>\n",
              "    <tr>\n",
              "      <th>3</th>\n",
              "      <td>1577569</td>\n",
              "      <td>Серьги гвоздики сердце</td>\n",
              "      <td>Серьги гвоздики сердце</td>\n",
              "      <td>None</td>\n",
              "      <td>0.000000</td>\n",
              "      <td>0</td>\n",
              "    </tr>\n",
              "    <tr>\n",
              "      <th>4</th>\n",
              "      <td>869328</td>\n",
              "      <td>Чёрно-красная стильная брошь \"Тюльпаны\" из акр...</td>\n",
              "      <td>Стильная и яркая брошь ручной работы! Великоле...</td>\n",
              "      <td>None</td>\n",
              "      <td>0.000000</td>\n",
              "      <td>0</td>\n",
              "    </tr>\n",
              "  </tbody>\n",
              "</table>\n",
              "</div>\n",
              "      <button class=\"colab-df-convert\" onclick=\"convertToInteractive('df-a5fc5e38-53c0-431a-baeb-883c9efc716c')\"\n",
              "              title=\"Convert this dataframe to an interactive table.\"\n",
              "              style=\"display:none;\">\n",
              "        \n",
              "  <svg xmlns=\"http://www.w3.org/2000/svg\" height=\"24px\"viewBox=\"0 0 24 24\"\n",
              "       width=\"24px\">\n",
              "    <path d=\"M0 0h24v24H0V0z\" fill=\"none\"/>\n",
              "    <path d=\"M18.56 5.44l.94 2.06.94-2.06 2.06-.94-2.06-.94-.94-2.06-.94 2.06-2.06.94zm-11 1L8.5 8.5l.94-2.06 2.06-.94-2.06-.94L8.5 2.5l-.94 2.06-2.06.94zm10 10l.94 2.06.94-2.06 2.06-.94-2.06-.94-.94-2.06-.94 2.06-2.06.94z\"/><path d=\"M17.41 7.96l-1.37-1.37c-.4-.4-.92-.59-1.43-.59-.52 0-1.04.2-1.43.59L10.3 9.45l-7.72 7.72c-.78.78-.78 2.05 0 2.83L4 21.41c.39.39.9.59 1.41.59.51 0 1.02-.2 1.41-.59l7.78-7.78 2.81-2.81c.8-.78.8-2.07 0-2.86zM5.41 20L4 18.59l7.72-7.72 1.47 1.35L5.41 20z\"/>\n",
              "  </svg>\n",
              "      </button>\n",
              "      \n",
              "  <style>\n",
              "    .colab-df-container {\n",
              "      display:flex;\n",
              "      flex-wrap:wrap;\n",
              "      gap: 12px;\n",
              "    }\n",
              "\n",
              "    .colab-df-convert {\n",
              "      background-color: #E8F0FE;\n",
              "      border: none;\n",
              "      border-radius: 50%;\n",
              "      cursor: pointer;\n",
              "      display: none;\n",
              "      fill: #1967D2;\n",
              "      height: 32px;\n",
              "      padding: 0 0 0 0;\n",
              "      width: 32px;\n",
              "    }\n",
              "\n",
              "    .colab-df-convert:hover {\n",
              "      background-color: #E2EBFA;\n",
              "      box-shadow: 0px 1px 2px rgba(60, 64, 67, 0.3), 0px 1px 3px 1px rgba(60, 64, 67, 0.15);\n",
              "      fill: #174EA6;\n",
              "    }\n",
              "\n",
              "    [theme=dark] .colab-df-convert {\n",
              "      background-color: #3B4455;\n",
              "      fill: #D2E3FC;\n",
              "    }\n",
              "\n",
              "    [theme=dark] .colab-df-convert:hover {\n",
              "      background-color: #434B5C;\n",
              "      box-shadow: 0px 1px 3px 1px rgba(0, 0, 0, 0.15);\n",
              "      filter: drop-shadow(0px 1px 2px rgba(0, 0, 0, 0.3));\n",
              "      fill: #FFFFFF;\n",
              "    }\n",
              "  </style>\n",
              "\n",
              "      <script>\n",
              "        const buttonEl =\n",
              "          document.querySelector('#df-a5fc5e38-53c0-431a-baeb-883c9efc716c button.colab-df-convert');\n",
              "        buttonEl.style.display =\n",
              "          google.colab.kernel.accessAllowed ? 'block' : 'none';\n",
              "\n",
              "        async function convertToInteractive(key) {\n",
              "          const element = document.querySelector('#df-a5fc5e38-53c0-431a-baeb-883c9efc716c');\n",
              "          const dataTable =\n",
              "            await google.colab.kernel.invokeFunction('convertToInteractive',\n",
              "                                                     [key], {});\n",
              "          if (!dataTable) return;\n",
              "\n",
              "          const docLinkHtml = 'Like what you see? Visit the ' +\n",
              "            '<a target=\"_blank\" href=https://colab.research.google.com/notebooks/data_table.ipynb>data table notebook</a>'\n",
              "            + ' to learn more about interactive tables.';\n",
              "          element.innerHTML = '';\n",
              "          dataTable['output_type'] = 'display_data';\n",
              "          await google.colab.output.renderOutput(dataTable, element);\n",
              "          const docLink = document.createElement('div');\n",
              "          docLink.innerHTML = docLinkHtml;\n",
              "          element.appendChild(docLink);\n",
              "        }\n",
              "      </script>\n",
              "    </div>\n",
              "  </div>\n",
              "  "
            ]
          },
          "metadata": {},
          "execution_count": 131
        }
      ]
    },
    {
      "cell_type": "code",
      "source": [
        "df_test.name_value_characteristics = df_test.name_value_characteristics.fillna('ноль')\n",
        "df_test.short_description = df_test.short_description.fillna('ноль')\n",
        "df_test.short_description = df_test.short_description.replace('None','ноль')\n",
        "\n",
        "df_test = to_lemma(df_test, 'title')\n",
        "df_test = to_lemma(df_test, 'short_description')\n",
        "df_test = to_lemma(df_test, 'name_value_characteristics')\n",
        "\n",
        "df_test['title_all'] = df_test['title'] +\tdf_test['short_description'] + df_test['name_value_characteristics']\n",
        "df_test['title_all'] = df_test['title_all'].apply(lambda x: x.replace('ноль', ''))\n",
        "df_test.head()"
      ],
      "metadata": {
        "colab": {
          "base_uri": "https://localhost:8080/",
          "height": 496
        },
        "id": "oDMZRkZcZsZy",
        "outputId": "5c84acdf-bba0-44e6-bd32-9f626100aa6a"
      },
      "execution_count": 132,
      "outputs": [
        {
          "output_type": "execute_result",
          "data": {
            "text/plain": [
              "        id                                              title  \\\n",
              "0  1070974                  браслет натуральный камень lotus    \n",
              "1   450413   fusion life шампунь сухой окрашивать волос ли...   \n",
              "2   126857            микрофон пк jack 3 5мм всенаправленный    \n",
              "3  1577569                            серьга гвоздика сердце    \n",
              "4   869328   черный красный стильный брошь тюльпан акрил б...   \n",
              "\n",
              "                                   short_description  \\\n",
              "0                                              ноль    \n",
              "1                                              ноль    \n",
              "2   универсальный 3 5 мм микрофон записывать ваш ...   \n",
              "3                            серьга гвоздика сердце    \n",
              "4   стильный яркий брошь ручной работа великолепн...   \n",
              "\n",
              "  name_value_characteristics    rating  feedback_quantity  \\\n",
              "0                      ноль   0.000000                  0   \n",
              "1                      ноль   4.333333                  6   \n",
              "2                      ноль   3.708333                 24   \n",
              "3                      ноль   0.000000                  0   \n",
              "4                      ноль   0.000000                  0   \n",
              "\n",
              "                                           title_all  \n",
              "0                браслет натуральный камень lotus     \n",
              "1   fusion life шампунь сухой окрашивать волос ли...  \n",
              "2   микрофон пк jack 3 5мм всенаправленный  униве...  \n",
              "3   серьга гвоздика сердце  серьга гвоздика сердц...  \n",
              "4   черный красный стильный брошь тюльпан акрил б...  "
            ],
            "text/html": [
              "\n",
              "  <div id=\"df-73e51c1d-68a7-4209-a88b-c989ffa6d1c1\">\n",
              "    <div class=\"colab-df-container\">\n",
              "      <div>\n",
              "<style scoped>\n",
              "    .dataframe tbody tr th:only-of-type {\n",
              "        vertical-align: middle;\n",
              "    }\n",
              "\n",
              "    .dataframe tbody tr th {\n",
              "        vertical-align: top;\n",
              "    }\n",
              "\n",
              "    .dataframe thead th {\n",
              "        text-align: right;\n",
              "    }\n",
              "</style>\n",
              "<table border=\"1\" class=\"dataframe\">\n",
              "  <thead>\n",
              "    <tr style=\"text-align: right;\">\n",
              "      <th></th>\n",
              "      <th>id</th>\n",
              "      <th>title</th>\n",
              "      <th>short_description</th>\n",
              "      <th>name_value_characteristics</th>\n",
              "      <th>rating</th>\n",
              "      <th>feedback_quantity</th>\n",
              "      <th>title_all</th>\n",
              "    </tr>\n",
              "  </thead>\n",
              "  <tbody>\n",
              "    <tr>\n",
              "      <th>0</th>\n",
              "      <td>1070974</td>\n",
              "      <td>браслет натуральный камень lotus</td>\n",
              "      <td>ноль</td>\n",
              "      <td>ноль</td>\n",
              "      <td>0.000000</td>\n",
              "      <td>0</td>\n",
              "      <td>браслет натуральный камень lotus</td>\n",
              "    </tr>\n",
              "    <tr>\n",
              "      <th>1</th>\n",
              "      <td>450413</td>\n",
              "      <td>fusion life шампунь сухой окрашивать волос ли...</td>\n",
              "      <td>ноль</td>\n",
              "      <td>ноль</td>\n",
              "      <td>4.333333</td>\n",
              "      <td>6</td>\n",
              "      <td>fusion life шампунь сухой окрашивать волос ли...</td>\n",
              "    </tr>\n",
              "    <tr>\n",
              "      <th>2</th>\n",
              "      <td>126857</td>\n",
              "      <td>микрофон пк jack 3 5мм всенаправленный</td>\n",
              "      <td>универсальный 3 5 мм микрофон записывать ваш ...</td>\n",
              "      <td>ноль</td>\n",
              "      <td>3.708333</td>\n",
              "      <td>24</td>\n",
              "      <td>микрофон пк jack 3 5мм всенаправленный  униве...</td>\n",
              "    </tr>\n",
              "    <tr>\n",
              "      <th>3</th>\n",
              "      <td>1577569</td>\n",
              "      <td>серьга гвоздика сердце</td>\n",
              "      <td>серьга гвоздика сердце</td>\n",
              "      <td>ноль</td>\n",
              "      <td>0.000000</td>\n",
              "      <td>0</td>\n",
              "      <td>серьга гвоздика сердце  серьга гвоздика сердц...</td>\n",
              "    </tr>\n",
              "    <tr>\n",
              "      <th>4</th>\n",
              "      <td>869328</td>\n",
              "      <td>черный красный стильный брошь тюльпан акрил б...</td>\n",
              "      <td>стильный яркий брошь ручной работа великолепн...</td>\n",
              "      <td>ноль</td>\n",
              "      <td>0.000000</td>\n",
              "      <td>0</td>\n",
              "      <td>черный красный стильный брошь тюльпан акрил б...</td>\n",
              "    </tr>\n",
              "  </tbody>\n",
              "</table>\n",
              "</div>\n",
              "      <button class=\"colab-df-convert\" onclick=\"convertToInteractive('df-73e51c1d-68a7-4209-a88b-c989ffa6d1c1')\"\n",
              "              title=\"Convert this dataframe to an interactive table.\"\n",
              "              style=\"display:none;\">\n",
              "        \n",
              "  <svg xmlns=\"http://www.w3.org/2000/svg\" height=\"24px\"viewBox=\"0 0 24 24\"\n",
              "       width=\"24px\">\n",
              "    <path d=\"M0 0h24v24H0V0z\" fill=\"none\"/>\n",
              "    <path d=\"M18.56 5.44l.94 2.06.94-2.06 2.06-.94-2.06-.94-.94-2.06-.94 2.06-2.06.94zm-11 1L8.5 8.5l.94-2.06 2.06-.94-2.06-.94L8.5 2.5l-.94 2.06-2.06.94zm10 10l.94 2.06.94-2.06 2.06-.94-2.06-.94-.94-2.06-.94 2.06-2.06.94z\"/><path d=\"M17.41 7.96l-1.37-1.37c-.4-.4-.92-.59-1.43-.59-.52 0-1.04.2-1.43.59L10.3 9.45l-7.72 7.72c-.78.78-.78 2.05 0 2.83L4 21.41c.39.39.9.59 1.41.59.51 0 1.02-.2 1.41-.59l7.78-7.78 2.81-2.81c.8-.78.8-2.07 0-2.86zM5.41 20L4 18.59l7.72-7.72 1.47 1.35L5.41 20z\"/>\n",
              "  </svg>\n",
              "      </button>\n",
              "      \n",
              "  <style>\n",
              "    .colab-df-container {\n",
              "      display:flex;\n",
              "      flex-wrap:wrap;\n",
              "      gap: 12px;\n",
              "    }\n",
              "\n",
              "    .colab-df-convert {\n",
              "      background-color: #E8F0FE;\n",
              "      border: none;\n",
              "      border-radius: 50%;\n",
              "      cursor: pointer;\n",
              "      display: none;\n",
              "      fill: #1967D2;\n",
              "      height: 32px;\n",
              "      padding: 0 0 0 0;\n",
              "      width: 32px;\n",
              "    }\n",
              "\n",
              "    .colab-df-convert:hover {\n",
              "      background-color: #E2EBFA;\n",
              "      box-shadow: 0px 1px 2px rgba(60, 64, 67, 0.3), 0px 1px 3px 1px rgba(60, 64, 67, 0.15);\n",
              "      fill: #174EA6;\n",
              "    }\n",
              "\n",
              "    [theme=dark] .colab-df-convert {\n",
              "      background-color: #3B4455;\n",
              "      fill: #D2E3FC;\n",
              "    }\n",
              "\n",
              "    [theme=dark] .colab-df-convert:hover {\n",
              "      background-color: #434B5C;\n",
              "      box-shadow: 0px 1px 3px 1px rgba(0, 0, 0, 0.15);\n",
              "      filter: drop-shadow(0px 1px 2px rgba(0, 0, 0, 0.3));\n",
              "      fill: #FFFFFF;\n",
              "    }\n",
              "  </style>\n",
              "\n",
              "      <script>\n",
              "        const buttonEl =\n",
              "          document.querySelector('#df-73e51c1d-68a7-4209-a88b-c989ffa6d1c1 button.colab-df-convert');\n",
              "        buttonEl.style.display =\n",
              "          google.colab.kernel.accessAllowed ? 'block' : 'none';\n",
              "\n",
              "        async function convertToInteractive(key) {\n",
              "          const element = document.querySelector('#df-73e51c1d-68a7-4209-a88b-c989ffa6d1c1');\n",
              "          const dataTable =\n",
              "            await google.colab.kernel.invokeFunction('convertToInteractive',\n",
              "                                                     [key], {});\n",
              "          if (!dataTable) return;\n",
              "\n",
              "          const docLinkHtml = 'Like what you see? Visit the ' +\n",
              "            '<a target=\"_blank\" href=https://colab.research.google.com/notebooks/data_table.ipynb>data table notebook</a>'\n",
              "            + ' to learn more about interactive tables.';\n",
              "          element.innerHTML = '';\n",
              "          dataTable['output_type'] = 'display_data';\n",
              "          await google.colab.output.renderOutput(dataTable, element);\n",
              "          const docLink = document.createElement('div');\n",
              "          docLink.innerHTML = docLinkHtml;\n",
              "          element.appendChild(docLink);\n",
              "        }\n",
              "      </script>\n",
              "    </div>\n",
              "  </div>\n",
              "  "
            ]
          },
          "metadata": {},
          "execution_count": 132
        }
      ]
    },
    {
      "cell_type": "code",
      "source": [
        "result = df_test[['id']]\n",
        "result.set_index('id', inplace=True)"
      ],
      "metadata": {
        "id": "w_1AvO2QdWng"
      },
      "execution_count": 133,
      "outputs": []
    },
    {
      "cell_type": "code",
      "source": [
        "df_test.set_index('id', inplace=True)"
      ],
      "metadata": {
        "id": "f9CqYt78a_AL"
      },
      "execution_count": 134,
      "outputs": []
    },
    {
      "cell_type": "code",
      "source": [
        "test = df_test['title_all']\n",
        "test.head()"
      ],
      "metadata": {
        "colab": {
          "base_uri": "https://localhost:8080/"
        },
        "id": "-bA7pjRbbwhH",
        "outputId": "61afe8de-2a6d-4c55-9ffa-a6828f99ee2d"
      },
      "execution_count": 135,
      "outputs": [
        {
          "output_type": "execute_result",
          "data": {
            "text/plain": [
              "id\n",
              "1070974                  браслет натуральный камень lotus   \n",
              "450413      fusion life шампунь сухой окрашивать волос ли...\n",
              "126857      микрофон пк jack 3 5мм всенаправленный  униве...\n",
              "1577569     серьга гвоздика сердце  серьга гвоздика сердц...\n",
              "869328      черный красный стильный брошь тюльпан акрил б...\n",
              "Name: title_all, dtype: object"
            ]
          },
          "metadata": {},
          "execution_count": 135
        }
      ]
    },
    {
      "cell_type": "markdown",
      "source": [
        "## **Классификация**"
      ],
      "metadata": {
        "id": "-eIsXYmDgQji"
      }
    },
    {
      "cell_type": "code",
      "source": [
        "pd.options.mode.chained_assignment = None"
      ],
      "metadata": {
        "id": "WjI-dKSyukMY"
      },
      "execution_count": 136,
      "outputs": []
    },
    {
      "cell_type": "code",
      "source": [
        "# тут немного переделали функции\n",
        "\n",
        "def train_val_split(id, col, col_2, x_train, x_valid, y_train, y_valid,tf_idf):\n",
        "\n",
        "\n",
        "  y_train_parent = y_train.loc[y_train[col]==id, col_2]\n",
        "  x_train_parent = x_train.loc[y_train_parent.index]\n",
        "  y_valid_parent = y_valid.loc[y_valid[f'{col}_preds']==id,f'{col}_preds']\n",
        "  x_valid_parent = x_valid.loc[y_valid_parent.index]\n",
        "\n",
        "  if x_train_parent.shape[0]==0 or x_valid_parent.shape[0]==0:\n",
        "    return x_train_parent, x_valid_parent, y_train_parent, y_valid_parent\n",
        "  else:\n",
        "    x_train_parent = tf_idf.transform(x_train_parent)\n",
        "    x_valid_parent = tf_idf.transform(x_valid_parent)\n",
        "\n",
        "  return x_train_parent, x_valid_parent, y_train_parent, y_valid_parent\n",
        "\n",
        "\n",
        "# функция для обучения и классификации\n",
        "\n",
        "def fit_predict(model, col, col_2, x_train, x_valid, y_train, y_valid,tf_idf):\n",
        "  y_valid[f'{col_2}_preds'] = 'w'\n",
        "  list_labels = y_train[col].unique()\n",
        "  for id in tqdm(list_labels):\n",
        "     x_train_parent, x_valid_parent, y_train_parent, y_valid_parent = train_val_split(id, col, col_2, x_train, x_valid, y_train, y_valid,tf_idf)\n",
        "   \n",
        "     if x_train_parent.shape[0]==0 or x_valid_parent.shape[0]==0:\n",
        "       continue\n",
        "     if len(y_train_parent.unique())<2:\n",
        "       preds = y_train_parent.to_list()[0]\n",
        "       y_valid.loc[y_valid[f'{col}_preds']==id, f'{col_2}_preds'] = preds\n",
        "     else:\n",
        "       model.fit(x_train_parent, y_train_parent)\n",
        "       preds = model.predict(x_valid_parent)\n",
        "      #  print(preds)\n",
        "     \n",
        "       y_valid.loc[y_valid[f'{col}_preds']==id, f'{col_2}_preds'] = preds\n"
      ],
      "metadata": {
        "id": "bTlEmaAYgsJq"
      },
      "execution_count": 137,
      "outputs": []
    },
    {
      "cell_type": "code",
      "source": [
        "train.drop_duplicates(inplace=True)"
      ],
      "metadata": {
        "id": "a4mhaNXsY31M"
      },
      "execution_count": 138,
      "outputs": []
    },
    {
      "cell_type": "code",
      "source": [
        "x_train = train['title_all']\n",
        "y_train = train[['level_2', 'level_3', 'level_4', 'level_5', 'level_6']]"
      ],
      "metadata": {
        "id": "LD-sVFmHYigh"
      },
      "execution_count": 139,
      "outputs": []
    },
    {
      "cell_type": "code",
      "source": [
        "tf_idf = TfidfVectorizer(ngram_range=(1,2))\n",
        "tf_idf.fit(x_train)"
      ],
      "metadata": {
        "colab": {
          "base_uri": "https://localhost:8080/"
        },
        "id": "l_MT-QlAf0Ip",
        "outputId": "5c88fae0-92b6-4d23-93da-570d142d602d"
      },
      "execution_count": 140,
      "outputs": [
        {
          "output_type": "execute_result",
          "data": {
            "text/plain": [
              "TfidfVectorizer(ngram_range=(1, 2))"
            ]
          },
          "metadata": {},
          "execution_count": 140
        }
      ]
    },
    {
      "cell_type": "code",
      "source": [
        "clf = LinearSVC()"
      ],
      "metadata": {
        "id": "Emz197FIhGDA"
      },
      "execution_count": 141,
      "outputs": []
    },
    {
      "cell_type": "code",
      "source": [
        "y_train_parent = y_train['level_2']\n",
        "x_train_parent = tf_idf.transform(x_train)\n",
        "\n",
        "test_parent = tf_idf.transform(test)\n",
        "\n",
        "clf.fit(x_train_parent,y_train_parent)\n",
        "preds = clf.predict(test_parent)\n",
        "result['level_2_preds'] = preds"
      ],
      "metadata": {
        "id": "d2krU1xdYilT"
      },
      "execution_count": 142,
      "outputs": []
    },
    {
      "cell_type": "code",
      "source": [
        ""
      ],
      "metadata": {
        "id": "iDs3BfLei-og"
      },
      "execution_count": 142,
      "outputs": []
    },
    {
      "cell_type": "code",
      "source": [
        "fit_predict(clf, 'level_2', 'level_3', x_train, test, y_train, result, tf_idf)\n"
      ],
      "metadata": {
        "colab": {
          "base_uri": "https://localhost:8080/"
        },
        "id": "QEuP-1cPYipm",
        "outputId": "f83a9060-b48f-4f0c-a084-7e75fd42412b"
      },
      "execution_count": 143,
      "outputs": [
        {
          "output_type": "stream",
          "name": "stderr",
          "text": [
            "100%|██████████| 5/5 [00:18<00:00,  3.70s/it]\n"
          ]
        }
      ]
    },
    {
      "cell_type": "code",
      "source": [
        "fit_predict(clf, 'level_3', 'level_4', x_train, test, y_train, result, tf_idf)"
      ],
      "metadata": {
        "colab": {
          "base_uri": "https://localhost:8080/"
        },
        "id": "r9iYxPSXYits",
        "outputId": "dacf7c3b-0987-426c-d79e-978f6adbb137"
      },
      "execution_count": 144,
      "outputs": [
        {
          "output_type": "stream",
          "name": "stderr",
          "text": [
            "100%|██████████| 50/50 [00:24<00:00,  2.05it/s]\n"
          ]
        }
      ]
    },
    {
      "cell_type": "code",
      "source": [
        "fit_predict(clf, 'level_4', 'level_5', x_train, test, y_train, result, tf_idf)"
      ],
      "metadata": {
        "colab": {
          "base_uri": "https://localhost:8080/"
        },
        "id": "KjB1BHfdYiyI",
        "outputId": "069f04f0-1019-4111-cce1-720a5590744e"
      },
      "execution_count": 145,
      "outputs": [
        {
          "output_type": "stream",
          "name": "stderr",
          "text": [
            "100%|██████████| 386/386 [00:43<00:00,  8.78it/s]\n"
          ]
        }
      ]
    },
    {
      "cell_type": "code",
      "source": [
        "fit_predict(clf, 'level_5', 'level_6', x_train, test, y_train, result, tf_idf)"
      ],
      "metadata": {
        "colab": {
          "base_uri": "https://localhost:8080/"
        },
        "id": "6uqxo818Yi1z",
        "outputId": "e36f8a70-c86c-407b-8523-5db0a07899ff"
      },
      "execution_count": 146,
      "outputs": [
        {
          "output_type": "stream",
          "name": "stderr",
          "text": [
            "100%|██████████| 983/983 [00:58<00:00, 16.88it/s]\n"
          ]
        }
      ]
    },
    {
      "cell_type": "code",
      "source": [
        ""
      ],
      "metadata": {
        "id": "CLEKeztoYi5h"
      },
      "execution_count": 146,
      "outputs": []
    },
    {
      "cell_type": "markdown",
      "source": [
        "## **Итоговый файл**"
      ],
      "metadata": {
        "id": "Jz2c_NW8-QPU"
      }
    },
    {
      "cell_type": "code",
      "source": [
        "result.loc[result.level_4_preds=='non_type','level_4_preds'] = result.level_3_preds\n",
        "result.loc[result.level_5_preds=='non_type','level_5_preds'] = result.level_4_preds\n",
        "result.loc[result.level_6_preds=='non_type','level_6_preds'] = result.level_5_preds\n"
      ],
      "metadata": {
        "id": "qKq2hycZpP5Y"
      },
      "execution_count": 147,
      "outputs": []
    },
    {
      "cell_type": "code",
      "source": [
        "result_end = result[['level_6_preds']]\n",
        "result_end = result_end.rename_axis('id').reset_index()\n",
        "result_end.rename(columns={'level_6_preds': 'predicted_category_id'}, inplace=True)\n",
        "result_end['predicted_category_id'] = result_end['predicted_category_id'].astype('int')\n",
        "\n",
        "result_end.head()"
      ],
      "metadata": {
        "colab": {
          "base_uri": "https://localhost:8080/",
          "height": 206
        },
        "id": "W2aNyvDepwIv",
        "outputId": "35b31bf5-8d55-4242-add9-3931c4cc8f22"
      },
      "execution_count": 148,
      "outputs": [
        {
          "output_type": "execute_result",
          "data": {
            "text/plain": [
              "        id  predicted_category_id\n",
              "0  1070974                  11574\n",
              "1   450413                  11878\n",
              "2   126857                  13299\n",
              "3  1577569                  13061\n",
              "4   869328                  12813"
            ],
            "text/html": [
              "\n",
              "  <div id=\"df-c882cf4b-3760-420c-aeb1-d80a6bb41540\">\n",
              "    <div class=\"colab-df-container\">\n",
              "      <div>\n",
              "<style scoped>\n",
              "    .dataframe tbody tr th:only-of-type {\n",
              "        vertical-align: middle;\n",
              "    }\n",
              "\n",
              "    .dataframe tbody tr th {\n",
              "        vertical-align: top;\n",
              "    }\n",
              "\n",
              "    .dataframe thead th {\n",
              "        text-align: right;\n",
              "    }\n",
              "</style>\n",
              "<table border=\"1\" class=\"dataframe\">\n",
              "  <thead>\n",
              "    <tr style=\"text-align: right;\">\n",
              "      <th></th>\n",
              "      <th>id</th>\n",
              "      <th>predicted_category_id</th>\n",
              "    </tr>\n",
              "  </thead>\n",
              "  <tbody>\n",
              "    <tr>\n",
              "      <th>0</th>\n",
              "      <td>1070974</td>\n",
              "      <td>11574</td>\n",
              "    </tr>\n",
              "    <tr>\n",
              "      <th>1</th>\n",
              "      <td>450413</td>\n",
              "      <td>11878</td>\n",
              "    </tr>\n",
              "    <tr>\n",
              "      <th>2</th>\n",
              "      <td>126857</td>\n",
              "      <td>13299</td>\n",
              "    </tr>\n",
              "    <tr>\n",
              "      <th>3</th>\n",
              "      <td>1577569</td>\n",
              "      <td>13061</td>\n",
              "    </tr>\n",
              "    <tr>\n",
              "      <th>4</th>\n",
              "      <td>869328</td>\n",
              "      <td>12813</td>\n",
              "    </tr>\n",
              "  </tbody>\n",
              "</table>\n",
              "</div>\n",
              "      <button class=\"colab-df-convert\" onclick=\"convertToInteractive('df-c882cf4b-3760-420c-aeb1-d80a6bb41540')\"\n",
              "              title=\"Convert this dataframe to an interactive table.\"\n",
              "              style=\"display:none;\">\n",
              "        \n",
              "  <svg xmlns=\"http://www.w3.org/2000/svg\" height=\"24px\"viewBox=\"0 0 24 24\"\n",
              "       width=\"24px\">\n",
              "    <path d=\"M0 0h24v24H0V0z\" fill=\"none\"/>\n",
              "    <path d=\"M18.56 5.44l.94 2.06.94-2.06 2.06-.94-2.06-.94-.94-2.06-.94 2.06-2.06.94zm-11 1L8.5 8.5l.94-2.06 2.06-.94-2.06-.94L8.5 2.5l-.94 2.06-2.06.94zm10 10l.94 2.06.94-2.06 2.06-.94-2.06-.94-.94-2.06-.94 2.06-2.06.94z\"/><path d=\"M17.41 7.96l-1.37-1.37c-.4-.4-.92-.59-1.43-.59-.52 0-1.04.2-1.43.59L10.3 9.45l-7.72 7.72c-.78.78-.78 2.05 0 2.83L4 21.41c.39.39.9.59 1.41.59.51 0 1.02-.2 1.41-.59l7.78-7.78 2.81-2.81c.8-.78.8-2.07 0-2.86zM5.41 20L4 18.59l7.72-7.72 1.47 1.35L5.41 20z\"/>\n",
              "  </svg>\n",
              "      </button>\n",
              "      \n",
              "  <style>\n",
              "    .colab-df-container {\n",
              "      display:flex;\n",
              "      flex-wrap:wrap;\n",
              "      gap: 12px;\n",
              "    }\n",
              "\n",
              "    .colab-df-convert {\n",
              "      background-color: #E8F0FE;\n",
              "      border: none;\n",
              "      border-radius: 50%;\n",
              "      cursor: pointer;\n",
              "      display: none;\n",
              "      fill: #1967D2;\n",
              "      height: 32px;\n",
              "      padding: 0 0 0 0;\n",
              "      width: 32px;\n",
              "    }\n",
              "\n",
              "    .colab-df-convert:hover {\n",
              "      background-color: #E2EBFA;\n",
              "      box-shadow: 0px 1px 2px rgba(60, 64, 67, 0.3), 0px 1px 3px 1px rgba(60, 64, 67, 0.15);\n",
              "      fill: #174EA6;\n",
              "    }\n",
              "\n",
              "    [theme=dark] .colab-df-convert {\n",
              "      background-color: #3B4455;\n",
              "      fill: #D2E3FC;\n",
              "    }\n",
              "\n",
              "    [theme=dark] .colab-df-convert:hover {\n",
              "      background-color: #434B5C;\n",
              "      box-shadow: 0px 1px 3px 1px rgba(0, 0, 0, 0.15);\n",
              "      filter: drop-shadow(0px 1px 2px rgba(0, 0, 0, 0.3));\n",
              "      fill: #FFFFFF;\n",
              "    }\n",
              "  </style>\n",
              "\n",
              "      <script>\n",
              "        const buttonEl =\n",
              "          document.querySelector('#df-c882cf4b-3760-420c-aeb1-d80a6bb41540 button.colab-df-convert');\n",
              "        buttonEl.style.display =\n",
              "          google.colab.kernel.accessAllowed ? 'block' : 'none';\n",
              "\n",
              "        async function convertToInteractive(key) {\n",
              "          const element = document.querySelector('#df-c882cf4b-3760-420c-aeb1-d80a6bb41540');\n",
              "          const dataTable =\n",
              "            await google.colab.kernel.invokeFunction('convertToInteractive',\n",
              "                                                     [key], {});\n",
              "          if (!dataTable) return;\n",
              "\n",
              "          const docLinkHtml = 'Like what you see? Visit the ' +\n",
              "            '<a target=\"_blank\" href=https://colab.research.google.com/notebooks/data_table.ipynb>data table notebook</a>'\n",
              "            + ' to learn more about interactive tables.';\n",
              "          element.innerHTML = '';\n",
              "          dataTable['output_type'] = 'display_data';\n",
              "          await google.colab.output.renderOutput(dataTable, element);\n",
              "          const docLink = document.createElement('div');\n",
              "          docLink.innerHTML = docLinkHtml;\n",
              "          element.appendChild(docLink);\n",
              "        }\n",
              "      </script>\n",
              "    </div>\n",
              "  </div>\n",
              "  "
            ]
          },
          "metadata": {},
          "execution_count": 148
        }
      ]
    },
    {
      "cell_type": "code",
      "source": [
        "result_end.to_parquet('result.parquet')"
      ],
      "metadata": {
        "id": "51fz8fQMSy7p"
      },
      "execution_count": 150,
      "outputs": []
    },
    {
      "cell_type": "code",
      "source": [
        ""
      ],
      "metadata": {
        "id": "8uU2u1Rf8Zf8"
      },
      "execution_count": null,
      "outputs": []
    }
  ]
}